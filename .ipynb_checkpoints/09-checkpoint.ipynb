{
 "cells": [
  {
   "cell_type": "code",
   "execution_count": 15,
   "metadata": {},
   "outputs": [],
   "source": [
    "from pathlib import Path\n",
    "import os"
   ]
  },
  {
   "cell_type": "markdown",
   "metadata": {},
   "source": [
    "### MAD LIBS"
   ]
  },
  {
   "cell_type": "code",
   "execution_count": 19,
   "metadata": {},
   "outputs": [
    {
     "name": "stdout",
     "output_type": "stream",
     "text": [
      "Enter ADJECTIVE substitute: \n",
      "silly\n",
      "Enter NOUN substitute: \n",
      "cat\n",
      "Enter NOUN substitute: \n",
      "car\n",
      "Enter VERB substitute: \n",
      "scratched\n",
      "Enter NOUN substitute: \n",
      "bike\n",
      "The silly cat walked to the car and then scratched. A nearby bike was unaffected by these events.\n",
      "\n"
     ]
    }
   ],
   "source": [
    "import re\n",
    "\n",
    "spamPath = Path.cwd()/ Path('spam')\n",
    "file = open(spamPath/Path('madlibs'))\n",
    "text = file.read()\n",
    "file.close()\n",
    "\n",
    "regex = re.compile(r'(ADJECTIVE)|(NOUN)|(VERB)')\n",
    "\n",
    "while True:\n",
    "    result = regex.search(text)\n",
    "    try:\n",
    "        print(f\"Enter {result.group()} substitute: \")\n",
    "    except AttributeError:\n",
    "        break\n",
    "        \n",
    "    subst = input()\n",
    "    text = regex.sub(subst, text, 1)\n",
    "    \n",
    "print(text)\n",
    "\n",
    "file = open(spamPath/Path('madlibs_ans'), 'w')\n",
    "file.write(text)\n",
    "file.close()"
   ]
  },
  {
   "cell_type": "markdown",
   "metadata": {},
   "source": [
    "### REGEX SEARCH"
   ]
  },
  {
   "cell_type": "code",
   "execution_count": 29,
   "metadata": {},
   "outputs": [
    {
     "name": "stdout",
     "output_type": "stream",
     "text": [
      "Enter regex: (sd\n",
      "Invalid Regex\n",
      "/home/lakshmi/AutomateBoringStuffWithPython/spam/spam1.txt\n",
      "[]\n",
      "/home/lakshmi/AutomateBoringStuffWithPython/spam/spam2.txt\n",
      "['qw']\n"
     ]
    }
   ],
   "source": [
    "import re\n",
    "\n",
    "# List all files in directory and filter those that aren't txt files\n",
    "\n",
    "p = Path.cwd()/Path('spam')\n",
    "\n",
    "reg = input(\"Enter regex: \")\n",
    "\n",
    "try:\n",
    "    search_regex = re.compile(reg)\n",
    "    for filename in list(p.glob('*.txt')):\n",
    "        print(filename)\n",
    "\n",
    "        opened_file = open(filename)\n",
    "        contents = opened_file.read()\n",
    "        ans = search_regex.findall(contents)\n",
    "        print(ans)\n",
    "except:\n",
    "    print(\"Invalid Regex\")\n",
    "\n"
   ]
  },
  {
   "cell_type": "markdown",
   "metadata": {},
   "source": [
    "## PLAYGROUND"
   ]
  },
  {
   "cell_type": "code",
   "execution_count": 17,
   "metadata": {},
   "outputs": [],
   "source": [
    "p = Path('h','p','we')\n",
    "str(p)\n",
    "home = Path.cwd()"
   ]
  },
  {
   "cell_type": "code",
   "execution_count": 13,
   "metadata": {},
   "outputs": [],
   "source": [
    "Path(home/\"spam\").mkdir()"
   ]
  },
  {
   "cell_type": "code",
   "execution_count": 14,
   "metadata": {},
   "outputs": [
    {
     "data": {
      "text/plain": [
       "PosixPath('/home/lakshmi/AutomateBoringStuffWithPython/my/rel/path')"
      ]
     },
     "execution_count": 14,
     "metadata": {},
     "output_type": "execute_result"
    }
   ],
   "source": [
    "Path.cwd()/Path(\"my/rel/path\")"
   ]
  },
  {
   "cell_type": "code",
   "execution_count": 51,
   "metadata": {},
   "outputs": [
    {
     "name": "stdout",
     "output_type": "stream",
     "text": [
      "/home/lakshmi/AutomateBoringStuffWithPython\n",
      "/home/lakshmi\n",
      "/home\n",
      "/\n"
     ]
    },
    {
     "data": {
      "text/plain": [
       "6849"
      ]
     },
     "execution_count": 51,
     "metadata": {},
     "output_type": "execute_result"
    }
   ],
   "source": [
    "home = Path.cwd()\n",
    "home = home/Path('07.ipynb')\n",
    "home.anchor\n",
    "home.stem # filename\n",
    "home.suffix #extension\n",
    "home.drive #the topmost path\n",
    "for i in range(4):\n",
    "    print(home.parents[i])\n",
    "os.path.split(home)\n",
    "str(home).split(os.sep)\n",
    "#home.split(os.sep) doesn't work because home needs to be string inorder to split it\n",
    "os.sep\n",
    "os.path.getsize(str(home))"
   ]
  },
  {
   "cell_type": "code",
   "execution_count": 57,
   "metadata": {},
   "outputs": [
    {
     "name": "stdout",
     "output_type": "stream",
     "text": [
      "['09.ipynb', 'README.md', '03.ipynb', '07.ipynb', '06.ipynb', '.git', '04.ipynb', '01.md', '02.ipynb', 'test.py', '08.ipynb', '.ipynb_checkpoints', '05.ipynb']\n",
      "73222\n"
     ]
    }
   ],
   "source": [
    "totalSize = 0\n",
    "print(os.listdir(Path.cwd()))\n",
    "for filename in os.listdir(Path.cwd()):\n",
    "    totalSize = totalSize + os.path.getsize(Path.cwd()/Path(filename))\n",
    "print(totalSize)"
   ]
  },
  {
   "cell_type": "code",
   "execution_count": 20,
   "metadata": {},
   "outputs": [
    {
     "data": {
      "text/plain": [
       "[PosixPath('/home/lakshmi/AutomateBoringStuffWithPython/09.ipynb'),\n",
       " PosixPath('/home/lakshmi/AutomateBoringStuffWithPython/03.ipynb'),\n",
       " PosixPath('/home/lakshmi/AutomateBoringStuffWithPython/07.ipynb'),\n",
       " PosixPath('/home/lakshmi/AutomateBoringStuffWithPython/06.ipynb'),\n",
       " PosixPath('/home/lakshmi/AutomateBoringStuffWithPython/04.ipynb'),\n",
       " PosixPath('/home/lakshmi/AutomateBoringStuffWithPython/02.ipynb'),\n",
       " PosixPath('/home/lakshmi/AutomateBoringStuffWithPython/08.ipynb'),\n",
       " PosixPath('/home/lakshmi/AutomateBoringStuffWithPython/05.ipynb')]"
      ]
     },
     "execution_count": 20,
     "metadata": {},
     "output_type": "execute_result"
    }
   ],
   "source": [
    "p = Path.cwd()\n",
    "a = list(p.glob('*.ipynb'))\n",
    "a"
   ]
  },
  {
   "cell_type": "code",
   "execution_count": 87,
   "metadata": {},
   "outputs": [
    {
     "name": "stdout",
     "output_type": "stream",
     "text": [
      "/home/lakshmi/AutomateBoringStuffWithPython\n"
     ]
    },
    {
     "data": {
      "text/plain": [
       "True"
      ]
     },
     "execution_count": 87,
     "metadata": {},
     "output_type": "execute_result"
    }
   ],
   "source": [
    "p = Path.cwd()\n",
    "#p = p/Path(\"08.ipynb\")\n",
    "print(p)\n",
    "p.is_file()\n",
    "p.is_dir()"
   ]
  },
  {
   "cell_type": "code",
   "execution_count": 120,
   "metadata": {},
   "outputs": [
    {
     "data": {
      "text/plain": [
       "'kjhsafjgsaf'"
      ]
     },
     "execution_count": 120,
     "metadata": {},
     "output_type": "execute_result"
    }
   ],
   "source": [
    "p = Path.cwd()\n",
    "\n",
    "p = p/Path(\"meow.txt\")\n",
    "p.read_text()\n",
    "p.write_text(\"kjhsafjgsaf\")\n",
    "p.read_text()"
   ]
  },
  {
   "cell_type": "code",
   "execution_count": 97,
   "metadata": {},
   "outputs": [
    {
     "data": {
      "text/plain": [
       "'kjhsafjgsafpopopopopopo\\npopo'"
      ]
     },
     "execution_count": 97,
     "metadata": {},
     "output_type": "execute_result"
    }
   ],
   "source": [
    "openedfile = open(Path.cwd()/Path(\"meow.txt\"), 'a')\n",
    "openedfile.write(\"\\npopo\")\n",
    "openedfile.close()\n",
    "openedfile = open(Path.cwd()/Path(\"meow.txt\"))\n",
    "openedfile.read()"
   ]
  },
  {
   "cell_type": "code",
   "execution_count": 104,
   "metadata": {},
   "outputs": [],
   "source": [
    "import pprint\n",
    "cats = [{'name': 'Zophie', 'desc': 'chubby'}, {'name': 'Pooka', 'desc': 'fluffy'}]\n",
    "pprint.pformat(cats)\n",
    "fileObj = open('myCats.py', 'w')\n",
    "fileObj.write('cats = ' + pprint.pformat(cats) + '\\n')\n",
    "fileObj.close()"
   ]
  },
  {
   "cell_type": "code",
   "execution_count": 105,
   "metadata": {},
   "outputs": [
    {
     "data": {
      "text/plain": [
       "\"[{'desc': 'chubby', 'name': 'Zophie'}, {'desc': 'fluffy', 'name': 'Pooka'}]\""
      ]
     },
     "execution_count": 105,
     "metadata": {},
     "output_type": "execute_result"
    }
   ],
   "source": [
    "pprint.pformat(cats)\n"
   ]
  },
  {
   "cell_type": "code",
   "execution_count": null,
   "metadata": {},
   "outputs": [],
   "source": []
  },
  {
   "cell_type": "code",
   "execution_count": 114,
   "metadata": {},
   "outputs": [],
   "source": [
    "import shelve, pyperclip, sys\n",
    "\n",
    "mcbShelf = shelve.open('mcb')\n",
    "\n",
    "if len(sys.argv) == 3 and sys.argv[1].lower() == 'save':\n",
    "    mcbShelf[sys.argv[2]] = pyperclip.paste()\n",
    "elif len(sys.argv) == 2:\n",
    "    if sys.argv[1].lower() == 'list':\n",
    "        pyperclip.copy(str(list(mcbShelf.keys())))\n",
    "    elif sys.argv[1] in mcbShelf:\n",
    "        pyperclip.copy(mcbShelf[sys.argv[1]])\n",
    "mcbShelf.close()"
   ]
  },
  {
   "cell_type": "code",
   "execution_count": null,
   "metadata": {},
   "outputs": [],
   "source": []
  }
 ],
 "metadata": {
  "kernelspec": {
   "display_name": "Python 3",
   "language": "python",
   "name": "python3"
  },
  "language_info": {
   "codemirror_mode": {
    "name": "ipython",
    "version": 3
   },
   "file_extension": ".py",
   "mimetype": "text/x-python",
   "name": "python",
   "nbconvert_exporter": "python",
   "pygments_lexer": "ipython3",
   "version": "3.8.3"
  }
 },
 "nbformat": 4,
 "nbformat_minor": 4
}
