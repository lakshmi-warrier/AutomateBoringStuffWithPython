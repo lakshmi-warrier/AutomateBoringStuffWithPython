{
 "cells": [
  {
   "cell_type": "markdown",
   "metadata": {},
   "source": [
    "### Notes:\n",
    "\n",
    "|Character | Output|\n",
    "|:--|:--|\n",
    "|\\d|digit |\n",
    "|\\D|anything other than digits |\n",
    "|\\w|letter, digit or underscore |\n",
    "|\\W|anything other than letter, digit and underscore |\n",
    "|\\\\)|)|\n",
    "|\\\\(|(|\n",
    "|\\s| Any space, tab, or newline character|\n",
    "|\\S| Any character that is not a space, tab, or newline.|\n",
    "\n",
    "- **Steps for using regex** (re module)\n",
    "\n",
    "    - Import the regex module with import re.\n",
    "    - Create a Regex object with the re.compile() function. (Remember to use a raw string.)\n",
    "    - Pass the string you want to search into the Regex object’s search() method. This returns a Match object.\n",
    "    - Call the Match object’s group() method to return a string of the actual matched text.\n",
    "\n",
    "- **Grouping with paranthesis**\n",
    "    - (\\d\\d\\d)-(\\d\\d\\d-\\d\\d\\d\\d) -> group 1: first 3 digits, group2: digits after first \n",
    "    - `mo.group()` or `mo.group(0)` returns the entire matched string in a string format\n",
    "    - `mo.group(n)` gives the nth matched string\n",
    "    - `mo.groups()` gives the entire matched string in tuple format\n",
    "- **Pipe operator -** `or`\n",
    "    - the first occurrence of matching text will be returned as the Match object.\n",
    "    - `heroRegex.search('Tina Fey and Batman').group()` will return `Tina Fey`\n",
    "\n",
    "- **Question mark -?** - to match with an optional string or to declare a non-greedy match\n",
    "    - \"This is a mandatory part (while this is optional)?\" is an alternate to \"This is a mandatory part while this is optional | This is a mandatory part\"\n",
    "    - Adding a ? to the end of the {start, stop} operator matches the shortest string possible\n",
    "- **Asterisk - * -** Matches any number of a particular occurence\n",
    "    - used when we need to get any string which has any number of occurence of a particular string\n",
    "    - (any)* -> returns any Match if it has \"any\"\n",
    "    - If no `any` is found, it returns `None`\n",
    "- **Plus operator-+** - matches one or more occurences\n",
    "\n",
    "            - Regex A? matches zero or one occurrences of A.\n",
    "            - Regex A* matches zero or more occurrences of A.\n",
    "            - Regex A+ matches one or more occurrences of A.\n",
    "    \n",
    "- **Curly Braces-{}** - Return Match if a string repeats n number of times\n",
    "    - (3times){3} - equivalent regex:  \"3times3times3times\"\n",
    "    - (3times){3,5} - equivalent regex: \"3times3times3times|3times3times3times3times|3times3times3times3times3times\" -> 3, 4, or 5 occurence\n",
    "    - BY default this returns the longest matching string even if there are shorter matching string. This approach is called *Greedy*. Inorder to get the shortest possible match, use **?**\n",
    "-**search() vs. findall()**\n",
    "    - search() returns only the first occurence while findall() returns every occurence in a list format\n",
    "        - list of strings - if there are no groups\n",
    "        - list of tuples of strings - if there are groups\n",
    "- **CHARACTER CLASSES** \n",
    "    - Shorthand representation of broad long stings of regex\n",
    "    - the class is defined in square bracket. [aieouAIEOU] can check for all vowels, capital or small\n",
    "    - the contents in the class need not be escaped. \n",
    "    - Therefore, adding a space as shown `[aeiou AEIOU]` will match with space character\n",
    "    - The classes can also contain ranges. `[a-zA-Z0-9]` will match every letters of English alphabet and every numeric digits\n",
    "    - A caret `^` immediately after the opening of class bracket makes a negative class. Adding `^` anywhere inside character class checks for match with`^`\n",
    "    \n",
    "- $ and ^\n",
    "    - dollar sign  at the end of the regex matches if the string ends with the specified regex\n",
    "    - ^ at the start of a regex matches if the string if it begins with the specified regex\n",
    "\n",
    "- **SUB()**\n",
    "    - "
   ]
  },
  {
   "cell_type": "markdown",
   "metadata": {},
   "source": [
    "### DATE DETECTION"
   ]
  },
  {
   "cell_type": "code",
   "execution_count": 33,
   "metadata": {},
   "outputs": [],
   "source": [
    "import re"
   ]
  },
  {
   "cell_type": "code",
   "execution_count": null,
   "metadata": {},
   "outputs": [],
   "source": [
    "dateRegex = re.compile()\n",
    "mo = dateRegex.s()"
   ]
  },
  {
   "cell_type": "code",
   "execution_count": null,
   "metadata": {},
   "outputs": [],
   "source": []
  },
  {
   "cell_type": "code",
   "execution_count": 40,
   "metadata": {},
   "outputs": [
    {
     "name": "stdout",
     "output_type": "stream",
     "text": [
      "Phone number found: 415-555-4242\n"
     ]
    }
   ],
   "source": [
    "phoneNumRegex = re.compile(r'\\d\\d\\d-\\d\\d\\d-\\d\\d\\d\\d')\n",
    "mo = phoneNumRegex.search('My number is 415-555-4242.')\n",
    "\n",
    "print('Phone number found: ' + mo.group())\n"
   ]
  },
  {
   "cell_type": "code",
   "execution_count": 45,
   "metadata": {},
   "outputs": [
    {
     "name": "stdout",
     "output_type": "stream",
     "text": [
      "hela wald\n",
      "I'm a pregremmer\n",
      "Njen seper\n",
      "super\n"
     ]
    }
   ],
   "source": [
    "print (\"hela wald\")\n",
    "print(\"I'm a pregremmer\")\n",
    "print (\"Njen seper\")\n",
    "a,b=10,10\n",
    "if a==b:\n",
    "    print('super')\n",
    "else:\n",
    "    print (\"ayye\")\n"
   ]
  },
  {
   "cell_type": "code",
   "execution_count": null,
   "metadata": {},
   "outputs": [],
   "source": []
  }
 ],
 "metadata": {
  "kernelspec": {
   "display_name": "Python 3",
   "language": "python",
   "name": "python3"
  },
  "language_info": {
   "codemirror_mode": {
    "name": "ipython",
    "version": 3
   },
   "file_extension": ".py",
   "mimetype": "text/x-python",
   "name": "python",
   "nbconvert_exporter": "python",
   "pygments_lexer": "ipython3",
   "version": "3.8.3"
  }
 },
 "nbformat": 4,
 "nbformat_minor": 4
}
