{
 "cells": [
  {
   "cell_type": "markdown",
   "metadata": {},
   "source": [
    "### 1. Does PyInputPlus come with the Python Standard Library?\n",
    "> No"
   ]
  },
  {
   "cell_type": "markdown",
   "metadata": {},
   "source": [
    "### 2. Why is PyInputPlus commonly imported with import pyinputplus as pyip?\n",
    "> Since we use the module name quite often and the module name is long, it's a disadvantage if we have to use the whole name every time"
   ]
  },
  {
   "cell_type": "markdown",
   "metadata": {},
   "source": [
    "### 3. What is the difference between inputInt() and inputFloat()?\n",
    "> `inputInt()` validates integer inputs, while `inputFloat()` checks if the input is float"
   ]
  },
  {
   "cell_type": "markdown",
   "metadata": {},
   "source": [
    "### 4. How can you ensure that the user enters a whole number between 0 and 99 using PyInputPlus?\n",
    "> by setting min and max parameters of inputInt() as 0 and 99 respectively \n",
    "\\\n",
    "` pyip.inputInt(min=0, max=99)`"
   ]
  },
  {
   "cell_type": "markdown",
   "metadata": {},
   "source": [
    "### 5. What is passed to the allowRegexes and blockRegexes keyword arguments?\n",
    "> The regex format that needs to be in the input string so that the input is considered valid is passed to `allowRegexes` \\\n",
    "> The regex formats that needs to be **excluded** in the string so that it is considered valid input is passed to `blockRegexes`"
   ]
  },
  {
   "cell_type": "markdown",
   "metadata": {},
   "source": [
    "### 6. What does `inputStr(limit=3)` do if blank input is entered three times?\n",
    "> A `RetryLimitException` is raised"
   ]
  },
  {
   "cell_type": "markdown",
   "metadata": {},
   "source": [
    "### 7. What does `inputStr(limit=3, default='hello')` do if blank input is entered three times?\n",
    "> The output will be `hello` as default argument is returned instead of an exception."
   ]
  },
  {
   "cell_type": "code",
   "execution_count": null,
   "metadata": {},
   "outputs": [],
   "source": [
    "import pyinputplus as pyip"
   ]
  },
  {
   "cell_type": "markdown",
   "metadata": {},
   "source": [
    "### SANDWICH MAKER"
   ]
  },
  {
   "cell_type": "code",
   "execution_count": null,
   "metadata": {},
   "outputs": [],
   "source": [
    "price = 0.0\n",
    "print(\"Bread\")\n",
    "bread_choice = {'wheat' : 7.5, 'white':6, 'sourdough':8.25}\n",
    "bread_type = pyip.inputMenu(list(bread_choice.keys()))\n",
    "price+=bread_choice[bread_type]\n",
    "\n",
    "print(\"Price so far: \",price, \"\\n\\nProtein type\")\n",
    "\n",
    "protein_choice = {'chicken':5, 'turkey':10, 'ham':6, 'tofu':10}\n",
    "protein_type = pyip.inputMenu(list(protein_choice.keys()))\n",
    "price+=protein_choice[protein_type]\n",
    "\n",
    "print(\"Price so far: \",price,\"\\n\")\n",
    "\n",
    "need_cheese = pyip.inputYesNo(prompt=\"Want some cheese?\")\n",
    "if need_cheese == \"yes\":\n",
    "    print(\"Cheese\")\n",
    "    cheese_choice = {'cheddar': 10, 'Swiss':11, 'mozzarella':15}\n",
    "    cheese_type = pyip.inputMenu(list(cheese_choice.keys()))\n",
    "    price += cheese_choice[cheese_type]\n",
    "    print(\"Price so far: \",price,\"\\n\")\n",
    "    \n",
    "need_extras = pyip.inputYesNo(prompt=\"Want mayo, mustard, lettuce or tomato?\")\n",
    "if need_extras == 'yes':\n",
    "    extras = {'mayo':2, 'mustard':3, 'lettuce':1.5, 'tomato':2.5}\n",
    "    extra_type = pyip.inputMenu(list(extras.keys()))\n",
    "    price += extras[extra_type]\n",
    "    print(\"Price so far: \",price,\"\\n\")\n",
    "    \n",
    "print(f\"Price for one sandwich: {price}\")\n",
    "sandwich_num = pyip.inputInt(prompt=\"How many sandwiches do you want?\", min=1)\n",
    "\n",
    "print(f\"Thank you, please pay {sandwich_num*price} at the counter\")"
   ]
  },
  {
   "cell_type": "markdown",
   "metadata": {},
   "source": [
    "### MULTIPLICATION"
   ]
  },
  {
   "cell_type": "code",
   "execution_count": 4,
   "metadata": {},
   "outputs": [
    {
     "name": "stdout",
     "output_type": "stream",
     "text": [
      "2x6 = ?\n",
      "Ans: 12\n",
      "Right Answer\n",
      "7x3 = ?\n",
      "Ans: 21\n",
      "Right Answer\n",
      "9x2 = ?\n",
      "Ans: 18\n",
      "Right Answer\n",
      "3x6 = ?\n",
      "Ans: 18\n",
      "Right Answer\n",
      "5x6 = ?\n",
      "Ans: 30\n",
      "Right Answer\n",
      "4x5 = ?\n",
      "Ans: 20\n",
      "Right Answer\n",
      "6x0 = ?\n",
      "Ans: 0\n",
      "Right Answer\n",
      "4x2 = ?\n",
      "Ans: 8\n",
      "Right Answer\n",
      "9x2 = ?\n",
      "Ans: 18\n",
      "Right Answer\n",
      "3x8 = ?\n",
      "Ans: 24\n",
      "Right Answer\n",
      "7x6 = ?\n",
      "Ans: 42\n",
      "Right Answer\n"
     ]
    }
   ],
   "source": [
    "import random, time\n",
    "\n",
    "def quiz():\n",
    "    a = random.randint(0, 9)\n",
    "    b = random.randint(0, 9)\n",
    "\n",
    "    print(f\"{a}x{b} = ?\")\n",
    "    ans = a*b\n",
    "    chance = 0\n",
    "    s=time.time()\n",
    "    duration=8\n",
    "    correct = False\n",
    "\n",
    "    while chance<3:\n",
    "    #while chance<3 and time.time()<=(s+duration):\n",
    "        s=time.time()\n",
    "\n",
    "        chance += 1\n",
    "        a = input(\"Ans: \")\n",
    "        try:\n",
    "            a = int(a)\n",
    "\n",
    "        except ValueError:\n",
    "            print(\"Not a number\")\n",
    "            continue\n",
    "        if a==ans:\n",
    "            print(\"Right Answer\")\n",
    "            correct = True\n",
    "            break\n",
    "        else:\n",
    "            print(\"Try Again\")\n",
    "    if not correct:\n",
    "        print(f\"Wrong answer\")\n",
    "\n",
    "for i in range(11):\n",
    "    time.sleep(1)\n",
    "    quiz()"
   ]
  }
 ],
 "metadata": {
  "kernelspec": {
   "display_name": "Python 3",
   "language": "python",
   "name": "python3"
  },
  "language_info": {
   "codemirror_mode": {
    "name": "ipython",
    "version": 3
   },
   "file_extension": ".py",
   "mimetype": "text/x-python",
   "name": "python",
   "nbconvert_exporter": "python",
   "pygments_lexer": "ipython3",
   "version": "3.8.3"
  }
 },
 "nbformat": 4,
 "nbformat_minor": 4
}
