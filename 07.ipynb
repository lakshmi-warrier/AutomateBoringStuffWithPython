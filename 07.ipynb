{
 "cells": [
  {
   "cell_type": "markdown",
   "metadata": {},
   "source": [
    "### Notes:\n",
    "\n",
    "|Character | Output|\n",
    "|:--|:--|\n",
    "|\\d|digit |\n",
    "|\\D|anything other than digits |\n",
    "|\\w|letter, digit or underscore |\n",
    "|\\W|anything other than letter, digit and underscore |\n",
    "|\\\\)|)|\n",
    "|\\\\(|(|\n",
    "|\\s| Any space, tab, or newline character|\n",
    "|\\S| Any character that is not a space, tab, or newline.|\n",
    "\n",
    "- **Steps for using regex** (re module)\n",
    "\n",
    "    - Import the regex module with import re.\n",
    "    - Create a Regex object with the re.compile() function. (Remember to use a raw string.)\n",
    "    - Pass the string you want to search into the Regex object’s search() method. This returns a Match object.\n",
    "    - Call the Match object’s group() method to return a string of the actual matched text.\n",
    "\n",
    "- **Grouping with paranthesis**\n",
    "    - (\\d\\d\\d)-(\\d\\d\\d-\\d\\d\\d\\d) -> group 1: first 3 digits, group2: digits after first \n",
    "    - `mo.group()` or `mo.group(0)` returns the entire matched string in a string format\n",
    "    - `mo.group(n)` gives the nth matched string\n",
    "    - `mo.groups()` gives the entire matched string in tuple format\n",
    "- **Pipe operator -** `or`\n",
    "    - the first occurrence of matching text will be returned as the Match object.\n",
    "    - `heroRegex.search('Tina Fey and Batman').group()` will return `Tina Fey`\n",
    "\n",
    "- **Question mark -?** - to match with an optional string or to declare a non-greedy match\n",
    "    - \"This is a mandatory part (while this is optional)?\" is an alternate to \"This is a mandatory part while this is optional | This is a mandatory part\"\n",
    "    - Adding a ? to the end of the {start, stop} operator matches the shortest string possible\n",
    "- **Asterisk - * -** Matches any number of a particular occurence\n",
    "    - used when we need to get any string which has any number of occurence of a particular string\n",
    "    - (any)* -> returns any Match if it has \"any\"\n",
    "    - If no `any` is found, it returns `None`\n",
    "- **Plus operator-+** - matches one or more occurences\n",
    "\n",
    "            - Regex A? matches zero or one occurrences of A.\n",
    "            - Regex A* matches zero or more occurrences of A.\n",
    "            - Regex A+ matches one or more occurrences of A.\n",
    "    \n",
    "- **Curly Braces-{}** - Return Match if a string repeats n number of times\n",
    "    - (3times){3} - equivalent regex:  \"3times3times3times\"\n",
    "    - (3times){3,5} - equivalent regex: \"3times3times3times|3times3times3times3times|3times3times3times3times3times\" -> 3, 4, or 5 occurence\n",
    "    - BY default this returns the longest matching string even if there are shorter matching string. This approach is called *Greedy*. Inorder to get the shortest possible match, use **?**\n",
    "- **search() vs. findall()**\n",
    "    - search() returns only the first occurence while findall() returns every occurence in a list format\n",
    "        - list of strings - if there are no groups\n",
    "        - list of tuples of strings - if there are groups\n",
    "- **CHARACTER CLASSES** \n",
    "    - Shorthand representation of broad long stings of regex\n",
    "    - the class is defined in square bracket. [aieouAIEOU] can check for all vowels, capital or small\n",
    "    - the contents in the class need not be escaped. \n",
    "    - Therefore, adding a space as shown `[aeiou AEIOU]` will match with space character\n",
    "    - The classes can also contain ranges. `[a-zA-Z0-9]` will match every letters of English alphabet and every numeric digits\n",
    "    - A caret `^` immediately after the opening of class bracket makes a negative class. Adding `^` anywhere inside character class checks for match with`^`\n",
    "    \n",
    "- $ and ^\n",
    "    - dollar sign  at the end of the regex matches if the string ends with the specified regex\n",
    "    - ^ at the start of a regex matches if the string if it begins with the specified regex "
   ]
  },
  {
   "cell_type": "markdown",
   "metadata": {},
   "source": [
    "### 1. What is the function that creates Regex objects?\n",
    "> `re.compile()`"
   ]
  },
  {
   "cell_type": "markdown",
   "metadata": {},
   "source": [
    "### 2. Why are raw strings often used when creating Regex objects?\n",
    "> raw strings are used so that backslashes need not be escaped"
   ]
  },
  {
   "cell_type": "markdown",
   "metadata": {},
   "source": [
    "### 3. What does the search() method return?\n",
    "> `Match`"
   ]
  },
  {
   "cell_type": "markdown",
   "metadata": {},
   "source": [
    "### 4. How do you get the actual strings that match the pattern from a Match object?\n",
    "> `group()`"
   ]
  },
  {
   "cell_type": "markdown",
   "metadata": {},
   "source": [
    "### 5. In the regex created from r'(\\d\\d\\d)-(\\d\\d\\d-\\d\\d\\d\\d)', what does group 0 cover? Group 1? Group 2?\n",
    "> Group 0 - entire match, group 1 - first set of bracket, group 2 -second set"
   ]
  },
  {
   "cell_type": "code",
   "execution_count": 10,
   "metadata": {},
   "outputs": [
    {
     "data": {
      "text/plain": [
       "('999', '999-999-9999', '999-9999')"
      ]
     },
     "execution_count": 10,
     "metadata": {},
     "output_type": "execute_result"
    }
   ],
   "source": [
    "Regex = re.compile(r'(\\d\\d\\d)-(\\d\\d\\d-\\d\\d\\d\\d)')\n",
    "mo = Regex.search('999-999-9999')\n",
    "mo.group(1), mo.group(0), mo.group(2)"
   ]
  },
  {
   "cell_type": "markdown",
   "metadata": {},
   "source": [
    "### 6. Parentheses and periods have specific meanings in regular expression syntax. How would you specify that you want a regex to match actual parentheses and period characters?\n",
    "> By escaping using '\\\\'. `\\.`, `\\(`, `\\)`"
   ]
  },
  {
   "cell_type": "markdown",
   "metadata": {},
   "source": [
    "### 7. The findall() method returns a list of strings or a list of tuples of strings. What makes it return one or the other?\n",
    "\n",
    "    list of strings - if there are no groups\n",
    "    list of tuples of strings - if there are groups\n"
   ]
  },
  {
   "cell_type": "markdown",
   "metadata": {},
   "source": [
    "### 8. What does the | character signify in regular expressions?\n",
    "> `or`"
   ]
  },
  {
   "cell_type": "markdown",
   "metadata": {},
   "source": [
    "### 9. What two things does the ? character signify in regular expressions?\n",
    "> match 0 or 1 of the group, or non-greedy matching"
   ]
  },
  {
   "cell_type": "markdown",
   "metadata": {},
   "source": [
    "### 10. What is the difference between the + and * characters in regular expressions?\n",
    "- A* matches zero or more occurrences of A.\n",
    "- A+ matches one or more occurrences of A."
   ]
  },
  {
   "cell_type": "markdown",
   "metadata": {},
   "source": [
    "### 11. What is the difference between {3} and {3,5} in regular expressions?\n",
    "- {3} - Exactly 3 occurences\n",
    "- {3,5} - Anywhere between 3 and 5 occurences"
   ]
  },
  {
   "cell_type": "markdown",
   "metadata": {},
   "source": [
    "### 12. What do the \\d, \\w, and \\s shorthand character classes signify in regular expressions?\n",
    "- `\\d` - digit\n",
    "- `\\w` - word\n",
    "- `\\s` - space"
   ]
  },
  {
   "cell_type": "markdown",
   "metadata": {},
   "source": [
    "### 13. What do the \\D, \\W, and \\S shorthand character classes signify in regular expressions?\n",
    "> anything other than digits, words or spaces"
   ]
  },
  {
   "cell_type": "markdown",
   "metadata": {},
   "source": [
    "### 14. What is the difference between .* and .*??\n",
    " - .* - greedy match\n",
    " - .? - non-greedy match"
   ]
  },
  {
   "cell_type": "markdown",
   "metadata": {},
   "source": [
    "### 15. What is the character class syntax to match all numbers and lowercase letters?\n",
    "> `[a-z0-9]`"
   ]
  },
  {
   "cell_type": "markdown",
   "metadata": {},
   "source": [
    "### 16. How do you make a regular expression case-insensitive?\n",
    "> `re.I` or `re.IGNORECASE` is passed as second argument to `re.compile()`"
   ]
  },
  {
   "cell_type": "markdown",
   "metadata": {},
   "source": [
    "### 17. What does the . character normally match? What does it match if re.DOTALL is passed as the second argument to re.compile()?\n",
    "- . matches everything except `\\n`\n",
    "- `re.DOTALL` matches `\\n` too"
   ]
  },
  {
   "cell_type": "markdown",
   "metadata": {},
   "source": [
    "### 18. If numRegex = re.compile(r'\\d+'), what will numRegex.sub('X', '12 drummers, 11 pipers, five rings, 3 hens') return?"
   ]
  },
  {
   "cell_type": "code",
   "execution_count": 11,
   "metadata": {},
   "outputs": [
    {
     "data": {
      "text/plain": [
       "'X drummers, X pipers, five rings, X hens'"
      ]
     },
     "execution_count": 11,
     "metadata": {},
     "output_type": "execute_result"
    }
   ],
   "source": [
    "numRegex = re.compile(r'\\d+')\n",
    "numRegex.sub('X', '12 drummers, 11 pipers, five rings, 3 hens') "
   ]
  },
  {
   "cell_type": "markdown",
   "metadata": {},
   "source": [
    "### 19. What does passing re.VERBOSE as the second argument to re.compile() allow you to do?\n",
    "> re.VERBOSE allows to write regular expressions that look better and are more readable by splitting logical sections of the pattern and add comments."
   ]
  },
  {
   "cell_type": "markdown",
   "metadata": {},
   "source": [
    "20. How would you write a regex that matches a number with commas for every three digits? It must match the following:\n",
    "\n",
    "    '42'\n",
    "    '1,234'\n",
    "    '6,368,745'\n",
    "\n",
    "but not the following:\n",
    "\n",
    "    '12,34,567' (which has only two digits between the commas)\n",
    "    '1234' (which lacks commas)\n",
    "\n",
    "21. How would you write a regex that matches the full name of someone whose last name is Watanabe? You can assume that the first name that comes before it will always be one word that begins with a capital letter. The regex must match the following:\n",
    "\n",
    "    'Haruto Watanabe'\n",
    "    'Alice Watanabe'\n",
    "    'RoboCop Watanabe'\n",
    "\n",
    "but not the following:\n",
    "\n",
    "    'haruto Watanabe' (where the first name is not capitalized)\n",
    "    'Mr. Watanabe' (where the preceding word has a nonletter character)\n",
    "    'Watanabe' (which has no first name)\n",
    "    'Haruto watanabe' (where Watanabe is not capitalized)\n",
    "\n",
    "22. How would you write a regex that matches a sentence where the first word is either Alice, Bob, or Carol; the second word is either eats, pets, or throws; the third word is apples, cats, or baseballs; and the sentence ends with a period? This regex should be case-insensitive. It must match the following:\n",
    "\n",
    "    'Alice eats apples.'\n",
    "    'Bob pets cats.'\n",
    "    'Carol throws baseballs.'\n",
    "    'Alice throws Apples.'\n",
    "    'BOB EATS CATS.'\n",
    "\n",
    "but not the following:\n",
    "\n",
    "    'RoboCop eats apples.'\n",
    "    'ALICE THROWS FOOTBALLS.'\n",
    "    'Carol eats 7 cats.'\n"
   ]
  },
  {
   "cell_type": "markdown",
   "metadata": {},
   "source": [
    "### DATE DETECTION"
   ]
  },
  {
   "cell_type": "code",
   "execution_count": 3,
   "metadata": {},
   "outputs": [],
   "source": [
    "import re"
   ]
  },
  {
   "cell_type": "code",
   "execution_count": 15,
   "metadata": {},
   "outputs": [
    {
     "name": "stdout",
     "output_type": "stream",
     "text": [
      "ENTER DATE: 22/34/3333\n",
      "Invalid Date: Month Exceeded\n"
     ]
    }
   ],
   "source": [
    "dateRegex = re.compile(r'\\d{2}/\\d{2}/\\d{4}')\n",
    "date = input(\"ENTER DATE: \")\n",
    "mo = dateRegex.search(date)\n",
    "if mo == None:\n",
    "    print(\"Invalid Date: Date is not in DD/MM/YYYY format\")\n",
    "else:\n",
    "    day, month, year = date.split(\"/\")\n",
    "    day, month, year = int(day), int(month), int(year) \n",
    "\n",
    "    feb = 28\n",
    "    if year%4==0:\n",
    "        feb = 29\n",
    "    elif year%100 == 0:\n",
    "        pass\n",
    "    elif year %400 == 0:\n",
    "        feb = 29\n",
    "    month_days = [31, feb, 31, 30,31,30,31,31,30,31,30,31]\n",
    "    if month>=12:\n",
    "        print(\"Invalid Date: Month Exceeded\")\n",
    "    elif day > month_days[month-1]:\n",
    "        print(\"Invalid Date: Date exceeded\")\n",
    "    else:\n",
    "        print(\"Valid date\")"
   ]
  },
  {
   "cell_type": "markdown",
   "metadata": {},
   "source": [
    "### STRONG PASSWORD \n",
    "[incomplete]"
   ]
  },
  {
   "cell_type": "code",
   "execution_count": 39,
   "metadata": {},
   "outputs": [
    {
     "data": {
      "text/plain": [
       "'00000000'"
      ]
     },
     "execution_count": 39,
     "metadata": {},
     "output_type": "execute_result"
    }
   ],
   "source": [
    "passRegex = re.compile(r'[A-Za-z0-9]{8,}')\n",
    "mo = passRegex.search(\"00000000\")\n",
    "mo.group()"
   ]
  },
  {
   "cell_type": "markdown",
   "metadata": {},
   "source": [
    "### STRIP USING REGEX"
   ]
  },
  {
   "cell_type": "code",
   "execution_count": 2,
   "metadata": {},
   "outputs": [
    {
     "name": "stdout",
     "output_type": "stream",
     "text": [
      "Enter the string:            spaces            \n",
      "Your input:             spaces             ___\n",
      "Output: (betweeen underscores)___ spaces ___\n"
     ]
    }
   ],
   "source": [
    "#strip regex equivalent\n",
    "\n",
    "import re\n",
    "\n",
    "string = input(\"Enter the string:\")\n",
    "print(\"Your input:\",string,\"___\")\n",
    "stripthis = ' '\n",
    "\n",
    "lstrip = r'^(\\s)*' #starts with spaces\n",
    "\n",
    "rstrip = r'(\\s)*$' # ends with spaces\n",
    "\n",
    "lstripRegex = re.compile(lstrip)\n",
    "rstripRegex = re.compile(rstrip)\n",
    "\n",
    "string = lstripRegex.sub('', string)\n",
    "string = rstripRegex.sub('', string)\n",
    "print(\"Output: (betweeen underscores)___\",string,\"___\")\n"
   ]
  }
 ],
 "metadata": {
  "kernelspec": {
   "display_name": "Python 3",
   "language": "python",
   "name": "python3"
  },
  "language_info": {
   "codemirror_mode": {
    "name": "ipython",
    "version": 3
   },
   "file_extension": ".py",
   "mimetype": "text/x-python",
   "name": "python",
   "nbconvert_exporter": "python",
   "pygments_lexer": "ipython3",
   "version": "3.8.5"
  }
 },
 "nbformat": 4,
 "nbformat_minor": 4
}
