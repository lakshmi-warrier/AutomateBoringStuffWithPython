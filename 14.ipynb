{
 "cells": [
  {
   "cell_type": "code",
   "execution_count": 1,
   "metadata": {},
   "outputs": [],
   "source": [
    "import ezsheets"
   ]
  },
  {
   "cell_type": "markdown",
   "metadata": {},
   "source": [
    "### Downloading Google Forms Data"
   ]
  },
  {
   "cell_type": "code",
   "execution_count": 42,
   "metadata": {},
   "outputs": [
    {
     "data": {
      "text/plain": [
       "['aabb@gmail.com', 'ssdd@gmail.com', 'qwer@gmail.com']"
      ]
     },
     "execution_count": 42,
     "metadata": {},
     "output_type": "execute_result"
    }
   ],
   "source": [
    "ss = ezsheets.Spreadsheet('https://docs.google.com/spreadsheets/d/1bQlkipwi2hHwFwbUKZSfgfcamYkCxu4pz_2L3-4c6Mc/edit#gid=1030760805')\n",
    "sheet = ss[0]\n",
    "\n",
    "emailCol = sheet.getColumn(3)\n",
    "end_ind = emailCol.index('')\n",
    "emailCol = emailCol[1:end_ind]\n",
    "emailCol"
   ]
  },
  {
   "cell_type": "markdown",
   "metadata": {},
   "source": [
    "### Converting Spreadsheets to Other Formats"
   ]
  },
  {
   "cell_type": "code",
   "execution_count": 43,
   "metadata": {},
   "outputs": [
    {
     "data": {
      "text/plain": [
       "'Revised_B_Batch_List_-_S1.xlsx'"
      ]
     },
     "execution_count": 43,
     "metadata": {},
     "output_type": "execute_result"
    }
   ],
   "source": [
    "ss = ezsheets.upload('Revised B Batch List - S1.xlsx')\n",
    "ss.title\n",
    "ss.downloadAsODS()\n",
    "ss.downloadAsExcel()"
   ]
  },
  {
   "cell_type": "markdown",
   "metadata": {},
   "source": [
    "### Finding Mistakes in a Spreadsheet"
   ]
  },
  {
   "cell_type": "code",
   "execution_count": 47,
   "metadata": {},
   "outputs": [
    {
     "name": "stdout",
     "output_type": "stream",
     "text": [
      "Fault at row 14399\n"
     ]
    }
   ],
   "source": [
    "ss = ezsheets.Spreadsheet('1jDZEdvSIh4TmZxccyy0ZXrH-ELlrwq8_YYiZrEOB4jg')\n",
    "ss\n",
    "for row in range (2, ss[0].rowCount+1):\n",
    "    if int(ss[0].getRow(row)[0]) * int(ss[0].getRow(row)[1]) != int(ss[0].getRow(row)[2]):\n",
    "        print(f\"Fault at row {row}\")\n",
    "        break"
   ]
  },
  {
   "cell_type": "markdown",
   "metadata": {},
   "source": [
    "### PLAYGROUND"
   ]
  },
  {
   "cell_type": "code",
   "execution_count": 49,
   "metadata": {},
   "outputs": [],
   "source": [
    "ss = ezsheets.Spreadsheet('https://docs.google.com/spreadsheets/d/1li9vhHtVnr445vtp3nPHLf_K_vwCuKeWrNKrMkMjGvw/edit#gid=0')\n",
    "ss.title\n",
    "#ss = ezsheets.createSpreadsheet(\"New Sheet\")\n",
    "ss.title\n",
    "ezsheets.listSpreadsheets()\n",
    "\n",
    "ss.downloadAsHTML()\n",
    "ezsheets.listSpreadsheets()\n",
    "sheet['A1'] = 'Name'\n",
    "sheet['A2']\n",
    "\n",
    "sheet = ss[0]\n",
    "sheet.updateRow(3, ['Pumpkin', '11.50', '20', '230'])\n",
    "sheet.getRow(3)\n",
    "columnOne = sheet.getColumn(1)\n",
    "for i, value in enumerate(columnOne):\n",
    "    # Make the Python list contain uppercase strings:\n",
    "    columnOne[i] = value.upper()\n",
    "\n",
    "sheet.updateColumn(1, columnOne)\n"
   ]
  }
 ],
 "metadata": {
  "kernelspec": {
   "display_name": "Python 3",
   "language": "python",
   "name": "python3"
  },
  "language_info": {
   "codemirror_mode": {
    "name": "ipython",
    "version": 3
   },
   "file_extension": ".py",
   "mimetype": "text/x-python",
   "name": "python",
   "nbconvert_exporter": "python",
   "pygments_lexer": "ipython3",
   "version": "3.8.5"
  }
 },
 "nbformat": 4,
 "nbformat_minor": 4
}
