{
  "nbformat": 4,
  "nbformat_minor": 0,
  "metadata": {
    "colab": {
      "name": "05.ipynb",
      "provenance": [],
      "collapsed_sections": []
    },
    "kernelspec": {
      "name": "python3",
      "display_name": "Python 3"
    }
  },
  "cells": [
    {
      "cell_type": "markdown",
      "metadata": {
        "id": "GDJtep_Ha1bF"
      },
      "source": [
        "### 1. What does the code for an empty dictionary look like?\n",
        "> `spam = {}`"
      ]
    },
    {
      "cell_type": "markdown",
      "metadata": {
        "id": "3TfUi_GmaQez"
      },
      "source": [
        "### 2. What does a dictionary value with a key 'foo' and a value 42 look like?\n",
        "> `{'foo':42}`"
      ]
    },
    {
      "cell_type": "markdown",
      "metadata": {
        "id": "40W4EmP_bS4o"
      },
      "source": [
        "### 3. What is the main difference between a dictionary and a list?\n",
        "- List is ordered while dictionary is unordered\n",
        "- Index of list is an integer starting from 0, while in dictionary, the indices/keys can be of any datatype"
      ]
    },
    {
      "cell_type": "markdown",
      "metadata": {
        "id": "HxiW4E_QcMy2"
      },
      "source": [
        "### 4. What happens if you try to access spam['foo'] if spam is {'bar': 100}?\n",
        "> KeyError"
      ]
    },
    {
      "cell_type": "markdown",
      "metadata": {
        "id": "u55TKUohfW_d"
      },
      "source": [
        "### 5. If a dictionary is stored in spam, what is the difference between the expressions 'cat' in spam and 'cat' in spam.keys()?\n",
        "> `'cat' in  spam` is a shorter version of `'cat' in spam.keys()`. They both check if `'cat'` is there in `spam`"
      ]
    },
    {
      "cell_type": "markdown",
      "metadata": {
        "id": "ZovOEcZlgN1r"
      },
      "source": [
        "### 6. If a dictionary is stored in spam, what is the difference between the expressions 'cat' in spam and 'cat' in spam.values()?\n",
        "> `cat in spam` checks if cat is a key in the dictionary spam, but `cat in spam.values()` checkes if `cat` is a value in `spam`"
      ]
    },
    {
      "cell_type": "markdown",
      "metadata": {
        "id": "Y0DuimM9gx63"
      },
      "source": [
        "### 7. What is a shortcut for the following code?\n",
        "```\n",
        "if 'color' not in spam:\n",
        "    spam['color'] = 'black'\n",
        "```"
      ]
    },
    {
      "cell_type": "markdown",
      "metadata": {
        "id": "P7v2Cx0WhYzN"
      },
      "source": [
        "> \n",
        "```\n",
        "spam.setdefault('color', 'black')\n",
        "```"
      ]
    },
    {
      "cell_type": "markdown",
      "metadata": {
        "id": "2gZ7BCRf87Tn"
      },
      "source": [
        "### 8. What module and function can be used to “pretty print” dictionary values?\r\n",
        "\r\n",
        "> module: pprint\r\n",
        "> function: pprint()\r\n",
        "\r\n",
        "``` print.print()```"
      ]
    },
    {
      "cell_type": "markdown",
      "metadata": {
        "id": "y7NsypCy7WRD"
      },
      "source": [
        "###CHESS DICTIONARY VALIDATOR"
      ]
    },
    {
      "cell_type": "code",
      "metadata": {
        "colab": {
          "base_uri": "https://localhost:8080/"
        },
        "id": "B7vXCCvv7bqu",
        "outputId": "168f7ea6-f557-4f8e-b154-8cda34edc1dc"
      },
      "source": [
        "def isValidChessBoard(chess_board):\n",
        "  count = {}\n",
        "  chess_board = eval(chess_board)\n",
        "\n",
        "  for piece in chess_board.values():\n",
        "    count.setdefault(piece, 0)\n",
        "    count[piece] = count[piece]+1\n",
        "\n",
        "    pieces = ['pawn','queen', 'king', 'knight', 'bishop', 'rook']\n",
        "    if piece[1:] not in pieces:\n",
        "      print(f\"{piece[1:]} isn't one of pawn, knight, bishop, rook, queen or king\")\n",
        "      return (False)\n",
        "    if not(piece.startswith('w') or piece.startswith('b')):\n",
        "      print(f\"{piece} isn't black or white\")\n",
        "      return (False)\n",
        "    \n",
        "\n",
        "    #piece at pos 1 and 2 has the pieces that should be there only once and pieces[3:] -> pieces that can occur twice\n",
        "    if ((count[piece]>1 and piece in pieces[1:3]) or (count[piece]>2 and piece in pieces[3:])):\n",
        "      print(f\"{piece} has {count[piece]} pieces.\")\n",
        "      return(False)\n",
        " \n",
        "  chess_pieces = list(chess_board.values())\n",
        "  if chess_pieces \n",
        "\n",
        "  for pos in chess_board:\n",
        "    if (int(pos[0]) not in range(0,9)) or (pos[1] not in ['a','b', 'c', 'd', 'e', 'f','g', 'h']):\n",
        "      print(f\"{pos} isn't on the board\")\n",
        "      return (False)\n",
        "\n",
        "  return True\n",
        "chess_board = input(\"Enter chess board\")\n",
        "if isValidChessBoard(chess_board):\n",
        "  print(\"Valid Chessboard\")\n",
        "else:\n",
        "  print(\"Invalid Chessboard\")"
      ],
      "execution_count": 51,
      "outputs": [
        {
          "output_type": "stream",
          "text": [
            "Enter chess board{'1h': 'bking', '6c': 'wqueen', '2g': 'bbishop', '5h': 'bqueen', '3p': 'wkng'}\n",
            "kng isn't one of pawn, knight, bishop, rook, queen or king\n",
            "Invalid Chessboard\n"
          ],
          "name": "stdout"
        }
      ]
    },
    {
      "cell_type": "markdown",
      "metadata": {
        "id": "7TQEs-dNAOhr"
      },
      "source": [
        "### FANTASY GAME INVENTORY"
      ]
    },
    {
      "cell_type": "code",
      "metadata": {
        "id": "VWg6ZoPR83s0"
      },
      "source": [
        "stuff = {'rope': 1, 'torch': 6, 'gold coin': 42, 'dagger': 1, 'arrow': 12}\n",
        "\n",
        "def displayInventory(inventory):\n",
        "    print(\"Inventory:\")\n",
        "    item_total = 0\n",
        "    for k, v in inventory.items():\n",
        "      print(v, k)\n",
        "      item_total += v\n",
        "    print(\"Total number of items: \" + str(item_total))\n",
        "\n",
        "displayInventory(stuff)"
      ],
      "execution_count": null,
      "outputs": []
    },
    {
      "cell_type": "markdown",
      "metadata": {
        "id": "NjeCVldIdliK"
      },
      "source": [
        "### LIST TO DICTIONARY FUNCTION FOR FANTASY GAME INVENTORY"
      ]
    },
    {
      "cell_type": "code",
      "metadata": {
        "id": "H_WwtxSjvna6"
      },
      "source": [
        "def addToInventory(inventory, addedItems):\n",
        "  for item in dragonLoot:\n",
        "    inventory.setdefault(item, 0)    \n",
        "    inventory[item] += 1\n",
        "  return inventory\n",
        "\n",
        "def displayInventory(inventory):\n",
        "    print(\"Inventory:\")\n",
        "    item_total = 0\n",
        "    for k, v in inventory.items():\n",
        "      print(v, k)\n",
        "      item_total += v\n",
        "    print(\"Total number of items: \" + str(item_total))\n",
        "\n",
        "inv = {'gold coin': 42, 'rope': 1}\n",
        "dragonLoot = ['gold coin', 'dagger', 'gold coin', 'gold coin', 'ruby']\n",
        "inv = addToInventory(inv, dragonLoot)\n",
        "displayInventory(inv)"
      ],
      "execution_count": null,
      "outputs": []
    }
  ]
}