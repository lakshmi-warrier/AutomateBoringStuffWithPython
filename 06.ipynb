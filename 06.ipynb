{
  "nbformat": 4,
  "nbformat_minor": 0,
  "metadata": {
    "colab": {
      "name": "06.ipynb",
      "provenance": []
    },
    "kernelspec": {
      "name": "python3",
      "display_name": "Python 3"
    }
  },
  "cells": [
    {
      "cell_type": "markdown",
      "metadata": {
        "id": "p4X3StRJio3U"
      },
      "source": [
        "### 1. What are escape characters?\n",
        "> Characters that are impossible to put into a string can be included to the string using an escape charater. It consists of a backslash (\\) followed by the character that needs to be added to the string. "
      ]
    },
    {
      "cell_type": "markdown",
      "metadata": {
        "id": "F8nDW_tYjEbi"
      },
      "source": [
        "### 2. What do the \\n and \\t escape characters represent?\n",
        "> newline and tab respectively"
      ]
    },
    {
      "cell_type": "markdown",
      "metadata": {
        "id": "Xk03EZDxjOfW"
      },
      "source": [
        "### 3. How can you put a \\ backslash character in a string?\n",
        ">  `\\\\ `"
      ]
    },
    {
      "cell_type": "markdown",
      "metadata": {
        "id": "8vfvY13djOLY"
      },
      "source": [
        "3. How can you put a \\ backslash character in a string?"
      ]
    },
    {
      "cell_type": "markdown",
      "metadata": {
        "id": "YXjluGQ1jlId"
      },
      "source": [
        "### 4. The string value \"Howl's Moving Castle\" is a valid string. Why isn’t it a problem that the single quote character in the word Howl's isn’t escaped?\n",
        "> The string is enclosed in double quotes. So, the single quote doesn't give an error for not escaping it"
      ]
    },
    {
      "cell_type": "markdown",
      "metadata": {
        "id": "afhDiA1FkGpY"
      },
      "source": [
        "### 5. If you don’t want to put \\n in your string, how can you write a string with newlines in it?\n",
        "> Enclosing the string in triple quotes will produce multi-line strings"
      ]
    },
    {
      "cell_type": "markdown",
      "metadata": {
        "id": "MOI4ngDKkne4"
      },
      "source": [
        "### 6. What do the following expressions evaluate to?\n",
        "\n",
        "    'Hello, world!'[1]\n",
        "    'Hello, world!'[0:5]\n",
        "    'Hello, world!'[:5]\n",
        "    'Hello, world!'[3:]"
      ]
    },
    {
      "cell_type": "code",
      "metadata": {
        "colab": {
          "base_uri": "https://localhost:8080/"
        },
        "id": "wS7bnqzOkx0r",
        "outputId": "2f362332-d1e9-4e17-afdc-cca140d363de"
      },
      "source": [
        "'Hello, world!'[1], 'Hello, world!'[0:5],'Hello, world!'[:5],'Hello, world!'[3:]"
      ],
      "execution_count": 7,
      "outputs": [
        {
          "output_type": "execute_result",
          "data": {
            "text/plain": [
              "('e', 'Hello', 'Hello', 'lo, world!')"
            ]
          },
          "metadata": {
            "tags": []
          },
          "execution_count": 7
        }
      ]
    },
    {
      "cell_type": "markdown",
      "metadata": {
        "id": "dWYEfcVUkuvr"
      },
      "source": [
        "\n",
        "7. What do the following expressions evaluate to?\n",
        "\n",
        "```\n",
        "    'Hello'.upper()\n",
        "    'Hello'.upper().isupper()\n",
        "    'Hello'.upper().lower()\n",
        "```"
      ]
    },
    {
      "cell_type": "code",
      "metadata": {
        "colab": {
          "base_uri": "https://localhost:8080/"
        },
        "id": "byAiF1wllFF9",
        "outputId": "8b31b6a1-6a26-4a6b-cc56-362ca8bfe4df"
      },
      "source": [
        " 'Hello'.upper(), 'Hello'.upper().isupper(), 'Hello'.upper().lower()"
      ],
      "execution_count": 8,
      "outputs": [
        {
          "output_type": "execute_result",
          "data": {
            "text/plain": [
              "('HELLO', True, 'hello')"
            ]
          },
          "metadata": {
            "tags": []
          },
          "execution_count": 8
        }
      ]
    },
    {
      "cell_type": "markdown",
      "metadata": {
        "id": "LXYiAg2zlO0L"
      },
      "source": [
        "### 8. What do the following expressions evaluate to?\n",
        "\n",
        "    'Remember, remember, the fifth of November.'.split()\n",
        "    '-'.join('There can be only one.'.split())"
      ]
    },
    {
      "cell_type": "code",
      "metadata": {
        "colab": {
          "base_uri": "https://localhost:8080/"
        },
        "id": "Cg9pqxQplTCv",
        "outputId": "0f2b6414-8e13-4bea-dd94-6c981f19a88f"
      },
      "source": [
        "print('Remember, remember, the fifth of November.'.split())\n",
        "print('-'.join('There can be only one.'.split()))"
      ],
      "execution_count": 10,
      "outputs": [
        {
          "output_type": "stream",
          "text": [
            "['Remember,', 'remember,', 'the', 'fifth', 'of', 'November.']\n",
            "There-can-be-only-one.\n"
          ],
          "name": "stdout"
        }
      ]
    },
    {
      "cell_type": "markdown",
      "metadata": {
        "id": "X18mMwyhllMF"
      },
      "source": [
        "### 9. What string methods can you use to right-justify, left-justify, and center a string?"
      ]
    },
    {
      "cell_type": "code",
      "metadata": {
        "colab": {
          "base_uri": "https://localhost:8080/"
        },
        "id": "-Zwvhv8FlneR",
        "outputId": "09fe63c5-74c1-4f0b-db9c-02d80a8f81fa"
      },
      "source": [
        "string = \"HELLO\"\n",
        "print(string.center(10))\n",
        "print(string.ljust(10))\n",
        "print(string.rjust(10))"
      ],
      "execution_count": 12,
      "outputs": [
        {
          "output_type": "stream",
          "text": [
            "  HELLO   \n",
            "HELLO     \n",
            "     HELLO\n"
          ],
          "name": "stdout"
        }
      ]
    },
    {
      "cell_type": "markdown",
      "metadata": {
        "id": "9x4gBkvjgLpl"
      },
      "source": [
        "### 10. How can you trim whitespace characters from the beginning or end of a string?\n",
        "> `rstrip(), lstrip(), strip()`"
      ]
    },
    {
      "cell_type": "code",
      "metadata": {
        "colab": {
          "base_uri": "https://localhost:8080/"
        },
        "id": "ET4wmWo3gYsm",
        "outputId": "c40fd421-ca99-41c1-a34a-fcd8705c89dd"
      },
      "source": [
        "'Hello, world!'[1], 'Hello, world!'[0:5], 'Hello, world!'[:5], 'Hello, world!'[3:]"
      ],
      "execution_count": 5,
      "outputs": [
        {
          "output_type": "execute_result",
          "data": {
            "text/plain": [
              "('e', 'Hello', 'Hello', 'lo, world!')"
            ]
          },
          "metadata": {
            "tags": []
          },
          "execution_count": 5
        }
      ]
    },
    {
      "cell_type": "markdown",
      "metadata": {
        "id": "c4HoM3Mjrrul"
      },
      "source": [
        "### TABLE PRINTER"
      ]
    },
    {
      "cell_type": "code",
      "metadata": {
        "colab": {
          "base_uri": "https://localhost:8080/"
        },
        "id": "-Jm7rO_9gsa8",
        "outputId": "b5f0aa67-75b8-433d-ade6-f3f994f977b8"
      },
      "source": [
        "def printTable(tableData):\n",
        "  colWidths = [0] * len(tableData)\n",
        "  for i in range(len(tableData)):\n",
        "    lens=[]\n",
        "    for j in range(len(tableData[i])):\n",
        "      lens.append(len(tableData[i][j]))\n",
        "    colWidths[i] = max(lens)\n",
        "  \n",
        "  for i in range(len(tableData[0])): \n",
        "        for j in range(len(tableData)): \n",
        "            print (tableData[j][i].rjust(colWidths[j]), end=' ')\n",
        "        print ()\n",
        "tableData = [['apples', 'oranges', 'cherries', 'banana',],\n",
        "             ['Alice', 'Bob', 'Carol', 'David',],\n",
        "             ['dogs', 'cats', 'moose', 'goose']]\n",
        "printTable(tableData)"
      ],
      "execution_count": 24,
      "outputs": [
        {
          "output_type": "stream",
          "text": [
            "  apples Alice  dogs \n",
            " oranges   Bob  cats \n",
            "cherries Carol moose \n",
            "  banana David goose \n"
          ],
          "name": "stdout"
        }
      ]
    },
    {
      "cell_type": "code",
      "metadata": {
        "id": "4nFxkjM2vyZy"
      },
      "source": [
        "import zombiedice\n",
        "\n",
        "class MyZombie:\n",
        "    def __init__(self, name):\n",
        "        # All zombies must have a name:\n",
        "        self.name = name\n",
        "\n",
        "    def turn(self, gameState):\n",
        "        # gameState is a dict with info about the current state of the game.\n",
        "        # You can choose to ignore it in your code.\n",
        "\n",
        "        diceRollResults = zombiedice.roll() # first roll\n",
        "        # roll() returns a dictionary with keys 'brains', 'shotgun', and\n",
        "        # 'footsteps' with how many rolls of each type there were.\n",
        "        # The 'rolls' key is a list of (color, icon) tuples with the\n",
        "        # exact roll result information.\n",
        "        # Example of a roll() return value:\n",
        "        # {'brains': 1, 'footsteps': 1, 'shotgun': 1,\n",
        "        #  'rolls': [('yellow', 'brains'), ('red', 'footsteps'),\n",
        "        #            ('green', 'shotgun')]}\n",
        "\n",
        "        # REPLACE THIS ZOMBIE CODE WITH YOUR OWN:\n",
        "        brains = 0\n",
        "        while diceRollResults is not None:\n",
        "            brains += diceRollResults['brains']\n",
        "\n",
        "            if brains < 2:\n",
        "                diceRollResults = zombiedice.roll() # roll again\n",
        "            else:\n",
        "                break\n",
        "\n",
        "zombies = (\n",
        "    zombiedice.examples.RandomCoinFlipZombie(name='Random'),\n",
        "    zombiedice.examples.RollsUntilInTheLeadZombie(name='Until Leading'),\n",
        "    zombiedice.examples.MinNumShotgunsThenStopsZombie(name='Stop at 2 Shotguns', minShotguns=2),\n",
        "    zombiedice.examples.MinNumShotgunsThenStopsZombie(name='Stop at 1 Shotgun', minShotguns=1),\n",
        "    MyZombie(nam~e='My Zombie Bot'),\n",
        "    # Add any other zombie players here.\n",
        ")\n",
        "\n",
        "# Uncomment one of the following lines to run in CLI or Web GUI mode:\n",
        "zombiedice.runTournament(zombies=zombies, numGames=1000)\n",
        "#zombiedice.runWebGui(zombies=zombies, numGames=1000)"
      ],
      "execution_count": null,
      "outputs": []
    },
    {
      "cell_type": "code",
      "metadata": {
        "id": "luOZiLSF4mI6"
      },
      "source": [
        ""
      ],
      "execution_count": null,
      "outputs": []
    }
  ]
}