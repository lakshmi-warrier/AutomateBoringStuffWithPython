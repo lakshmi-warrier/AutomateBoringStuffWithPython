{
 "cells": [
  {
   "cell_type": "markdown",
   "metadata": {},
   "source": [
    "### 1. A string value of the PDF filename is not passed to the PyPDF2.PdfFileReader() function. What do you pass to the function instead?\n",
    "> A file object"
   ]
  },
  {
   "cell_type": "markdown",
   "metadata": {},
   "source": [
    "### 2. What modes do the File objects for PdfFileReader() and PdfFileWriter() need to be opened in?\n",
    "> 'rb' - 'readbinary' and 'wb' - 'wordbinary'"
   ]
  },
  {
   "cell_type": "markdown",
   "metadata": {},
   "source": [
    "### 3. How do you acquire a Page object for page 5 from a PdfFileReader object?\n",
    "> `getPage(4)`"
   ]
  },
  {
   "cell_type": "markdown",
   "metadata": {},
   "source": [
    "### 4. What PdfFileReader variable stores the number of pages in the PDF document?\n",
    "> `numPages`"
   ]
  },
  {
   "cell_type": "markdown",
   "metadata": {},
   "source": [
    "### 5. If a PdfFileReader object’s PDF is encrypted with the password swordfish, what must you do before you can obtain Page objects from it?\n",
    "> `.decrypt('swordfish')`"
   ]
  },
  {
   "cell_type": "markdown",
   "metadata": {},
   "source": [
    "### 6. What methods do you use to rotate a page?\n",
    "> `rotateClockwise()` and `rotateCounterClockwise()`"
   ]
  },
  {
   "cell_type": "markdown",
   "metadata": {},
   "source": [
    "### 7. What method returns a Document object for a file named demo.docx?\n",
    "> `docx.document('demo.docx')`"
   ]
  },
  {
   "cell_type": "markdown",
   "metadata": {},
   "source": [
    "### 8. What is the difference between a Paragraph object and a Run object?\n",
    "> `Paragraph` object is a object that defines paragraph while `Run` is the set of characters in the paragraph"
   ]
  },
  {
   "cell_type": "markdown",
   "metadata": {},
   "source": [
    "### 9. How do you obtain a list of Paragraph objects for a Document object that’s stored in a variable named doc?\n",
    "> `doc.paragraphs`"
   ]
  },
  {
   "cell_type": "markdown",
   "metadata": {},
   "source": [
    "### 10. What type of object has bold, underline, italic, strike, and outline variables?\n",
    "> `Run` object"
   ]
  },
  {
   "cell_type": "markdown",
   "metadata": {},
   "source": [
    "### 11. What is the difference between setting the bold variable to True, False, or None?\n",
    "- `bold=True` will bolden the contents in the Run object\n",
    "- `bold=False` won't bolden the contents in the run object\n",
    "- `bold=None` will or won't bolden the text depending on the respective style setting"
   ]
  },
  {
   "cell_type": "markdown",
   "metadata": {},
   "source": [
    "### 12. How do you create a Document object for a new Word document?\n",
    "> `docx.Document()`"
   ]
  },
  {
   "cell_type": "markdown",
   "metadata": {},
   "source": [
    "### 13. How do you add a paragraph with the text 'Hello, there!' to a Document object stored in a variable named doc?\n",
    "> `doc.add_paragraph('Hello there!')`"
   ]
  },
  {
   "cell_type": "markdown",
   "metadata": {},
   "source": [
    "### 14. What integers represent the levels of headings available in Word documents?\n",
    "> 0, 1, 2, 3, 4 and"
   ]
  },
  {
   "cell_type": "markdown",
   "metadata": {},
   "source": [
    "### PDF PARANOIA"
   ]
  },
  {
   "cell_type": "code",
   "execution_count": null,
   "metadata": {},
   "outputs": [],
   "source": [
    "#pdfParanioa.py\n",
    "\n",
    "import os, PyPDF2, sys\n",
    "from pathlib import Path\n",
    "\n",
    "\n",
    "def encryptPDFs(path, password):\n",
    "  \n",
    "    for folder, subfolder, filenames in os.walk(path):\n",
    "        for file in filenames:\n",
    "            if file.endswith('.pdf'):\n",
    "                filepath = Path(path, folder, file)\n",
    "                pdfFileObj = open(filepath, 'rb')\n",
    "                pdfReader = PyPDF2.PdfFileReader(pdfFileObj)\n",
    "                print(filepath)\n",
    "\n",
    "                if not pdfReader.isEncrypted:\n",
    "                    pdfWriter = PyPDF2.PdfFileWriter()\n",
    "                    print(\"not encrypted\")\n",
    "                    for pageNum in range(pdfReader.numPages):\n",
    "                        pdfWriter.addPage(pdfReader.getPage(pageNum))\n",
    "                    pdfWriter.encrypt(password)\n",
    "                    newname = file.replace('.pdf', '_encrypted.pdf')\n",
    "                    new = Path(os.getcwd(), folder, newname)\n",
    "                    resultPdf = open(new, 'wb')\n",
    "                    pdfWriter.write(resultPdf)\n",
    "                    resultPdf.close()\n",
    "\n",
    "\n",
    "def decryptPDFs(path, password):\n",
    "    for folder, subfolder, filenames in os.walk(path):\n",
    "        for file in filenames:\n",
    "            if file.endswith('_encrypted.pdf'):\n",
    "                print(file)\n",
    "                filepath = Path(path, folder, file)\n",
    "                print(filepath)\n",
    "                pdfFileObj = open(filepath, 'rb')\n",
    "                pdfReader = PyPDF2.PdfFileReader(pdfFileObj)\n",
    "\n",
    "                if pdfReader.isEncrypted:\n",
    "                    success = pdfReader.decrypt(password)\n",
    "                    \n",
    "                    if success:\n",
    "                        pdfWriter = PyPDF2.PdfFileWriter()\n",
    "                        for pageNum in range(pdfReader.numPages):\n",
    "                            pdfWriter.addPage(pdfReader.getPage(pageNum))\n",
    "                        newname = file.replace('_encrypted.pdf', '.pdf')\n",
    "                        new = Path(os.getcwd(), folder, newname)\n",
    "                        resultPdf = open(new, 'wb')\n",
    "                        pdfWriter.write(resultPdf)\n",
    "                        resultPdf.close()\n",
    "                    else:\n",
    "                        print('wrong password provided')\n",
    "\n",
    "\n",
    "if(len(sys.argv)==2):\n",
    "    password = ''.join(sys.argv[1:])\n",
    "    encryptPDFs(os.getcwd(), password)\n",
    "    decryptPDFs('.', password)"
   ]
  },
  {
   "cell_type": "markdown",
   "metadata": {},
   "source": [
    "### CUSTOM INVITATIONS"
   ]
  },
  {
   "cell_type": "code",
   "execution_count": null,
   "metadata": {},
   "outputs": [],
   "source": [
    "#customInvitationWordFile.py\n",
    "\n",
    "import os, docx\n",
    "from pathlib import Path\n",
    "from docx.enum.text import WD_ALIGN_PARAGRAPH\n",
    "from docx.shared import Pt\n",
    "\n",
    "\n",
    "txtFile = Path(os.getcwd(), 'guests.txt')\n",
    " \n",
    "doc = docx.Document()\n",
    "\n",
    "guestList = open(txtFile)\n",
    "\n",
    "for guest in guestList.readlines():\n",
    "    name = guest\n",
    "    para1 = doc.add_paragraph()\n",
    "    para1.paragraph_format.alignment = WD_ALIGN_PARAGRAPH.CENTER\n",
    "    f1 = para1.add_run('It would be a pleasure to have the company of')\n",
    "    f1.font.bold = True\n",
    "    f1.font.italic = True\n",
    "    f1.font.size = Pt(26)\n",
    "\n",
    "    para2 = doc.add_paragraph()\n",
    "    para2.paragraph_format.alignment = WD_ALIGN_PARAGRAPH.CENTER\n",
    "    f2 = para2.add_run(name)\n",
    "    f2.font.bold = True\n",
    "    f2.font.size = Pt(28)\n",
    "\n",
    "    para3 = doc.add_paragraph()\n",
    "    para3.paragraph_format.alignment = WD_ALIGN_PARAGRAPH.CENTER\n",
    "    f3 = para3.add_run('at 11101 Memory lane on the evening of')\n",
    "    f3.font.bold, f3.font.italic, f3.font.size = True, True, Pt(24)\n",
    "\n",
    "    para4 = doc.add_paragraph()\n",
    "    para4.paragraph_format.alignment = WD_ALIGN_PARAGRAPH.CENTER\n",
    "    f4 = para4.add_run('April 31st')\n",
    "    f4.font.size = Pt(24)\n",
    "\n",
    "    para5 = doc.add_paragraph()\n",
    "    para5.paragraph_format.alignment = WD_ALIGN_PARAGRAPH.CENTER\n",
    "    f5 = para5.add_run( \"at 24 O'Clock\")\n",
    "    f5.font.bold, f5.font.italic, f5.font.size = True, True, Pt(24)\n",
    "\n",
    "    print(f\"Invitation ready for {guest}\")\n",
    "    doc.add_page_break()\n",
    "\n",
    "doc.save(\"CustomInvitation.docx\")\n"
   ]
  },
  {
   "cell_type": "markdown",
   "metadata": {},
   "source": [
    "### BRUTE-FORCE PASSWORD BREAKER"
   ]
  },
  {
   "cell_type": "code",
   "execution_count": null,
   "metadata": {},
   "outputs": [],
   "source": [
    "#passwordBreaker.py\n",
    "\n",
    "import os, PyPDF2\n",
    "from pathlib import Path\n",
    "\n",
    "\n",
    "dictFile = open(Path(os.getcwd(),'dictionary.txt'))\n",
    "wordList = dictFile.readlines()\n",
    "\n",
    "filename = 'Quiz_encrypted.pdf'\n",
    "encryptedFile = open(filename, 'rb')\n",
    "pdfReader = PyPDF2.PdfFileReader(encryptedFile)\n",
    "print(pdfReader.isEncrypted)\n",
    "\n",
    "for word in wordList:\n",
    "    word = word.strip()\n",
    "    if pdfReader.decrypt(word.upper()):\n",
    "        print(word.upper())\n",
    "        break\n",
    "    elif pdfReader.decrypt(word.lower()):\n",
    "        print(word.lower())\n",
    "        break"
   ]
  }
 ],
 "metadata": {
  "kernelspec": {
   "display_name": "Python 3",
   "language": "python",
   "name": "python3"
  },
  "language_info": {
   "codemirror_mode": {
    "name": "ipython",
    "version": 3
   },
   "file_extension": ".py",
   "mimetype": "text/x-python",
   "name": "python",
   "nbconvert_exporter": "python",
   "pygments_lexer": "ipython3",
   "version": "3.8.5"
  }
 },
 "nbformat": 4,
 "nbformat_minor": 4
}
