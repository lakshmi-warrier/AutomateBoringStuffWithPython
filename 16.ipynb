{
 "cells": [
  {
   "cell_type": "code",
   "execution_count": 12,
   "metadata": {},
   "outputs": [],
   "source": [
    "import csv, json"
   ]
  },
  {
   "cell_type": "markdown",
   "metadata": {},
   "source": [
    "### 1. What are some features Excel spreadsheets have that CSV spread-sheets don’t?\n",
    "- spreadsheets can have values of data types other than strings\n",
    "- cells can be formatted, i.e, different fonts, sizes, or color \n",
    "- images and charts can be included\n",
    "- cells can have varying widths and heights\n",
    "- merging cells can be done in Excel"
   ]
  },
  {
   "cell_type": "markdown",
   "metadata": {},
   "source": [
    "### 2. What do you pass to `csv.reader()` and `csv.writer()` to create reader and writer objects?\n",
    "> `File` object"
   ]
  },
  {
   "cell_type": "markdown",
   "metadata": {},
   "source": [
    "### 3. What modes do File objects for reader and writer objects need to be opened in?\n",
    "- readbinary `('rb')` for reader\n",
    "- writebinary `('wb')` for writer"
   ]
  },
  {
   "cell_type": "markdown",
   "metadata": {},
   "source": [
    "### 4. What method takes a list argument and writes it to a CSV file?\n",
    "> `writerow()`"
   ]
  },
  {
   "cell_type": "markdown",
   "metadata": {},
   "source": [
    "### 5. What do the delimiter and lineterminator keyword arguments do?\n",
    "- `delimiter` - argument is the string used to split two cells\n",
    "- `lineterminator` - argument is the string used to separate rows "
   ]
  },
  {
   "cell_type": "markdown",
   "metadata": {},
   "source": [
    "### 6. What function takes a string of JSON data and returns a Python data structure?\n",
    "> `json.loads()`"
   ]
  },
  {
   "cell_type": "markdown",
   "metadata": {},
   "source": [
    "### 7. What function takes a Python data structure and returns a string of JSON data?\n",
    "> `json.dumps()`"
   ]
  },
  {
   "cell_type": "markdown",
   "metadata": {},
   "source": [
    "### Excel-to-CSV Converter"
   ]
  },
  {
   "cell_type": "code",
   "execution_count": 29,
   "metadata": {},
   "outputs": [],
   "source": [
    "import os, openpyxl as xl, csv\n",
    "from openpyxl import Workbook\n",
    "from pathlib import Path"
   ]
  },
  {
   "cell_type": "code",
   "execution_count": 41,
   "metadata": {},
   "outputs": [
    {
     "name": "stdout",
     "output_type": "stream",
     "text": [
      "Loading styles.xlsx ...\n",
      "styles.xlsx successfully saved as styles_Sheet.csv.\n",
      "Loading updatedProduceSales.xlsx ...\n",
      "updatedProduceSales.xlsx successfully saved as updatedProduceSales_Sheet.csv.\n",
      "Loading produceSales.xlsx ...\n",
      "produceSales.xlsx successfully saved as produceSales_Sheet.csv.\n",
      "Loading merged.xlsx ...\n",
      "merged.xlsx successfully saved as merged_Sheet.csv.\n",
      "Loading styled.xlsx ...\n",
      "styled.xlsx successfully saved as styled_Sheet.csv.\n",
      "Loading freezeExample.xlsx ...\n",
      "freezeExample.xlsx successfully saved as freezeExample_Sheet.csv.\n",
      "Loading censuspopdata.xlsx ...\n",
      "censuspopdata.xlsx successfully saved as censuspopdata_Population by Census Tract.csv.\n",
      "Loading sampleChart.xlsx ...\n",
      "sampleChart.xlsx successfully saved as sampleChart_Sheet.csv.\n",
      "Loading example.xlsx ...\n",
      "example.xlsx successfully saved as example_Sheet1.csv.\n",
      "example.xlsx successfully saved as example_Sheet2.csv.\n",
      "example.xlsx successfully saved as example_Sheet3.csv.\n",
      "Loading dimensions.xlsx ...\n",
      "dimensions.xlsx successfully saved as dimensions_Sheet.csv.\n",
      "Loading duesRecords.xlsx ...\n",
      "duesRecords.xlsx successfully saved as duesRecords_Sheet1.csv.\n",
      "Loading spreadsheet-R.xlsx ...\n",
      "spreadsheet-R.xlsx successfully saved as spreadsheet-R_Sheet.csv.\n",
      "Loading spreadsheet-M.xlsx ...\n",
      "spreadsheet-M.xlsx successfully saved as spreadsheet-M_Sheet.csv.\n",
      "Loading spreadsheet-H.xlsx ...\n",
      "spreadsheet-H.xlsx successfully saved as spreadsheet-H_Sheet.csv.\n",
      "Loading spreadsheet-U.xlsx ...\n",
      "spreadsheet-U.xlsx successfully saved as spreadsheet-U_Sheet.csv.\n",
      "Loading spreadsheet-E.xlsx ...\n",
      "spreadsheet-E.xlsx successfully saved as spreadsheet-E_Sheet.csv.\n",
      "Loading spreadsheet-X.xlsx ...\n",
      "spreadsheet-X.xlsx successfully saved as spreadsheet-X_Sheet.csv.\n",
      "Loading spreadsheet-L.xlsx ...\n",
      "spreadsheet-L.xlsx successfully saved as spreadsheet-L_Sheet.csv.\n",
      "Loading spreadsheet-G.xlsx ...\n",
      "spreadsheet-G.xlsx successfully saved as spreadsheet-G_Sheet.csv.\n",
      "Loading spreadsheet-P.xlsx ...\n",
      "spreadsheet-P.xlsx successfully saved as spreadsheet-P_Sheet.csv.\n",
      "Loading spreadsheet-F.xlsx ...\n",
      "spreadsheet-F.xlsx successfully saved as spreadsheet-F_Sheet.csv.\n",
      "Loading spreadsheet-T.xlsx ...\n",
      "spreadsheet-T.xlsx successfully saved as spreadsheet-T_Sheet.csv.\n",
      "Loading spreadsheet-W.xlsx ...\n",
      "spreadsheet-W.xlsx successfully saved as spreadsheet-W_Sheet.csv.\n",
      "Loading spreadsheet-Q.xlsx ...\n",
      "spreadsheet-Q.xlsx successfully saved as spreadsheet-Q_Sheet.csv.\n",
      "Loading spreadsheet-I.xlsx ...\n",
      "spreadsheet-I.xlsx successfully saved as spreadsheet-I_Sheet.csv.\n",
      "Loading spreadsheet-A.xlsx ...\n",
      "spreadsheet-A.xlsx successfully saved as spreadsheet-A_Sheet.csv.\n",
      "Loading spreadsheet-V.xlsx ...\n",
      "spreadsheet-V.xlsx successfully saved as spreadsheet-V_Sheet.csv.\n",
      "Loading spreadsheet-K.xlsx ...\n",
      "spreadsheet-K.xlsx successfully saved as spreadsheet-K_Sheet.csv.\n",
      "Loading spreadsheet-J.xlsx ...\n",
      "spreadsheet-J.xlsx successfully saved as spreadsheet-J_Sheet.csv.\n",
      "Loading spreadsheet-Y.xlsx ...\n",
      "spreadsheet-Y.xlsx successfully saved as spreadsheet-Y_Sheet.csv.\n",
      "Loading spreadsheet-N.xlsx ...\n",
      "spreadsheet-N.xlsx successfully saved as spreadsheet-N_Sheet.csv.\n",
      "Loading spreadsheet-S.xlsx ...\n",
      "spreadsheet-S.xlsx successfully saved as spreadsheet-S_Sheet.csv.\n",
      "Loading spreadsheet-D.xlsx ...\n",
      "spreadsheet-D.xlsx successfully saved as spreadsheet-D_Sheet.csv.\n",
      "Loading spreadsheet-Z.xlsx ...\n",
      "spreadsheet-Z.xlsx successfully saved as spreadsheet-Z_Sheet.csv.\n",
      "Loading spreadsheet-C.xlsx ...\n",
      "spreadsheet-C.xlsx successfully saved as spreadsheet-C_Sheet.csv.\n",
      "Loading spreadsheet-O.xlsx ...\n",
      "spreadsheet-O.xlsx successfully saved as spreadsheet-O_Sheet.csv.\n",
      "Loading spreadsheet-B.xlsx ...\n",
      "spreadsheet-B.xlsx successfully saved as spreadsheet-B_Sheet.csv.\n",
      "Loading spreadsheet-R.xlsx ...\n",
      "spreadsheet-R.xlsx successfully saved as spreadsheet-R_Sheet.csv.\n",
      "Loading spreadsheet-M.xlsx ...\n",
      "spreadsheet-M.xlsx successfully saved as spreadsheet-M_Sheet.csv.\n",
      "Loading spreadsheet-H.xlsx ...\n",
      "spreadsheet-H.xlsx successfully saved as spreadsheet-H_Sheet.csv.\n",
      "Loading spreadsheet-U.xlsx ...\n",
      "spreadsheet-U.xlsx successfully saved as spreadsheet-U_Sheet.csv.\n",
      "Loading spreadsheet-E.xlsx ...\n",
      "spreadsheet-E.xlsx successfully saved as spreadsheet-E_Sheet.csv.\n",
      "Loading spreadsheet-X.xlsx ...\n",
      "spreadsheet-X.xlsx successfully saved as spreadsheet-X_Sheet.csv.\n",
      "Loading spreadsheet-L.xlsx ...\n",
      "spreadsheet-L.xlsx successfully saved as spreadsheet-L_Sheet.csv.\n",
      "Loading spreadsheet-G.xlsx ...\n",
      "spreadsheet-G.xlsx successfully saved as spreadsheet-G_Sheet.csv.\n",
      "Loading spreadsheet-P.xlsx ...\n",
      "spreadsheet-P.xlsx successfully saved as spreadsheet-P_Sheet.csv.\n",
      "Loading spreadsheet-F.xlsx ...\n",
      "spreadsheet-F.xlsx successfully saved as spreadsheet-F_Sheet.csv.\n",
      "Loading spreadsheet-T.xlsx ...\n",
      "spreadsheet-T.xlsx successfully saved as spreadsheet-T_Sheet.csv.\n",
      "Loading spreadsheet-W.xlsx ...\n",
      "spreadsheet-W.xlsx successfully saved as spreadsheet-W_Sheet.csv.\n",
      "Loading spreadsheet-Q.xlsx ...\n",
      "spreadsheet-Q.xlsx successfully saved as spreadsheet-Q_Sheet.csv.\n",
      "Loading spreadsheet-I.xlsx ...\n",
      "spreadsheet-I.xlsx successfully saved as spreadsheet-I_Sheet.csv.\n",
      "Loading spreadsheet-A.xlsx ...\n",
      "spreadsheet-A.xlsx successfully saved as spreadsheet-A_Sheet.csv.\n",
      "Loading spreadsheet-V.xlsx ...\n",
      "spreadsheet-V.xlsx successfully saved as spreadsheet-V_Sheet.csv.\n",
      "Loading spreadsheet-K.xlsx ...\n",
      "spreadsheet-K.xlsx successfully saved as spreadsheet-K_Sheet.csv.\n",
      "Loading spreadsheet-J.xlsx ...\n",
      "spreadsheet-J.xlsx successfully saved as spreadsheet-J_Sheet.csv.\n",
      "Loading spreadsheet-Y.xlsx ...\n",
      "spreadsheet-Y.xlsx successfully saved as spreadsheet-Y_Sheet.csv.\n",
      "Loading spreadsheet-N.xlsx ...\n",
      "spreadsheet-N.xlsx successfully saved as spreadsheet-N_Sheet.csv.\n",
      "Loading spreadsheet-S.xlsx ...\n",
      "spreadsheet-S.xlsx successfully saved as spreadsheet-S_Sheet.csv.\n",
      "Loading spreadsheet-D.xlsx ...\n",
      "spreadsheet-D.xlsx successfully saved as spreadsheet-D_Sheet.csv.\n",
      "Loading spreadsheet-Z.xlsx ...\n",
      "spreadsheet-Z.xlsx successfully saved as spreadsheet-Z_Sheet.csv.\n",
      "Loading spreadsheet-C.xlsx ...\n",
      "spreadsheet-C.xlsx successfully saved as spreadsheet-C_Sheet.csv.\n",
      "Loading spreadsheet-O.xlsx ...\n",
      "spreadsheet-O.xlsx successfully saved as spreadsheet-O_Sheet.csv.\n",
      "Loading spreadsheet-B.xlsx ...\n",
      "spreadsheet-B.xlsx successfully saved as spreadsheet-B_Sheet.csv.\n"
     ]
    }
   ],
   "source": [
    "for foldername, subfolders, filenames in os.walk(Path.cwd()):\n",
    "\n",
    "    # Find and open each xlsx in foldernames and subfolders.\n",
    "    for filename in filenames:\n",
    "        if (filename.endswith('.xlsx')):\n",
    "            \n",
    "            xlsxPath = Path(foldername, filename)\n",
    "            workbook = openpyxl.load_workbook(xlsxPath)\n",
    "\n",
    "            print(f'Loading {filename}')\n",
    "\n",
    "            #Cycle through sheets in each of the workbooks.\n",
    "            for sheetName in workbook.sheetnames:\n",
    "\n",
    "                # Create new csv for each sheet.\n",
    "                excelFile = filename[:-5]\n",
    "                sheetTitle = sheetName\n",
    "                outputName = excelFile + '_' + sheetTitle + '.csv'\n",
    "                outputFile = open(outputName, 'w', newline='')\n",
    "                outputWriter = csv.writer(outputFile)\n",
    "                sheet = workbook[sheetName]\n",
    "\n",
    "                # Cycle through rows and columns.\n",
    "                for i in range(1, sheet.max_row + 1):\n",
    "                    # New row holds list of values to be appended late\n",
    "                    newRow = []\n",
    "\n",
    "                for j in range(1, sheet.max_column + 1):\n",
    "                    # Append cell to string list.\n",
    "                    newRow.append(sheet.cell(row=i, column=j).value)\n",
    "                    # Append string list to csv as row.\n",
    "                    outputWriter.writerow(newRow)\n",
    "\n",
    "                # Confirm and close csv file.\n",
    "                print(f'{filename} successfully saved as {outputName}')\n"
   ]
  },
  {
   "cell_type": "markdown",
   "metadata": {},
   "source": [
    "## PLAYGROUND"
   ]
  },
  {
   "cell_type": "code",
   "execution_count": 2,
   "metadata": {},
   "outputs": [
    {
     "data": {
      "text/plain": [
       "[['4/5/2014 13:34', 'Apples', '73'],\n",
       " ['4/5/2014 3:41', 'Cherries', '85'],\n",
       " ['4/6/2014 12:46', 'Pears', '14'],\n",
       " ['4/8/2014 8:59', 'Oranges', '52'],\n",
       " ['4/10/2014 2:07', 'Apples', '152'],\n",
       " ['4/10/2014 18:10', 'Bananas', '23'],\n",
       " ['4/10/2014 2:40', 'Strawberries', '98']]"
      ]
     },
     "execution_count": 2,
     "metadata": {},
     "output_type": "execute_result"
    }
   ],
   "source": [
    "exampleFile = open('example.csv')\n",
    "exampleReader = csv.reader(exampleFile)\n",
    "exampleData = list(exampleReader)\n",
    "exampleData[0][0]\n",
    "exampleData"
   ]
  },
  {
   "cell_type": "code",
   "execution_count": 6,
   "metadata": {},
   "outputs": [],
   "source": [
    "outputFile = open('output.csv', 'w', newline='')\n",
    "outputWriter = csv.writer(outputFile)\n",
    "outputWriter.writerow(['spam', 'eggs', 'bacon', 'ham'])\n",
    "outputWriter.writerow(['Hello, world!', 'eggs', 'bacon', 'ham'])\n",
    "outputWriter.writerow([1, 2, 3.141592, 4])\n",
    "outputFile.close()"
   ]
  },
  {
   "cell_type": "code",
   "execution_count": 7,
   "metadata": {},
   "outputs": [
    {
     "name": "stdout",
     "output_type": "stream",
     "text": [
      "4/5/2014 13:34 Apples 73\n",
      "4/5/2014 3:41 Cherries 85\n",
      "4/6/2014 12:46 Pears 14\n",
      "4/8/2014 8:59 Oranges 52\n",
      "4/10/2014 2:07 Apples 152\n",
      "4/10/2014 18:10 Bananas 23\n",
      "4/10/2014 2:40 Strawberries 98\n"
     ]
    }
   ],
   "source": [
    "exampleFile = open('exampleWithHeader.csv')\n",
    "exampleDictReader = csv.DictReader(exampleFile)\n",
    "for row in exampleDictReader:\n",
    "    print(row['Timestamp'], row['Fruit'], row['Quantity'])"
   ]
  },
  {
   "cell_type": "code",
   "execution_count": 9,
   "metadata": {},
   "outputs": [
    {
     "data": {
      "text/plain": [
       "16"
      ]
     },
     "execution_count": 9,
     "metadata": {},
     "output_type": "execute_result"
    }
   ],
   "source": [
    "outputFile = open('output.csv', 'w', newline='')\n",
    "outputDictWriter = csv.DictWriter(outputFile, ['Name', 'Pet','Phone'])\n",
    "outputDictWriter.writeheader()"
   ]
  },
  {
   "cell_type": "code",
   "execution_count": 21,
   "metadata": {},
   "outputs": [],
   "source": [
    "outputDictWriter.writerow({'Name': 'Alice', 'Pet': 'cat', 'Phone': '555-1234'})\n",
    "outputDictWriter.writerow({'Name': 'Bob', 'Phone': '555-9999'})\n",
    "outputDictWriter.writerow({'Phone': '555-5555', 'Name': 'Carol', 'Pet':'dog'})\n",
    "outputFile.close()"
   ]
  },
  {
   "cell_type": "code",
   "execution_count": 18,
   "metadata": {},
   "outputs": [
    {
     "data": {
      "text/plain": [
       "dict"
      ]
     },
     "execution_count": 18,
     "metadata": {},
     "output_type": "execute_result"
    }
   ],
   "source": [
    "stringOfJsonData = '{\"name\": \"Zophie\", \"isCat\": true, \"miceCaught\": 0, \"felineIQ\": null}'\n",
    "jsonDataAsPythonValue = json.loads(stringOfJsonData)\n",
    "type(jsonDataAsPythonValue)"
   ]
  }
 ],
 "metadata": {
  "kernelspec": {
   "display_name": "Python 3",
   "language": "python",
   "name": "python3"
  },
  "language_info": {
   "codemirror_mode": {
    "name": "ipython",
    "version": 3
   },
   "file_extension": ".py",
   "mimetype": "text/x-python",
   "name": "python",
   "nbconvert_exporter": "python",
   "pygments_lexer": "ipython3",
   "version": "3.8.5"
  }
 },
 "nbformat": 4,
 "nbformat_minor": 4
}
