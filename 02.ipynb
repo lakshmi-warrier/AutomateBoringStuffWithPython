{
  "nbformat": 4,
  "nbformat_minor": 0,
  "metadata": {
    "colab": {
      "name": "02.ipynb",
      "provenance": [],
      "collapsed_sections": []
    },
    "kernelspec": {
      "name": "python3",
      "display_name": "Python 3"
    }
  },
  "cells": [
    {
      "cell_type": "markdown",
      "metadata": {
        "id": "xd-sbDAz20Eo"
      },
      "source": [
        "#### 1. What are the two values of the Boolean data type? How do you write them?\r\n"
      ]
    },
    {
      "cell_type": "markdown",
      "metadata": {
        "id": "iEiAnRl33TuQ"
      },
      "source": [
        "> `True `, `False`"
      ]
    },
    {
      "cell_type": "markdown",
      "metadata": {
        "id": "ibPbSdCC3jmL"
      },
      "source": [
        "#### 2. What are the three Boolean operators?\r\n"
      ]
    },
    {
      "cell_type": "markdown",
      "metadata": {
        "id": "tOtuGUlt3osP"
      },
      "source": [
        "> and, not, or"
      ]
    },
    {
      "cell_type": "markdown",
      "metadata": {
        "id": "YuPdTH2f3kc1"
      },
      "source": [
        "#### 3. Write out the truth tables of each Boolean operator\r\n"
      ]
    },
    {
      "cell_type": "markdown",
      "metadata": {
        "id": "wo47Z_h33wdP"
      },
      "source": [
        "| A       | B     | A and B  |\r\n",
        "| ------- |-------| ---------|\r\n",
        "|False    | False |False |\r\n",
        "|False    | True  |False |\r\n",
        "|True     | False |False |\r\n",
        "|True     | True  |True  |"
      ]
    },
    {
      "cell_type": "markdown",
      "metadata": {
        "id": "H4p1r5WP4e4u"
      },
      "source": [
        "| A       | B     | A or B  |\r\n",
        "| ------- |-------| ---------|\r\n",
        "|False    | False |False|\r\n",
        "|False    | True  |True |\r\n",
        "|True     | False |True |\r\n",
        "|True     | True  |True |"
      ]
    },
    {
      "cell_type": "markdown",
      "metadata": {
        "id": "4sxj1llF4nm-"
      },
      "source": [
        "| A      | not A|\r\n",
        "| -------|------|\r\n",
        "|False   | True |\r\n",
        "|True    | False|"
      ]
    },
    {
      "cell_type": "markdown",
      "metadata": {
        "id": "gB4R19yI3kkv"
      },
      "source": [
        "#### 4. What do the following expressions evaluate to?\r\n"
      ]
    },
    {
      "cell_type": "markdown",
      "metadata": {
        "id": "MPckNW5y5C8d"
      },
      "source": [
        "`False` \\\r\n",
        "`False` \\\r\n",
        "`True`  \\\r\n",
        "`False` \\\r\n",
        "`False` \\\r\n",
        "`True`  \\"
      ]
    },
    {
      "cell_type": "markdown",
      "metadata": {
        "id": "galp56yp3klZ"
      },
      "source": [
        "#### 5. What are the six comparison operators?\r\n"
      ]
    },
    {
      "cell_type": "markdown",
      "metadata": {
        "id": "m6OgTr7w9rOG"
      },
      "source": [
        "> ==, !=, >=, <=, >, <"
      ]
    },
    {
      "cell_type": "markdown",
      "metadata": {
        "id": "_oncx16D3klz"
      },
      "source": [
        "#### 6. What is the difference between the equal to operator and the assignment operator?"
      ]
    },
    {
      "cell_type": "markdown",
      "metadata": {
        "id": "cODoFajv-aTm"
      },
      "source": [
        "> Equal to operator (==): It is a comparison operator and returns a Boolean value \\\r\n",
        "> Assignment operator(=): It assigns the right-value to the left-value of the operator."
      ]
    },
    {
      "cell_type": "markdown",
      "metadata": {
        "id": "BRd2vdn_3kmN"
      },
      "source": [
        "#### 7. Explain what a condition is and where you would use one."
      ]
    },
    {
      "cell_type": "markdown",
      "metadata": {
        "id": "dDord5Qj_Pr2"
      },
      "source": [
        "> A condition is an expression that evaluates to either True or False \\\r\n",
        "> It is mainly used whether to decide if a loop should go for the next iteration"
      ]
    },
    {
      "cell_type": "markdown",
      "metadata": {
        "id": "aHob1nul3kmw"
      },
      "source": [
        "#### 8. Identify the three blocks in this code:\r\n",
        "\r\n",
        "```\r\n",
        "spam = 0\r\n",
        "if spam == 10:\r\n",
        "    print('eggs')\r\n",
        "    if spam > 5:\r\n",
        "        print('bacon')\r\n",
        "    else:\r\n",
        "        print('ham')\r\n",
        "    print('spam')\r\n",
        "print('spam')```\r\n",
        "\r\n",
        "```\r\n",
        "\r\n"
      ]
    },
    {
      "cell_type": "markdown",
      "metadata": {
        "id": "wgmuum6lB9fn"
      },
      "source": [
        "> 3 blocks: outer if, inner if and the else corresponding to inner if"
      ]
    },
    {
      "cell_type": "markdown",
      "metadata": {
        "id": "2Apnn4AO3knN"
      },
      "source": [
        "#### 9. Write code that prints `Hello` if 1 is stored in `spam`, prints `Howdy` if 2 is stored in spam, and prints `Greetings!` if anything else is stored in spam."
      ]
    },
    {
      "cell_type": "code",
      "metadata": {
        "colab": {
          "base_uri": "https://localhost:8080/"
        },
        "id": "54bF7wj7CW80",
        "outputId": "2677411d-e1d5-4be6-f79c-e10904bd5a7c"
      },
      "source": [
        "spam = \"\"\r\n",
        "\r\n",
        "if spam==1:\r\n",
        "  print(\"Hello\")\r\n",
        "elif spam == 2:\r\n",
        "  print(\"Howdy\")\r\n",
        "else:\r\n",
        "  print(\"Greetings!\")"
      ],
      "execution_count": null,
      "outputs": [
        {
          "output_type": "stream",
          "text": [
            "Greetings!\n"
          ],
          "name": "stdout"
        }
      ]
    },
    {
      "cell_type": "markdown",
      "metadata": {
        "id": "r1AqUrsH3knu"
      },
      "source": [
        "#### 10. What keys can you press if your program is stuck in an infinite loop?"
      ]
    },
    {
      "cell_type": "markdown",
      "metadata": {
        "id": "Td9AAwNyC0AP"
      },
      "source": [
        "<kbd> Ctrl</kbd> + <kbd> C</kbd>"
      ]
    },
    {
      "cell_type": "markdown",
      "metadata": {
        "id": "RJYvUNr83koO"
      },
      "source": [
        "#### 11. What is the difference between break and continue?\r\n"
      ]
    },
    {
      "cell_type": "markdown",
      "metadata": {
        "id": "7TYJSzBpDCBN"
      },
      "source": [
        "> `break`: The flow of control exits the loop the moment when `break` is encountered \\\r\n",
        "> `continue`: The flow of control just goes to the next iteration and doesn't break from the loop"
      ]
    },
    {
      "cell_type": "markdown",
      "metadata": {
        "id": "9XnpuVTq3kov"
      },
      "source": [
        "#### 12. What is the difference between `range(10), range(0, 10)`, and `range(0, 10, 1)` in a for loop?"
      ]
    },
    {
      "cell_type": "markdown",
      "metadata": {
        "id": "OHUAdd3xD3fJ"
      },
      "source": [
        "range(10) : range(stop) - the range feeds values till 10(from 0) to the for loop \\\r\n",
        "range(0, 10) : range(start, stop) - the range feeds values from 0 to 10 to the for loop\\\r\n",
        "range(0, 10, 1) : range(start, stop, step) - the range feeds values from 0 to 10 with difference between consecutive elements = 1(step) to the for loop \\\r\n",
        "In effect, the output of the loop remains the same - 0 through 10"
      ]
    },
    {
      "cell_type": "markdown",
      "metadata": {
        "id": "B6Q83Jda3kpy"
      },
      "source": [
        "#### 13. Write a short program that prints the numbers 1 to 10 using a for loop. Then write an equivalent program that prints the numbers 1 to 10 using a while loop.\r\n"
      ]
    },
    {
      "cell_type": "code",
      "metadata": {
        "colab": {
          "base_uri": "https://localhost:8080/"
        },
        "id": "0l7cmZC6HgUC",
        "outputId": "0bf0ef2e-3d04-4a6b-9b82-6d2d28c01a8b"
      },
      "source": [
        "#for loop\r\n",
        "print(\"For loop:\", end = \" \")\r\n",
        "for i in range(1, 11):\r\n",
        "  print(i, end = \" \")\r\n",
        "\r\n",
        "print(\"\\nWhile loop:\",end=\" \")\r\n",
        "# while loop\r\n",
        "i = 1\r\n",
        "while(i<=10):\r\n",
        "  print(i, end=\" \")\r\n",
        "  i += 1\r\n"
      ],
      "execution_count": null,
      "outputs": [
        {
          "output_type": "stream",
          "text": [
            "For loop: 1 2 3 4 5 6 7 8 9 10 \n",
            "While loop: 1 2 3 4 5 6 7 8 9 10 "
          ],
          "name": "stdout"
        }
      ]
    },
    {
      "cell_type": "markdown",
      "metadata": {
        "id": "Pc1fmnzK3kqS"
      },
      "source": [
        "#### 14. If you had a function named bacon() inside a module named spam, how would you call it after importing spam?\r\n"
      ]
    },
    {
      "cell_type": "markdown",
      "metadata": {
        "id": "yNwlCv9SQwc4"
      },
      "source": [
        "```spam.bacon()```"
      ]
    }
  ]
}