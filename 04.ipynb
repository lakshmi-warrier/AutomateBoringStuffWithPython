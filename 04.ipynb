{
  "nbformat": 4,
  "nbformat_minor": 0,
  "metadata": {
    "colab": {
      "name": "04.ipynb",
      "provenance": []
    },
    "kernelspec": {
      "name": "python3",
      "display_name": "Python 3"
    }
  },
  "cells": [
    {
      "cell_type": "markdown",
      "metadata": {
        "id": "m5QiZ-jwMHQB"
      },
      "source": [
        "#### 1. What is `[]`?\r\n",
        "> Empty list"
      ]
    },
    {
      "cell_type": "markdown",
      "metadata": {
        "id": "dzWAcI2RMVhP"
      },
      "source": [
        "#### 2. How would you assign the value 'hello' as the third value in a list stored in a variable named spam? (Assume spam contains [2, 4, 6, 8, 10].)\r\n",
        "> ``` spam[2] = 'hello'```"
      ]
    },
    {
      "cell_type": "markdown",
      "metadata": {
        "id": "NkFgtHIwMo2n"
      },
      "source": [
        "#### For the following three questions, let’s say spam contains the list ['a', 'b', 'c', 'd'].\r\n",
        "\r\n",
        "##### 3. What does spam[int(int('3' * 2) // 11)] evaluate to?\r\n",
        "> 'd'\r\n",
        "##### 4. What does spam[-1] evaluate to?\r\n",
        "> last element in the list -> 'd'\r\n",
        "##### 5. What does spam[:2] evaluate to?\r\n",
        "> Every element from 0 to 2(exculsive) -> ['a', 'b']"
      ]
    },
    {
      "cell_type": "code",
      "metadata": {
        "colab": {
          "base_uri": "https://localhost:8080/"
        },
        "id": "GOR0JBGaMQuB",
        "outputId": "575f37ba-6b82-4d91-c42a-1198e463b000"
      },
      "source": [
        "spam = ['a', 'b', 'c', 'd']\r\n",
        "spam[int(int('3' * 2) // 11)], spam[-1], spam[:2]"
      ],
      "execution_count": null,
      "outputs": [
        {
          "output_type": "execute_result",
          "data": {
            "text/plain": [
              "('d', 'd', ['a', 'b'])"
            ]
          },
          "metadata": {
            "tags": []
          },
          "execution_count": 3
        }
      ]
    },
    {
      "cell_type": "markdown",
      "metadata": {
        "id": "CzQZSfQxNqWb"
      },
      "source": [
        "#### For the following three questions, let’s say bacon contains the list [3.14, 'cat', 11, 'cat', True].\r\n",
        "\r\n",
        "6. What does bacon.index('cat') evaluate to?\r\n",
        "> 1\r\n",
        "7. What does bacon.append(99) make the list value in bacon look like?\r\n",
        "> ```[3.14, 'cat', 11, 'cat', True, 99] ```\r\n",
        "8. What does bacon.remove('cat') make the list value in bacon look like?\r\n",
        "> ```[3.14, 11, 'cat', True, 99] ```"
      ]
    },
    {
      "cell_type": "markdown",
      "metadata": {
        "id": "X2XcWpzBOoYx"
      },
      "source": [
        "### 9. What are the operators for list concatenation and list replication?\r\n",
        "\r\n"
      ]
    },
    {
      "cell_type": "markdown",
      "metadata": {
        "id": "-8b4ivalPbpq"
      },
      "source": [
        "> `+` for list concatenation and `*` for list replication"
      ]
    },
    {
      "cell_type": "markdown",
      "metadata": {
        "id": "otE5DyJdOy_Z"
      },
      "source": [
        "#### 10. What is the difference between the `append()` and `insert()` list methods?\r\n",
        "> `append()` adds an element at the end of the list \\\r\n",
        "> `insert(pos, item)` adds an element `item` at `pos`"
      ]
    },
    {
      "cell_type": "markdown",
      "metadata": {
        "id": "sblEnmotQ89y"
      },
      "source": [
        "#### 11. What are two ways to remove values from a list?\r\n",
        "> `del` and `remove()`\\\r\n",
        "\r\n",
        "> ```del spam[2]``` removes 3rd element from spam \\\r\n",
        "```spam.remove('cat')``` removes the first occurence of cat from the list"
      ]
    },
    {
      "cell_type": "markdown",
      "metadata": {
        "id": "sVomuzJUSb-U"
      },
      "source": [
        "#### 12.Name a few ways that list values are similar to string values.\r\n",
        "- Concatenation using `+` and replication using `*`\r\n",
        "- Augmented assignment operation\r\n",
        "- Slicing can be done by `[:]` and an item/character at `pos` can be referred by `[pos]`"
      ]
    },
    {
      "cell_type": "markdown",
      "metadata": {
        "id": "s8Y9QmT9UR3P"
      },
      "source": [
        "#### 13. What is the difference between lists and tuples?\r\n",
        "- lists are mutable while tuples are not\r\n",
        "- both are sequence types\r\n",
        "- looping through item/characters\r\n",
        "- `len()` and membership operators ( `in` and `not in`) can be used on both\r\n",
        "- lists are typed in `[]` while tuples are typed in `()`\r\n",
        "- `spam = [12]` considers `spam` to be a `list` but `spam = (12)` considers spam to be an `int` and not `tuple`. So if there is only one element, `spam = (12,)`"
      ]
    },
    {
      "cell_type": "code",
      "metadata": {
        "colab": {
          "base_uri": "https://localhost:8080/"
        },
        "id": "9qwS8DxKN4eR",
        "outputId": "e4dde6df-474d-4f8f-ace9-d16c23119c9b"
      },
      "source": [
        "l = [12]\r\n",
        "s = (12)\r\n",
        "r = (12, )\r\n",
        "type(l), type(s), type(r)"
      ],
      "execution_count": null,
      "outputs": [
        {
          "output_type": "execute_result",
          "data": {
            "text/plain": [
              "(list, int, tuple)"
            ]
          },
          "metadata": {
            "tags": []
          },
          "execution_count": 12
        }
      ]
    },
    {
      "cell_type": "markdown",
      "metadata": {
        "id": "dYV6Du7cVqWy"
      },
      "source": [
        "#### 14. How do you type the tuple value that has just the integer value 42 in it?\r\n",
        "> `spam = (42,)`"
      ]
    },
    {
      "cell_type": "markdown",
      "metadata": {
        "id": "NwYa6MmpXHRS"
      },
      "source": [
        "#### 15. How can you get the tuple form of a list value? How can you get the list form of a tuple value?\r\n"
      ]
    },
    {
      "cell_type": "code",
      "metadata": {
        "colab": {
          "base_uri": "https://localhost:8080/"
        },
        "id": "GJjHbNn7OMz4",
        "outputId": "3740198f-607e-45c8-f6e7-b853438846b1"
      },
      "source": [
        "spam = (42, )\r\n",
        "spam = list(spam)\r\n",
        "print(\"spam - list: \", spam)\r\n",
        "spam = tuple(spam)\r\n",
        "print(\"spam - tuple: \", spam)"
      ],
      "execution_count": null,
      "outputs": [
        {
          "output_type": "stream",
          "text": [
            "spam - list:  [42]\n",
            "spam - tuple:  (42,)\n"
          ],
          "name": "stdout"
        }
      ]
    },
    {
      "cell_type": "markdown",
      "metadata": {
        "id": "CyxoKcXFX22c"
      },
      "source": [
        "#### 16. Variables that “contain” list values don’t actually contain lists directly. What do they contain instead?\r\n",
        "\r\n",
        "> reference to the computer memeory where the values are stored"
      ]
    },
    {
      "cell_type": "markdown",
      "metadata": {
        "id": "E6WeSWuCYX_N"
      },
      "source": [
        "#### 17. What is the difference between copy.copy() and copy.deepcopy()?"
      ]
    },
    {
      "cell_type": "markdown",
      "metadata": {
        "id": "_Dhbi8xA_POQ"
      },
      "source": [
        "> ``copy.deepcopy()`` copies the list by value \\\n",
        "and \\\n",
        "``copy.copy()`` copies the list by reference"
      ]
    },
    {
      "cell_type": "markdown",
      "metadata": {
        "id": "zILl7ytl_OSY"
      },
      "source": [
        ""
      ]
    },
    {
      "cell_type": "markdown",
      "metadata": {
        "id": "XeaQNKsxo2px"
      },
      "source": [
        "### COMMA CODE"
      ]
    },
    {
      "cell_type": "code",
      "metadata": {
        "colab": {
          "base_uri": "https://localhost:8080/",
          "height": 35
        },
        "id": "R4E2pdC-kdyD",
        "outputId": "7a092467-b5f3-4b9d-dcf5-5dda84db9b03"
      },
      "source": [
        "def listToString(lst):\r\n",
        "  out = \"\"\r\n",
        "  for i in lst[:-1]:\r\n",
        "    out+=str(i)+\", \"\r\n",
        "  if len(lst)!=0:\r\n",
        "     out+=lst[-1]\r\n",
        "  return out\r\n",
        "\r\n",
        "lst = [23, 45, 'lsks', 'fsd']\r\n",
        "listToString(lst)"
      ],
      "execution_count": null,
      "outputs": [
        {
          "output_type": "execute_result",
          "data": {
            "application/vnd.google.colaboratory.intrinsic+json": {
              "type": "string"
            },
            "text/plain": [
              "'23, 45, lsks, fsd'"
            ]
          },
          "metadata": {
            "tags": []
          },
          "execution_count": 27
        }
      ]
    },
    {
      "cell_type": "markdown",
      "metadata": {
        "id": "jZw9bGjjpIij"
      },
      "source": [
        "### COIN FLIP STREAKS"
      ]
    },
    {
      "cell_type": "code",
      "metadata": {
        "colab": {
          "base_uri": "https://localhost:8080/"
        },
        "id": "qfDS2Y9-mrCg",
        "outputId": "06de8ff1-9766-42a6-c30c-440dbbb2c685"
      },
      "source": [
        "import random\r\n",
        "numberOfStreaks = 0\r\n",
        "for experimentNumber in range(10000):\r\n",
        "    # Code that creates a list of 100 'heads' or 'tails' values.\r\n",
        "    head_tails = []\r\n",
        "    for i in range(100):\r\n",
        "      head_tails.append(random.randint(0, 1))\r\n",
        "    \r\n",
        "    curr_streak=0\r\n",
        "    for flip in range(1,len(head_tails)):\r\n",
        "      if head_tails[flip-1] == head_tails[flip]:\r\n",
        "        curr_streak += 1\r\n",
        "      else:\r\n",
        "        if curr_streak==6:\r\n",
        "          numberOfStreaks+=1\r\n",
        "        curr_streak=0\r\n",
        "\r\n",
        "\r\n",
        "    # Code that checks if there is a streak of 6 heads or tails in a row.\r\n",
        "print('Chance of streak: %s%%' % (numberOfStreaks / 100))"
      ],
      "execution_count": null,
      "outputs": [
        {
          "output_type": "stream",
          "text": [
            "Chance of streak: 35.02%\n"
          ],
          "name": "stdout"
        }
      ]
    },
    {
      "cell_type": "markdown",
      "metadata": {
        "id": "QybVJQdIwWPH"
      },
      "source": [
        "#### CHARACTER PICTURE GRID"
      ]
    },
    {
      "cell_type": "code",
      "metadata": {
        "colab": {
          "base_uri": "https://localhost:8080/"
        },
        "id": "Ypz9sIEjwaHV",
        "outputId": "e455b8e3-dd88-4573-80f5-f28a5fa03dd2"
      },
      "source": [
        "grid = [['.', '.', '.', '.', '.', '.'],\r\n",
        "        ['.', 'O', 'O', '.', '.', '.'],\r\n",
        "        ['O', 'O', 'O', 'O', '.', '.'],\r\n",
        "        ['O', 'O', 'O', 'O', 'O', '.'],\r\n",
        "        ['.', 'O', 'O', 'O', 'O', 'O'],\r\n",
        "        ['O', 'O', 'O', 'O', 'O', '.'],\r\n",
        "        ['O', 'O', 'O', 'O', '.', '.'],\r\n",
        "        ['.', 'O', 'O', '.', '.', '.'],\r\n",
        "        ['.', '.', '.', '.', '.', '.']]\r\n",
        "\r\n",
        "for i in grid:\r\n",
        "  for j in range(len(i)):\r\n",
        "    print(i[j], end=\" \")\r\n",
        "  print(\"\\n\")"
      ],
      "execution_count": null,
      "outputs": [
        {
          "output_type": "stream",
          "text": [
            ". . . . . . \n",
            "\n",
            ". O O . . . \n",
            "\n",
            "O O O O . . \n",
            "\n",
            "O O O O O . \n",
            "\n",
            ". O O O O O \n",
            "\n",
            "O O O O O . \n",
            "\n",
            "O O O O . . \n",
            "\n",
            ". O O . . . \n",
            "\n",
            ". . . . . . \n",
            "\n"
          ],
          "name": "stdout"
        }
      ]
    }
  ]
}