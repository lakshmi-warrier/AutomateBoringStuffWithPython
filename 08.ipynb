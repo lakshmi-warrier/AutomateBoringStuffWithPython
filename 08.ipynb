{
 "cells": [
  {
   "cell_type": "markdown",
   "metadata": {},
   "source": [
    "### 1. Does PyInputPlus come with the Python Standard Library?\n",
    "> No"
   ]
  },
  {
   "cell_type": "markdown",
   "metadata": {},
   "source": [
    "### 2. Why is PyInputPlus commonly imported with import pyinputplus as pyip?\n",
    "> Since we use the module name quite often and the module name is long, it's a disadvantage if we have to use the whole name every time"
   ]
  },
  {
   "cell_type": "markdown",
   "metadata": {},
   "source": [
    "### 3. What is the difference between inputInt() and inputFloat()?\n",
    "> `inputInt()` validates integer inputs, while `inputFloat()` checks if the input is float"
   ]
  },
  {
   "cell_type": "markdown",
   "metadata": {},
   "source": [
    "### 4. How can you ensure that the user enters a whole number between 0 and 99 using PyInputPlus?\n",
    "> by setting min and max parameters of inputInt() as 0 and 99 respectively \n",
    "\\\n",
    "` pyip.inputInt(min=0, max=99)`"
   ]
  },
  {
   "cell_type": "markdown",
   "metadata": {},
   "source": [
    "### 5. What is passed to the allowRegexes and blockRegexes keyword arguments?\n",
    "> The regex format that needs to be in the input string so that the input is considered valid is passed to `allowRegexes` \\\n",
    "> The regex formats that needs to be **excluded** in the string so that it is considered valid input is passed to `blockRegexes`"
   ]
  },
  {
   "cell_type": "markdown",
   "metadata": {},
   "source": [
    "### 6. What does `inputStr(limit=3)` do if blank input is entered three times?\n",
    "> A `RetryLimitException` is raised"
   ]
  },
  {
   "cell_type": "markdown",
   "metadata": {},
   "source": [
    "### 7. What does `inputStr(limit=3, default='hello')` do if blank input is entered three times?\n",
    "> The output will be `hello` as default argument is returned instead of an exception."
   ]
  },
  {
   "cell_type": "markdown",
   "metadata": {},
   "source": [
    "### SANDWICH MAKER"
   ]
  },
  {
   "cell_type": "code",
   "execution_count": null,
   "metadata": {},
   "outputs": [],
   "source": [
    "print(\"Bread\")\n",
    "bread_type = pyip.inputMenu(['wheat', 'white', 'sourdough'])\n",
    "\n",
    "print(\"Protein type\")\n",
    "protein_type = pyip.inputMenu( ['chicken', 'turkey', 'ham', 'tofu'])\n",
    "need_cheese = pyip.inputYesNo(prompt=\"Want some cheese?\")\n",
    "if need_cheese == \"yes\":\n",
    "    print(\"Cheese\")\n",
    "    cheese_type = pyip.inputMenu(['mayo', 'mustard', 'lettuce', 'tomato'])\n",
    "\n",
    "sandwich_num = pyip.inputInt(prompt=\"How many sandwiches do you want?\", min=1)"
   ]
  },
  {
   "cell_type": "code",
   "execution_count": 10,
   "metadata": {},
   "outputs": [
    {
     "name": "stdout",
     "output_type": "stream",
     "text": [
      "Bread\n",
      "Please select one of the following:\n",
      "* wheat\n",
      "* white\n",
      "* sourdough\n",
      "wheat\n",
      "Price so far:  7.5 \n",
      "\n",
      "Protein type\n",
      "Please select one of the following:\n",
      "* chicken\n",
      "* turkey\n",
      "* ham\n",
      "* tofu\n",
      "ham\n",
      "Price so far:  13.5 \n",
      "\n",
      "Want some cheese?no\n",
      "Want mayo, mustard, lettuce or tomato?yes\n",
      "Please select one of the following:\n",
      "* mayo\n",
      "* mustard\n",
      "* lettuce\n",
      "* tomato\n",
      "mayo\n",
      "Price so far:  15.5 \n",
      "\n",
      "Price for one sandwich: 15.5\n",
      "How many sandwiches do you want?4\n",
      "Thank you, please pay 62.0 at the counter\n"
     ]
    }
   ],
   "source": [
    "price = 0.0\n",
    "print(\"Bread\")\n",
    "bread_choice = {'wheat' : 7.5, 'white':6, 'sourdough':8.25}\n",
    "bread_type = pyip.inputMenu(list(bread_choice.keys()))\n",
    "price+=bread_choice[bread_type]\n",
    "\n",
    "print(\"Price so far: \",price, \"\\n\\nProtein type\")\n",
    "\n",
    "protein_choice = {'chicken':5, 'turkey':10, 'ham':6, 'tofu':10}\n",
    "protein_type = pyip.inputMenu(list(protein_choice.keys()))\n",
    "price+=protein_choice[protein_type]\n",
    "\n",
    "print(\"Price so far: \",price,\"\\n\")\n",
    "\n",
    "need_cheese = pyip.inputYesNo(prompt=\"Want some cheese?\")\n",
    "if need_cheese == \"yes\":\n",
    "    print(\"Cheese\")\n",
    "    cheese_choice = {'cheddar': 10, 'Swiss':11, 'mozzarella':15}\n",
    "    cheese_type = pyip.inputMenu(list(cheese_choice.keys()))\n",
    "    price += cheese_choice[cheese_type]\n",
    "    print(\"Price so far: \",price,\"\\n\")\n",
    "    \n",
    "need_extras = pyip.inputYesNo(prompt=\"Want mayo, mustard, lettuce or tomato?\")\n",
    "if need_extras == 'yes':\n",
    "    extras = {'mayo':2, 'mustard':3, 'lettuce':1.5, 'tomato':2.5}\n",
    "    extra_type = pyip.inputMenu(list(extras.keys()))\n",
    "    price += extras[extra_type]\n",
    "    print(\"Price so far: \",price,\"\\n\")\n",
    "    \n",
    "print(f\"Price for one sandwich: {price}\")\n",
    "sandwich_num = pyip.inputInt(prompt=\"How many sandwiches do you want?\", min=1)\n",
    "\n",
    "print(f\"Thank you, please pay {sandwich_num*price} at the counter\")"
   ]
  },
  {
   "cell_type": "code",
   "execution_count": 22,
   "metadata": {},
   "outputs": [
    {
     "name": "stdout",
     "output_type": "stream",
     "text": [
      "6x3 = ?\n",
      "Ans: 18\n",
      "Right Answer\n",
      "0x2 = ?\n",
      "Ans: 0\n",
      "Right Answer\n",
      "1x6 = ?\n",
      "Ans: 2\n",
      "Ans: 3\n",
      "Ans: 2\n",
      "Sorry 3 chances over\n",
      "3x7 = ?\n",
      "Ans: 2\n"
     ]
    },
    {
     "ename": "KeyboardInterrupt",
     "evalue": "Interrupted by user",
     "output_type": "error",
     "traceback": [
      "\u001b[0;31m---------------------------------------------------------------------------\u001b[0m",
      "\u001b[0;31mKeyboardInterrupt\u001b[0m                         Traceback (most recent call last)",
      "\u001b[0;32m<ipython-input-22-dccc71645d96>\u001b[0m in \u001b[0;36m<module>\u001b[0;34m\u001b[0m\n\u001b[1;32m     24\u001b[0m \u001b[0;34m\u001b[0m\u001b[0m\n\u001b[1;32m     25\u001b[0m \u001b[0;32mfor\u001b[0m \u001b[0mi\u001b[0m \u001b[0;32min\u001b[0m \u001b[0mrange\u001b[0m\u001b[0;34m(\u001b[0m\u001b[0;36m11\u001b[0m\u001b[0;34m)\u001b[0m\u001b[0;34m:\u001b[0m\u001b[0;34m\u001b[0m\u001b[0;34m\u001b[0m\u001b[0m\n\u001b[0;32m---> 26\u001b[0;31m     \u001b[0mquiz\u001b[0m\u001b[0;34m(\u001b[0m\u001b[0;34m)\u001b[0m\u001b[0;34m\u001b[0m\u001b[0;34m\u001b[0m\u001b[0m\n\u001b[0m",
      "\u001b[0;32m<ipython-input-22-dccc71645d96>\u001b[0m in \u001b[0;36mquiz\u001b[0;34m()\u001b[0m\n\u001b[1;32m     10\u001b[0m     \u001b[0;32mwhile\u001b[0m \u001b[0mchance\u001b[0m\u001b[0;34m<\u001b[0m\u001b[0;36m3\u001b[0m\u001b[0;34m:\u001b[0m\u001b[0;34m\u001b[0m\u001b[0;34m\u001b[0m\u001b[0m\n\u001b[1;32m     11\u001b[0m         \u001b[0mchance\u001b[0m \u001b[0;34m+=\u001b[0m \u001b[0;36m1\u001b[0m\u001b[0;34m\u001b[0m\u001b[0;34m\u001b[0m\u001b[0m\n\u001b[0;32m---> 12\u001b[0;31m         \u001b[0ma\u001b[0m \u001b[0;34m=\u001b[0m \u001b[0minput\u001b[0m\u001b[0;34m(\u001b[0m\u001b[0;34m\"Ans: \"\u001b[0m\u001b[0;34m)\u001b[0m\u001b[0;34m\u001b[0m\u001b[0;34m\u001b[0m\u001b[0m\n\u001b[0m\u001b[1;32m     13\u001b[0m         \u001b[0;32mtry\u001b[0m\u001b[0;34m:\u001b[0m\u001b[0;34m\u001b[0m\u001b[0;34m\u001b[0m\u001b[0m\n\u001b[1;32m     14\u001b[0m             \u001b[0ma\u001b[0m \u001b[0;34m=\u001b[0m \u001b[0mint\u001b[0m\u001b[0;34m(\u001b[0m\u001b[0ma\u001b[0m\u001b[0;34m)\u001b[0m\u001b[0;34m\u001b[0m\u001b[0;34m\u001b[0m\u001b[0m\n",
      "\u001b[0;32m~/.local/lib/python3.8/site-packages/ipykernel/kernelbase.py\u001b[0m in \u001b[0;36mraw_input\u001b[0;34m(self, prompt)\u001b[0m\n\u001b[1;32m    858\u001b[0m                 \u001b[0;34m\"raw_input was called, but this frontend does not support input requests.\"\u001b[0m\u001b[0;34m\u001b[0m\u001b[0;34m\u001b[0m\u001b[0m\n\u001b[1;32m    859\u001b[0m             )\n\u001b[0;32m--> 860\u001b[0;31m         return self._input_request(str(prompt),\n\u001b[0m\u001b[1;32m    861\u001b[0m             \u001b[0mself\u001b[0m\u001b[0;34m.\u001b[0m\u001b[0m_parent_ident\u001b[0m\u001b[0;34m,\u001b[0m\u001b[0;34m\u001b[0m\u001b[0;34m\u001b[0m\u001b[0m\n\u001b[1;32m    862\u001b[0m             \u001b[0mself\u001b[0m\u001b[0;34m.\u001b[0m\u001b[0m_parent_header\u001b[0m\u001b[0;34m,\u001b[0m\u001b[0;34m\u001b[0m\u001b[0;34m\u001b[0m\u001b[0m\n",
      "\u001b[0;32m~/.local/lib/python3.8/site-packages/ipykernel/kernelbase.py\u001b[0m in \u001b[0;36m_input_request\u001b[0;34m(self, prompt, ident, parent, password)\u001b[0m\n\u001b[1;32m    902\u001b[0m             \u001b[0;32mexcept\u001b[0m \u001b[0mKeyboardInterrupt\u001b[0m\u001b[0;34m:\u001b[0m\u001b[0;34m\u001b[0m\u001b[0;34m\u001b[0m\u001b[0m\n\u001b[1;32m    903\u001b[0m                 \u001b[0;31m# re-raise KeyboardInterrupt, to truncate traceback\u001b[0m\u001b[0;34m\u001b[0m\u001b[0;34m\u001b[0m\u001b[0;34m\u001b[0m\u001b[0m\n\u001b[0;32m--> 904\u001b[0;31m                 \u001b[0;32mraise\u001b[0m \u001b[0mKeyboardInterrupt\u001b[0m\u001b[0;34m(\u001b[0m\u001b[0;34m\"Interrupted by user\"\u001b[0m\u001b[0;34m)\u001b[0m \u001b[0;32mfrom\u001b[0m \u001b[0;32mNone\u001b[0m\u001b[0;34m\u001b[0m\u001b[0;34m\u001b[0m\u001b[0m\n\u001b[0m\u001b[1;32m    905\u001b[0m             \u001b[0;32mexcept\u001b[0m \u001b[0mException\u001b[0m \u001b[0;32mas\u001b[0m \u001b[0me\u001b[0m\u001b[0;34m:\u001b[0m\u001b[0;34m\u001b[0m\u001b[0;34m\u001b[0m\u001b[0m\n\u001b[1;32m    906\u001b[0m                 \u001b[0mself\u001b[0m\u001b[0;34m.\u001b[0m\u001b[0mlog\u001b[0m\u001b[0;34m.\u001b[0m\u001b[0mwarning\u001b[0m\u001b[0;34m(\u001b[0m\u001b[0;34m\"Invalid Message:\"\u001b[0m\u001b[0;34m,\u001b[0m \u001b[0mexc_info\u001b[0m\u001b[0;34m=\u001b[0m\u001b[0;32mTrue\u001b[0m\u001b[0;34m)\u001b[0m\u001b[0;34m\u001b[0m\u001b[0;34m\u001b[0m\u001b[0m\n",
      "\u001b[0;31mKeyboardInterrupt\u001b[0m: Interrupted by user"
     ]
    }
   ],
   "source": [
    "import random\n",
    "\n",
    "def quiz():\n",
    "    a = random.randint(0, 9)\n",
    "    b = random.randint(0, 9)\n",
    "\n",
    "    print(f\"{a}x{b} = ?\")\n",
    "    ans = a*b\n",
    "    chance = 0\n",
    "    while chance<3:\n",
    "        chance += 1\n",
    "        a = input(\"Ans: \")\n",
    "        try:\n",
    "            a = int(a)\n",
    "\n",
    "        except ValueError:\n",
    "            print(\"Not a number\")\n",
    "            continue\n",
    "        if a==ans:\n",
    "            print(\"Right Answer\")\n",
    "            break\n",
    "        else:\n",
    "            print(\"Try Again\")\n",
    "    if chance ==3:\n",
    "        print(f\"Sorry {chance} chances over\")\n",
    "\n",
    "for i in range(11):\n",
    "    quiz()"
   ]
  }
 ],
 "metadata": {
  "kernelspec": {
   "display_name": "Python 3",
   "language": "python",
   "name": "python3"
  },
  "language_info": {
   "codemirror_mode": {
    "name": "ipython",
    "version": 3
   },
   "file_extension": ".py",
   "mimetype": "text/x-python",
   "name": "python",
   "nbconvert_exporter": "python",
   "pygments_lexer": "ipython3",
   "version": "3.8.3"
  }
 },
 "nbformat": 4,
 "nbformat_minor": 4
}
