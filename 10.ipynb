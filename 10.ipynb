{
 "cells": [
  {
   "cell_type": "code",
   "execution_count": 2,
   "metadata": {},
   "outputs": [],
   "source": [
    "import shutil, os\n",
    "from pathlib import Path"
   ]
  },
  {
   "cell_type": "markdown",
   "metadata": {},
   "source": [
    "### 1. What is the difference between shutil.copy() and shutil.copytree()?\n",
    "> `shutil.copy()` copies a single file from source to destination while `shutil.copytree()` can copy a directory as a whole from source to destination"
   ]
  },
  {
   "cell_type": "markdown",
   "metadata": {},
   "source": [
    "### 2. What function is used to rename files?\n",
    "> `shutil.move('old_filename', 'new_filename')`"
   ]
  },
  {
   "cell_type": "markdown",
   "metadata": {},
   "source": [
    "### 3. What is the difference between the delete functions in the send2trash and shutil modules?\n",
    "> delete functions in `send2trash` will not permanently delete the files, it will just send the files to trash/recycle bin while delete functions in `shutil` will permanently delete the files"
   ]
  },
  {
   "cell_type": "markdown",
   "metadata": {},
   "source": [
    "### 4. ZipFile objects have a close() method just like File objects’ close() method. What ZipFile method is equivalent to File objects’ open() method?\n",
    "> `zipfile.ZipFile('zipfile_name.zip', 'mode')`"
   ]
  },
  {
   "cell_type": "markdown",
   "metadata": {},
   "source": [
    "### SELECTIVE COPY"
   ]
  },
  {
   "cell_type": "code",
   "execution_count": 37,
   "metadata": {
    "scrolled": true
   },
   "outputs": [
    {
     "name": "stdout",
     "output_type": "stream",
     "text": [
      "B1 HeadFirst_JAVA.pdf\n",
      "/home/lakshmi/AutomateBoringStuffWithPython/spam/B1 HeadFirst_JAVA.pdf /home/lakshmi/UltimateSpam/B1 HeadFirst_JAVA.pdf\n",
      "tree_light_dark_82372_1920x1080.jpg\n",
      "/home/lakshmi/AutomateBoringStuffWithPython/spam/tree_light_dark_82372_1920x1080.jpg /home/lakshmi/UltimateSpam/tree_light_dark_82372_1920x1080.jpg\n",
      "bg with TT.jpg\n",
      "/home/lakshmi/AutomateBoringStuffWithPython/spam/bg with TT.jpg /home/lakshmi/UltimateSpam/bg with TT.jpg\n"
     ]
    }
   ],
   "source": [
    "p = Path.cwd()\n",
    "for folderName, subfolders, filenames in os.walk(p):\n",
    "    for filename in filenames:\n",
    "        if filename.endswith('.pdf') or filename.endswith('.jpg'):\n",
    "            print(filename)\n",
    "            #print('FILE INSIDE ' + folderName + ': '+ filename)\n",
    "            print(folderName/Path(filename), Path('/home/lakshmi/UltimateSpam')/Path(filename))\n",
    "            shutil.copy(folderName/Path(filename), Path('/home/lakshmi/UltimateSpam'))\n",
    "            "
   ]
  },
  {
   "cell_type": "markdown",
   "metadata": {},
   "source": [
    "### DELETING UNNEEDED FILES"
   ]
  },
  {
   "cell_type": "code",
   "execution_count": 55,
   "metadata": {},
   "outputs": [
    {
     "name": "stdout",
     "output_type": "stream",
     "text": [
      "/home/lakshmi/AutomateBoringStuffWithPython/Maths22Dec.mp4 --- 272.723993 MB\n",
      "/home/lakshmi/AutomateBoringStuffWithPython/Electrical28Dec.mp4 --- 166.18286 MB\n",
      "Done\n"
     ]
    }
   ],
   "source": [
    "p = Path.cwd()\n",
    "for folderName, subfolders, filenames in os.walk(p):\n",
    "    for filename in filenames:\n",
    "        #print(Path(folderName, filename))\n",
    "        size = os.path.getsize(str(Path(folderName, filename)))\n",
    "        if size> 100000000: #100MB\n",
    "            print(Path(folderName, filename),\"---\",size/1000000, \"MB\")\n",
    "print(\"Done\")\n",
    "    "
   ]
  },
  {
   "cell_type": "markdown",
   "metadata": {},
   "source": [
    "### FILLING IN THE GAPS"
   ]
  },
  {
   "cell_type": "code",
   "execution_count": 70,
   "metadata": {},
   "outputs": [
    {
     "name": "stdout",
     "output_type": "stream",
     "text": [
      "/home/lakshmi/AutomateBoringStuffWithPython/spam/spam10.txt 001\n",
      "/home/lakshmi/AutomateBoringStuffWithPython/spam/spam001.txt 002\n",
      "/home/lakshmi/AutomateBoringStuffWithPython/spam/spam003 (copy).txt 003\n",
      "/home/lakshmi/AutomateBoringStuffWithPython/spam/spam002.txt 004\n",
      "/home/lakshmi/AutomateBoringStuffWithPython/spam/spam23.txt 005\n",
      "/home/lakshmi/AutomateBoringStuffWithPython/spam/spam003.txt 006\n"
     ]
    }
   ],
   "source": [
    "p = Path.cwd()/Path('spam')\n",
    "i = 0\n",
    "for folderName, subfolders, filenames in os.walk(p):\n",
    "    for filename in filenames:\n",
    "        if 'spam' in filename and '.txt' in filename:\n",
    "            i+=1\n",
    "            suffix = (\"00\"+str(i))[-3:]\n",
    "            print(Path(folderName)/Path(filename), suffix)\n",
    "            shutil.move(Path(folderName)/Path(filename), Path(folderName)/Path(f'spam{suffix}.txt'))\n",
    "        "
   ]
  },
  {
   "cell_type": "markdown",
   "metadata": {},
   "source": [
    "## PLAYGROUND"
   ]
  },
  {
   "cell_type": "code",
   "execution_count": 5,
   "metadata": {},
   "outputs": [
    {
     "data": {
      "text/plain": [
       "PosixPath('/home/lakshmi/AutomateBoringStuffWithPython')"
      ]
     },
     "execution_count": 5,
     "metadata": {},
     "output_type": "execute_result"
    }
   ],
   "source": [
    "p = Path.home()\n",
    "p\n",
    "Path.cwd()"
   ]
  },
  {
   "cell_type": "code",
   "execution_count": 2,
   "metadata": {},
   "outputs": [
    {
     "ename": "NameError",
     "evalue": "name 'shutil' is not defined",
     "output_type": "error",
     "traceback": [
      "\u001b[0;31m---------------------------------------------------------------------------\u001b[0m",
      "\u001b[0;31mNameError\u001b[0m                                 Traceback (most recent call last)",
      "\u001b[0;32m<ipython-input-2-ee7df5d67a21>\u001b[0m in \u001b[0;36m<module>\u001b[0;34m\u001b[0m\n\u001b[1;32m      2\u001b[0m \u001b[0;31m#shutil.copytree(file, path) will raise NotADirectoryError\u001b[0m\u001b[0;34m\u001b[0m\u001b[0;34m\u001b[0m\u001b[0;34m\u001b[0m\u001b[0m\n\u001b[1;32m      3\u001b[0m \u001b[0;34m\u001b[0m\u001b[0m\n\u001b[0;32m----> 4\u001b[0;31m \u001b[0mshutil\u001b[0m\u001b[0;34m.\u001b[0m\u001b[0mcopytree\u001b[0m\u001b[0;34m(\u001b[0m\u001b[0;34m'/home/lakshmi/Documents/AMRITA.odt'\u001b[0m\u001b[0;34m,\u001b[0m \u001b[0mPath\u001b[0m\u001b[0;34m.\u001b[0m\u001b[0mcwd\u001b[0m\u001b[0;34m(\u001b[0m\u001b[0;34m)\u001b[0m\u001b[0;34m)\u001b[0m\u001b[0;34m\u001b[0m\u001b[0;34m\u001b[0m\u001b[0m\n\u001b[0m",
      "\u001b[0;31mNameError\u001b[0m: name 'shutil' is not defined"
     ]
    }
   ],
   "source": [
    "#shutil.copy(directory, path) will raise IsADirectoryError\n",
    "#shutil.copytree(file, path) will raise NotADirectoryError\n",
    "\n",
    "shutil.copytree('/home/lakshmi/Documents/AMRITA.odt', Path.cwd())"
   ]
  },
  {
   "cell_type": "code",
   "execution_count": 15,
   "metadata": {},
   "outputs": [
    {
     "ename": "NameError",
     "evalue": "name 'PAth' is not defined",
     "output_type": "error",
     "traceback": [
      "\u001b[0;31m---------------------------------------------------------------------------\u001b[0m",
      "\u001b[0;31mNameError\u001b[0m                                 Traceback (most recent call last)",
      "\u001b[0;32m<ipython-input-15-7b7bdb44d999>\u001b[0m in \u001b[0;36m<module>\u001b[0;34m\u001b[0m\n\u001b[0;32m----> 1\u001b[0;31m \u001b[0mos\u001b[0m\u001b[0;34m.\u001b[0m\u001b[0munlink\u001b[0m\u001b[0;34m(\u001b[0m\u001b[0mPAth\u001b[0m\u001b[0;34m.\u001b[0m\u001b[0mcwd\u001b[0m\u001b[0;34m(\u001b[0m\u001b[0;34m)\u001b[0m\u001b[0;34m)\u001b[0m \u001b[0;31m#delete permanently\u001b[0m\u001b[0;34m\u001b[0m\u001b[0;34m\u001b[0m\u001b[0m\n\u001b[0m",
      "\u001b[0;31mNameError\u001b[0m: name 'PAth' is not defined"
     ]
    }
   ],
   "source": [
    "os.unlink(PAth.cwd()) #delete permanently"
   ]
  },
  {
   "cell_type": "markdown",
   "metadata": {},
   "source": [
    "`os.walk()` function will return three values on each iteration through the loop:\n",
    "- A string of the current folder’s name\n",
    "- A list of strings of the folders in the current folder\n",
    "- A list of strings of the files in the current folder\n"
   ]
  },
  {
   "cell_type": "code",
   "execution_count": 1,
   "metadata": {},
   "outputs": [],
   "source": [
    "import os\n",
    "\n",
    "for folderName, subfolders, filenames in os.walk(Path.cwd()):\n",
    "    print('The current folder is ' + folderName)\n",
    "\n",
    "    for subfolder in subfolders:\n",
    "        print('SUBFOLDER OF ' + folderName + ': ' + subfolder)\n",
    "\n",
    "    for filename in filenames:\n",
    "        print('FILE INSIDE ' + folderName + ': '+ filename)\n",
    "\n",
    "    print('')"
   ]
  }
 ],
 "metadata": {
  "kernelspec": {
   "display_name": "Python 3",
   "language": "python",
   "name": "python3"
  },
  "language_info": {
   "codemirror_mode": {
    "name": "ipython",
    "version": 3
   },
   "file_extension": ".py",
   "mimetype": "text/x-python",
   "name": "python",
   "nbconvert_exporter": "python",
   "pygments_lexer": "ipython3",
   "version": "3.8.5"
  }
 },
 "nbformat": 4,
 "nbformat_minor": 4
}
