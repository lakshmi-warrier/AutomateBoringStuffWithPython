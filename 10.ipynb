{
 "cells": [
  {
   "cell_type": "code",
   "execution_count": 2,
   "metadata": {},
   "outputs": [],
   "source": [
    "import shutil, os\n",
    "from pathlib import Path"
   ]
  },
  {
   "cell_type": "markdown",
   "metadata": {},
   "source": [
    "### 1. What is the difference between shutil.copy() and shutil.copytree()?\n",
    "> `shutil.copy()` copies a single file from source to destination while `shutil.copytree()` can copy a directory as a whole from source to destination"
   ]
  },
  {
   "cell_type": "markdown",
   "metadata": {},
   "source": [
    "### 2. What function is used to rename files?\n",
    "> `shutil.move('old_filename', 'new_filename')`"
   ]
  },
  {
   "cell_type": "markdown",
   "metadata": {},
   "source": [
    "### 3. What is the difference between the delete functions in the send2trash and shutil modules?\n",
    "> delete functions in `send2trash` will not permanently delete the files, it will just send the files to trash/recycle bin while delete functions in `shutil` will permanently delete the files"
   ]
  },
  {
   "cell_type": "markdown",
   "metadata": {},
   "source": [
    "### 4. ZipFile objects have a close() method just like File objects’ close() method. What ZipFile method is equivalent to File objects’ open() method?\n",
    "> `zipfile.ZipFile('zipfile_name.zip', 'mode')`"
   ]
  },
  {
   "cell_type": "markdown",
   "metadata": {},
   "source": [
    "### SELECTIVE COPY"
   ]
  },
  {
   "cell_type": "code",
   "execution_count": 37,
   "metadata": {
    "scrolled": true
   },
   "outputs": [
    {
     "name": "stdout",
     "output_type": "stream",
     "text": [
      "B1 HeadFirst_JAVA.pdf\n",
      "/home/lakshmi/AutomateBoringStuffWithPython/spam/B1 HeadFirst_JAVA.pdf /home/lakshmi/UltimateSpam/B1 HeadFirst_JAVA.pdf\n",
      "tree_light_dark_82372_1920x1080.jpg\n",
      "/home/lakshmi/AutomateBoringStuffWithPython/spam/tree_light_dark_82372_1920x1080.jpg /home/lakshmi/UltimateSpam/tree_light_dark_82372_1920x1080.jpg\n",
      "bg with TT.jpg\n",
      "/home/lakshmi/AutomateBoringStuffWithPython/spam/bg with TT.jpg /home/lakshmi/UltimateSpam/bg with TT.jpg\n"
     ]
    }
   ],
   "source": [
    "p = Path.cwd()\n",
    "for folderName, subfolders, filenames in os.walk(p):\n",
    "    for filename in filenames:\n",
    "        if filename.endswith('.pdf') or filename.endswith('.jpg'):\n",
    "            print(filename)\n",
    "            #print('FILE INSIDE ' + folderName + ': '+ filename)\n",
    "            print(folderName/Path(filename), Path('/home/lakshmi/UltimateSpam')/Path(filename))\n",
    "            shutil.copy(folderName/Path(filename), Path('/home/lakshmi/UltimateSpam'))\n",
    "            "
   ]
  },
  {
   "cell_type": "markdown",
   "metadata": {},
   "source": [
    "### DELETING UNNEEDED FILES"
   ]
  },
  {
   "cell_type": "code",
   "execution_count": 55,
   "metadata": {},
   "outputs": [
    {
     "name": "stdout",
     "output_type": "stream",
     "text": [
      "/home/lakshmi/AutomateBoringStuffWithPython/Maths22Dec.mp4 --- 272.723993 MB\n",
      "/home/lakshmi/AutomateBoringStuffWithPython/Electrical28Dec.mp4 --- 166.18286 MB\n",
      "Done\n"
     ]
    }
   ],
   "source": [
    "p = Path.cwd()\n",
    "for folderName, subfolders, filenames in os.walk(p):\n",
    "    for filename in filenames:\n",
    "        #print(Path(folderName, filename))\n",
    "        size = os.path.getsize(str(Path(folderName, filename)))\n",
    "        if size> 100000000: #100MB\n",
    "            print(Path(folderName, filename),\"---\",size/1000000, \"MB\")\n",
    "print(\"Done\")\n",
    "    "
   ]
  },
  {
   "cell_type": "markdown",
   "metadata": {},
   "source": [
    "### FILLING IN THE GAPS"
   ]
  },
  {
   "cell_type": "code",
   "execution_count": 70,
   "metadata": {},
   "outputs": [
    {
     "name": "stdout",
     "output_type": "stream",
     "text": [
      "/home/lakshmi/AutomateBoringStuffWithPython/spam/spam10.txt 001\n",
      "/home/lakshmi/AutomateBoringStuffWithPython/spam/spam001.txt 002\n",
      "/home/lakshmi/AutomateBoringStuffWithPython/spam/spam003 (copy).txt 003\n",
      "/home/lakshmi/AutomateBoringStuffWithPython/spam/spam002.txt 004\n",
      "/home/lakshmi/AutomateBoringStuffWithPython/spam/spam23.txt 005\n",
      "/home/lakshmi/AutomateBoringStuffWithPython/spam/spam003.txt 006\n"
     ]
    }
   ],
   "source": [
    "p = Path.cwd()/Path('spam')\n",
    "i = 0\n",
    "for folderName, subfolders, filenames in os.walk(p):\n",
    "    for filename in filenames:\n",
    "        if 'spam' in filename and '.txt' in filename:\n",
    "            i+=1\n",
    "            suffix = (\"00\"+str(i))[-3:]\n",
    "            print(Path(folderName)/Path(filename), suffix)\n",
    "            shutil.move(Path(folderName)/Path(filename), Path(folderName)/Path(f'spam{suffix}.txt'))\n",
    "        "
   ]
  },
  {
   "cell_type": "markdown",
   "metadata": {},
   "source": [
    "## PLAYGROUND"
   ]
  },
  {
   "cell_type": "code",
   "execution_count": 5,
   "metadata": {},
   "outputs": [
    {
     "data": {
      "text/plain": [
       "PosixPath('/home/lakshmi/AutomateBoringStuffWithPython')"
      ]
     },
     "execution_count": 5,
     "metadata": {},
     "output_type": "execute_result"
    }
   ],
   "source": [
    "p = Path.home()\n",
    "p\n",
    "Path.cwd()"
   ]
  },
  {
   "cell_type": "code",
   "execution_count": 6,
   "metadata": {},
   "outputs": [
    {
     "ename": "NotADirectoryError",
     "evalue": "[Errno 20] Not a directory: '/home/lakshmi/Documents/AMRITA.odt'",
     "output_type": "error",
     "traceback": [
      "\u001b[0;31m---------------------------------------------------------------------------\u001b[0m",
      "\u001b[0;31mNotADirectoryError\u001b[0m                        Traceback (most recent call last)",
      "\u001b[0;32m<ipython-input-6-ee7df5d67a21>\u001b[0m in \u001b[0;36m<module>\u001b[0;34m\u001b[0m\n\u001b[1;32m      2\u001b[0m \u001b[0;31m#shutil.copytree(file, path) will raise NotADirectoryError\u001b[0m\u001b[0;34m\u001b[0m\u001b[0;34m\u001b[0m\u001b[0;34m\u001b[0m\u001b[0m\n\u001b[1;32m      3\u001b[0m \u001b[0;34m\u001b[0m\u001b[0m\n\u001b[0;32m----> 4\u001b[0;31m \u001b[0mshutil\u001b[0m\u001b[0;34m.\u001b[0m\u001b[0mcopytree\u001b[0m\u001b[0;34m(\u001b[0m\u001b[0;34m'/home/lakshmi/Documents/AMRITA.odt'\u001b[0m\u001b[0;34m,\u001b[0m \u001b[0mPath\u001b[0m\u001b[0;34m.\u001b[0m\u001b[0mcwd\u001b[0m\u001b[0;34m(\u001b[0m\u001b[0;34m)\u001b[0m\u001b[0;34m)\u001b[0m\u001b[0;34m\u001b[0m\u001b[0;34m\u001b[0m\u001b[0m\n\u001b[0m",
      "\u001b[0;32m/usr/lib/python3.8/shutil.py\u001b[0m in \u001b[0;36mcopytree\u001b[0;34m(src, dst, symlinks, ignore, copy_function, ignore_dangling_symlinks, dirs_exist_ok)\u001b[0m\n\u001b[1;32m    550\u001b[0m     \"\"\"\n\u001b[1;32m    551\u001b[0m     \u001b[0msys\u001b[0m\u001b[0;34m.\u001b[0m\u001b[0maudit\u001b[0m\u001b[0;34m(\u001b[0m\u001b[0;34m\"shutil.copytree\"\u001b[0m\u001b[0;34m,\u001b[0m \u001b[0msrc\u001b[0m\u001b[0;34m,\u001b[0m \u001b[0mdst\u001b[0m\u001b[0;34m)\u001b[0m\u001b[0;34m\u001b[0m\u001b[0;34m\u001b[0m\u001b[0m\n\u001b[0;32m--> 552\u001b[0;31m     \u001b[0;32mwith\u001b[0m \u001b[0mos\u001b[0m\u001b[0;34m.\u001b[0m\u001b[0mscandir\u001b[0m\u001b[0;34m(\u001b[0m\u001b[0msrc\u001b[0m\u001b[0;34m)\u001b[0m \u001b[0;32mas\u001b[0m \u001b[0mitr\u001b[0m\u001b[0;34m:\u001b[0m\u001b[0;34m\u001b[0m\u001b[0;34m\u001b[0m\u001b[0m\n\u001b[0m\u001b[1;32m    553\u001b[0m         \u001b[0mentries\u001b[0m \u001b[0;34m=\u001b[0m \u001b[0mlist\u001b[0m\u001b[0;34m(\u001b[0m\u001b[0mitr\u001b[0m\u001b[0;34m)\u001b[0m\u001b[0;34m\u001b[0m\u001b[0;34m\u001b[0m\u001b[0m\n\u001b[1;32m    554\u001b[0m     return _copytree(entries=entries, src=src, dst=dst, symlinks=symlinks,\n",
      "\u001b[0;31mNotADirectoryError\u001b[0m: [Errno 20] Not a directory: '/home/lakshmi/Documents/AMRITA.odt'"
     ]
    }
   ],
   "source": [
    "#shutil.copy(directory, path) will raise IsADirectoryError\n",
    "#shutil.copytree(file, path) will raise NotADirectoryError\n",
    "\n",
    "shutil.copytree('/home/lakshmi/Documents/AMRITA.odt', Path.cwd())"
   ]
  },
  {
   "cell_type": "code",
   "execution_count": 15,
   "metadata": {},
   "outputs": [
    {
     "ename": "NameError",
     "evalue": "name 'PAth' is not defined",
     "output_type": "error",
     "traceback": [
      "\u001b[0;31m---------------------------------------------------------------------------\u001b[0m",
      "\u001b[0;31mNameError\u001b[0m                                 Traceback (most recent call last)",
      "\u001b[0;32m<ipython-input-15-7b7bdb44d999>\u001b[0m in \u001b[0;36m<module>\u001b[0;34m\u001b[0m\n\u001b[0;32m----> 1\u001b[0;31m \u001b[0mos\u001b[0m\u001b[0;34m.\u001b[0m\u001b[0munlink\u001b[0m\u001b[0;34m(\u001b[0m\u001b[0mPAth\u001b[0m\u001b[0;34m.\u001b[0m\u001b[0mcwd\u001b[0m\u001b[0;34m(\u001b[0m\u001b[0;34m)\u001b[0m\u001b[0;34m)\u001b[0m \u001b[0;31m#delete permanently\u001b[0m\u001b[0;34m\u001b[0m\u001b[0;34m\u001b[0m\u001b[0m\n\u001b[0m",
      "\u001b[0;31mNameError\u001b[0m: name 'PAth' is not defined"
     ]
    }
   ],
   "source": [
    "os.unlink(PAth.cwd()) #delete permanently"
   ]
  },
  {
   "cell_type": "markdown",
   "metadata": {},
   "source": [
    "`os.walk()` function will return three values on each iteration through the loop:\n",
    "- A string of the current folder’s name\n",
    "- A list of strings of the folders in the current folder\n",
    "- A list of strings of the files in the current folder\n"
   ]
  },
  {
   "cell_type": "code",
   "execution_count": 14,
   "metadata": {},
   "outputs": [
    {
     "name": "stdout",
     "output_type": "stream",
     "text": [
      "The current folder is /home/lakshmi/AutomateBoringStuffWithPython\n",
      "SUBFOLDER OF /home/lakshmi/AutomateBoringStuffWithPython: .git\n",
      "SUBFOLDER OF /home/lakshmi/AutomateBoringStuffWithPython: spam\n",
      "SUBFOLDER OF /home/lakshmi/AutomateBoringStuffWithPython: .ipynb_checkpoints\n",
      "FILE INSIDE /home/lakshmi/AutomateBoringStuffWithPython: 09.ipynb\n",
      "FILE INSIDE /home/lakshmi/AutomateBoringStuffWithPython: README.md\n",
      "FILE INSIDE /home/lakshmi/AutomateBoringStuffWithPython: 03.ipynb\n",
      "FILE INSIDE /home/lakshmi/AutomateBoringStuffWithPython: 07.ipynb\n",
      "FILE INSIDE /home/lakshmi/AutomateBoringStuffWithPython: 06.ipynb\n",
      "FILE INSIDE /home/lakshmi/AutomateBoringStuffWithPython: 10.ipynb\n",
      "FILE INSIDE /home/lakshmi/AutomateBoringStuffWithPython: 04.ipynb\n",
      "FILE INSIDE /home/lakshmi/AutomateBoringStuffWithPython: 01.md\n",
      "FILE INSIDE /home/lakshmi/AutomateBoringStuffWithPython: 02.ipynb\n",
      "FILE INSIDE /home/lakshmi/AutomateBoringStuffWithPython: 08.ipynb\n",
      "FILE INSIDE /home/lakshmi/AutomateBoringStuffWithPython: 05.ipynb\n",
      "\n",
      "The current folder is /home/lakshmi/AutomateBoringStuffWithPython/.git\n",
      "SUBFOLDER OF /home/lakshmi/AutomateBoringStuffWithPython/.git: info\n",
      "SUBFOLDER OF /home/lakshmi/AutomateBoringStuffWithPython/.git: refs\n",
      "SUBFOLDER OF /home/lakshmi/AutomateBoringStuffWithPython/.git: objects\n",
      "SUBFOLDER OF /home/lakshmi/AutomateBoringStuffWithPython/.git: hooks\n",
      "SUBFOLDER OF /home/lakshmi/AutomateBoringStuffWithPython/.git: branches\n",
      "SUBFOLDER OF /home/lakshmi/AutomateBoringStuffWithPython/.git: logs\n",
      "FILE INSIDE /home/lakshmi/AutomateBoringStuffWithPython/.git: index\n",
      "FILE INSIDE /home/lakshmi/AutomateBoringStuffWithPython/.git: COMMIT_EDITMSG\n",
      "FILE INSIDE /home/lakshmi/AutomateBoringStuffWithPython/.git: config\n",
      "FILE INSIDE /home/lakshmi/AutomateBoringStuffWithPython/.git: HEAD\n",
      "FILE INSIDE /home/lakshmi/AutomateBoringStuffWithPython/.git: description\n",
      "\n",
      "The current folder is /home/lakshmi/AutomateBoringStuffWithPython/.git/info\n",
      "FILE INSIDE /home/lakshmi/AutomateBoringStuffWithPython/.git/info: exclude\n",
      "\n",
      "The current folder is /home/lakshmi/AutomateBoringStuffWithPython/.git/refs\n",
      "SUBFOLDER OF /home/lakshmi/AutomateBoringStuffWithPython/.git/refs: heads\n",
      "SUBFOLDER OF /home/lakshmi/AutomateBoringStuffWithPython/.git/refs: tags\n",
      "SUBFOLDER OF /home/lakshmi/AutomateBoringStuffWithPython/.git/refs: remotes\n",
      "\n",
      "The current folder is /home/lakshmi/AutomateBoringStuffWithPython/.git/refs/heads\n",
      "FILE INSIDE /home/lakshmi/AutomateBoringStuffWithPython/.git/refs/heads: main\n",
      "\n",
      "The current folder is /home/lakshmi/AutomateBoringStuffWithPython/.git/refs/tags\n",
      "\n",
      "The current folder is /home/lakshmi/AutomateBoringStuffWithPython/.git/refs/remotes\n",
      "SUBFOLDER OF /home/lakshmi/AutomateBoringStuffWithPython/.git/refs/remotes: origin\n",
      "\n",
      "The current folder is /home/lakshmi/AutomateBoringStuffWithPython/.git/refs/remotes/origin\n",
      "FILE INSIDE /home/lakshmi/AutomateBoringStuffWithPython/.git/refs/remotes/origin: main\n",
      "\n",
      "The current folder is /home/lakshmi/AutomateBoringStuffWithPython/.git/objects\n",
      "SUBFOLDER OF /home/lakshmi/AutomateBoringStuffWithPython/.git/objects: pack\n",
      "SUBFOLDER OF /home/lakshmi/AutomateBoringStuffWithPython/.git/objects: 7a\n",
      "SUBFOLDER OF /home/lakshmi/AutomateBoringStuffWithPython/.git/objects: c3\n",
      "SUBFOLDER OF /home/lakshmi/AutomateBoringStuffWithPython/.git/objects: 4f\n",
      "SUBFOLDER OF /home/lakshmi/AutomateBoringStuffWithPython/.git/objects: 8f\n",
      "SUBFOLDER OF /home/lakshmi/AutomateBoringStuffWithPython/.git/objects: 0b\n",
      "SUBFOLDER OF /home/lakshmi/AutomateBoringStuffWithPython/.git/objects: 95\n",
      "SUBFOLDER OF /home/lakshmi/AutomateBoringStuffWithPython/.git/objects: bf\n",
      "SUBFOLDER OF /home/lakshmi/AutomateBoringStuffWithPython/.git/objects: b6\n",
      "SUBFOLDER OF /home/lakshmi/AutomateBoringStuffWithPython/.git/objects: de\n",
      "SUBFOLDER OF /home/lakshmi/AutomateBoringStuffWithPython/.git/objects: 37\n",
      "SUBFOLDER OF /home/lakshmi/AutomateBoringStuffWithPython/.git/objects: 55\n",
      "SUBFOLDER OF /home/lakshmi/AutomateBoringStuffWithPython/.git/objects: b0\n",
      "SUBFOLDER OF /home/lakshmi/AutomateBoringStuffWithPython/.git/objects: 5f\n",
      "SUBFOLDER OF /home/lakshmi/AutomateBoringStuffWithPython/.git/objects: 50\n",
      "SUBFOLDER OF /home/lakshmi/AutomateBoringStuffWithPython/.git/objects: 81\n",
      "SUBFOLDER OF /home/lakshmi/AutomateBoringStuffWithPython/.git/objects: info\n",
      "SUBFOLDER OF /home/lakshmi/AutomateBoringStuffWithPython/.git/objects: 64\n",
      "SUBFOLDER OF /home/lakshmi/AutomateBoringStuffWithPython/.git/objects: 1b\n",
      "SUBFOLDER OF /home/lakshmi/AutomateBoringStuffWithPython/.git/objects: 24\n",
      "SUBFOLDER OF /home/lakshmi/AutomateBoringStuffWithPython/.git/objects: 36\n",
      "SUBFOLDER OF /home/lakshmi/AutomateBoringStuffWithPython/.git/objects: fc\n",
      "SUBFOLDER OF /home/lakshmi/AutomateBoringStuffWithPython/.git/objects: 01\n",
      "SUBFOLDER OF /home/lakshmi/AutomateBoringStuffWithPython/.git/objects: 8a\n",
      "SUBFOLDER OF /home/lakshmi/AutomateBoringStuffWithPython/.git/objects: ff\n",
      "SUBFOLDER OF /home/lakshmi/AutomateBoringStuffWithPython/.git/objects: a9\n",
      "SUBFOLDER OF /home/lakshmi/AutomateBoringStuffWithPython/.git/objects: 49\n",
      "SUBFOLDER OF /home/lakshmi/AutomateBoringStuffWithPython/.git/objects: 3a\n",
      "SUBFOLDER OF /home/lakshmi/AutomateBoringStuffWithPython/.git/objects: dd\n",
      "SUBFOLDER OF /home/lakshmi/AutomateBoringStuffWithPython/.git/objects: 8e\n",
      "SUBFOLDER OF /home/lakshmi/AutomateBoringStuffWithPython/.git/objects: c9\n",
      "SUBFOLDER OF /home/lakshmi/AutomateBoringStuffWithPython/.git/objects: 53\n",
      "SUBFOLDER OF /home/lakshmi/AutomateBoringStuffWithPython/.git/objects: f8\n",
      "SUBFOLDER OF /home/lakshmi/AutomateBoringStuffWithPython/.git/objects: fe\n",
      "SUBFOLDER OF /home/lakshmi/AutomateBoringStuffWithPython/.git/objects: e5\n",
      "SUBFOLDER OF /home/lakshmi/AutomateBoringStuffWithPython/.git/objects: ba\n",
      "SUBFOLDER OF /home/lakshmi/AutomateBoringStuffWithPython/.git/objects: 1a\n",
      "SUBFOLDER OF /home/lakshmi/AutomateBoringStuffWithPython/.git/objects: 83\n",
      "SUBFOLDER OF /home/lakshmi/AutomateBoringStuffWithPython/.git/objects: d3\n",
      "SUBFOLDER OF /home/lakshmi/AutomateBoringStuffWithPython/.git/objects: c2\n",
      "SUBFOLDER OF /home/lakshmi/AutomateBoringStuffWithPython/.git/objects: 79\n",
      "SUBFOLDER OF /home/lakshmi/AutomateBoringStuffWithPython/.git/objects: a4\n",
      "SUBFOLDER OF /home/lakshmi/AutomateBoringStuffWithPython/.git/objects: 04\n",
      "SUBFOLDER OF /home/lakshmi/AutomateBoringStuffWithPython/.git/objects: d4\n",
      "SUBFOLDER OF /home/lakshmi/AutomateBoringStuffWithPython/.git/objects: 4d\n",
      "SUBFOLDER OF /home/lakshmi/AutomateBoringStuffWithPython/.git/objects: df\n",
      "SUBFOLDER OF /home/lakshmi/AutomateBoringStuffWithPython/.git/objects: 65\n",
      "SUBFOLDER OF /home/lakshmi/AutomateBoringStuffWithPython/.git/objects: 17\n",
      "SUBFOLDER OF /home/lakshmi/AutomateBoringStuffWithPython/.git/objects: 9a\n",
      "SUBFOLDER OF /home/lakshmi/AutomateBoringStuffWithPython/.git/objects: 92\n",
      "SUBFOLDER OF /home/lakshmi/AutomateBoringStuffWithPython/.git/objects: 16\n",
      "SUBFOLDER OF /home/lakshmi/AutomateBoringStuffWithPython/.git/objects: ed\n",
      "SUBFOLDER OF /home/lakshmi/AutomateBoringStuffWithPython/.git/objects: a5\n",
      "SUBFOLDER OF /home/lakshmi/AutomateBoringStuffWithPython/.git/objects: bc\n",
      "SUBFOLDER OF /home/lakshmi/AutomateBoringStuffWithPython/.git/objects: f7\n",
      "SUBFOLDER OF /home/lakshmi/AutomateBoringStuffWithPython/.git/objects: 32\n",
      "SUBFOLDER OF /home/lakshmi/AutomateBoringStuffWithPython/.git/objects: 3b\n",
      "SUBFOLDER OF /home/lakshmi/AutomateBoringStuffWithPython/.git/objects: 54\n",
      "SUBFOLDER OF /home/lakshmi/AutomateBoringStuffWithPython/.git/objects: cf\n",
      "\n",
      "The current folder is /home/lakshmi/AutomateBoringStuffWithPython/.git/objects/pack\n",
      "\n",
      "The current folder is /home/lakshmi/AutomateBoringStuffWithPython/.git/objects/7a\n",
      "FILE INSIDE /home/lakshmi/AutomateBoringStuffWithPython/.git/objects/7a: 60d49112437bfa33219cb59cc45c5cbf71527f\n",
      "\n",
      "The current folder is /home/lakshmi/AutomateBoringStuffWithPython/.git/objects/c3\n",
      "FILE INSIDE /home/lakshmi/AutomateBoringStuffWithPython/.git/objects/c3: 492506a09336b42cb9117afff91334fdc5f91c\n",
      "\n",
      "The current folder is /home/lakshmi/AutomateBoringStuffWithPython/.git/objects/4f\n",
      "FILE INSIDE /home/lakshmi/AutomateBoringStuffWithPython/.git/objects/4f: 6c6ba40c0bcc07292a8b9d2e7c8718f2c68c21\n",
      "\n",
      "The current folder is /home/lakshmi/AutomateBoringStuffWithPython/.git/objects/8f\n",
      "FILE INSIDE /home/lakshmi/AutomateBoringStuffWithPython/.git/objects/8f: 9ff4adb696ce346017649f848cb208d5378117\n",
      "\n",
      "The current folder is /home/lakshmi/AutomateBoringStuffWithPython/.git/objects/0b\n",
      "FILE INSIDE /home/lakshmi/AutomateBoringStuffWithPython/.git/objects/0b: 777d4a43b584cc5e92892b0ff7bc888d1dd4eb\n",
      "FILE INSIDE /home/lakshmi/AutomateBoringStuffWithPython/.git/objects/0b: 76bd6be7b4762a6ecfdff304b21c04c80d6220\n",
      "FILE INSIDE /home/lakshmi/AutomateBoringStuffWithPython/.git/objects/0b: d539c6b38004ac2541fdd41a8a9d192f007ea0\n",
      "\n",
      "The current folder is /home/lakshmi/AutomateBoringStuffWithPython/.git/objects/95\n",
      "FILE INSIDE /home/lakshmi/AutomateBoringStuffWithPython/.git/objects/95: 3b648c99ad15d817afbb5d9e00df41d3260292\n",
      "\n",
      "The current folder is /home/lakshmi/AutomateBoringStuffWithPython/.git/objects/bf\n",
      "FILE INSIDE /home/lakshmi/AutomateBoringStuffWithPython/.git/objects/bf: fc604f39f0741e0afa2769b63fc9278c6021c2\n",
      "\n",
      "The current folder is /home/lakshmi/AutomateBoringStuffWithPython/.git/objects/b6\n",
      "FILE INSIDE /home/lakshmi/AutomateBoringStuffWithPython/.git/objects/b6: 57adc734064176efe11ba5ab1df74076bd9abc\n",
      "FILE INSIDE /home/lakshmi/AutomateBoringStuffWithPython/.git/objects/b6: 70a681597a6ce04d6de5e0efedf13054cf8b5f\n",
      "\n",
      "The current folder is /home/lakshmi/AutomateBoringStuffWithPython/.git/objects/de\n",
      "FILE INSIDE /home/lakshmi/AutomateBoringStuffWithPython/.git/objects/de: 30c148722d7c7b3d38a2b7c0c8bd7fd59d555f\n",
      "\n",
      "The current folder is /home/lakshmi/AutomateBoringStuffWithPython/.git/objects/37\n",
      "FILE INSIDE /home/lakshmi/AutomateBoringStuffWithPython/.git/objects/37: 1b1e4db2af1a4b74ad1f43dd00225f519382a5\n",
      "\n",
      "The current folder is /home/lakshmi/AutomateBoringStuffWithPython/.git/objects/55\n",
      "FILE INSIDE /home/lakshmi/AutomateBoringStuffWithPython/.git/objects/55: d8f350ccf08aede26a3d2efc5dfe8dae51bbba\n",
      "\n",
      "The current folder is /home/lakshmi/AutomateBoringStuffWithPython/.git/objects/b0\n",
      "FILE INSIDE /home/lakshmi/AutomateBoringStuffWithPython/.git/objects/b0: 1392a0e52bf6f35b58f877212156efe54cce2a\n",
      "\n",
      "The current folder is /home/lakshmi/AutomateBoringStuffWithPython/.git/objects/5f\n",
      "FILE INSIDE /home/lakshmi/AutomateBoringStuffWithPython/.git/objects/5f: 96d7433a0d1cf28b269f00cc054a2a343b3219\n",
      "\n",
      "The current folder is /home/lakshmi/AutomateBoringStuffWithPython/.git/objects/50\n",
      "FILE INSIDE /home/lakshmi/AutomateBoringStuffWithPython/.git/objects/50: 6dc4067f6c27331f5b40877e33853ec5e198f4\n",
      "\n",
      "The current folder is /home/lakshmi/AutomateBoringStuffWithPython/.git/objects/81\n",
      "FILE INSIDE /home/lakshmi/AutomateBoringStuffWithPython/.git/objects/81: ecc71c93223e1f78735fda1d88ae5c9ed98534\n",
      "\n",
      "The current folder is /home/lakshmi/AutomateBoringStuffWithPython/.git/objects/info\n",
      "\n",
      "The current folder is /home/lakshmi/AutomateBoringStuffWithPython/.git/objects/64\n",
      "FILE INSIDE /home/lakshmi/AutomateBoringStuffWithPython/.git/objects/64: 4a2b7cf7512ca3d33462df4a28c12e346ee247\n",
      "\n",
      "The current folder is /home/lakshmi/AutomateBoringStuffWithPython/.git/objects/1b\n",
      "FILE INSIDE /home/lakshmi/AutomateBoringStuffWithPython/.git/objects/1b: 2c1563ada7c18a5faafcc3a2e89de987ffbc29\n",
      "\n",
      "The current folder is /home/lakshmi/AutomateBoringStuffWithPython/.git/objects/24\n",
      "FILE INSIDE /home/lakshmi/AutomateBoringStuffWithPython/.git/objects/24: 509899fb3ba7707219d9fac087c6fc79ea135a\n",
      "FILE INSIDE /home/lakshmi/AutomateBoringStuffWithPython/.git/objects/24: 26df145571e0d5e49c9f6bd52d81d5206a31ee\n",
      "\n",
      "The current folder is /home/lakshmi/AutomateBoringStuffWithPython/.git/objects/36\n",
      "FILE INSIDE /home/lakshmi/AutomateBoringStuffWithPython/.git/objects/36: d47e8d240bbe02f14b97576a6a3f836fa4c0a7\n",
      "\n",
      "The current folder is /home/lakshmi/AutomateBoringStuffWithPython/.git/objects/fc\n",
      "FILE INSIDE /home/lakshmi/AutomateBoringStuffWithPython/.git/objects/fc: 51416472a437d54299b0376769518f96c5e896\n",
      "\n",
      "The current folder is /home/lakshmi/AutomateBoringStuffWithPython/.git/objects/01\n",
      "FILE INSIDE /home/lakshmi/AutomateBoringStuffWithPython/.git/objects/01: 7bef368174b5f62a964f1b375b45186593856d\n",
      "\n",
      "The current folder is /home/lakshmi/AutomateBoringStuffWithPython/.git/objects/8a\n",
      "FILE INSIDE /home/lakshmi/AutomateBoringStuffWithPython/.git/objects/8a: 8f02151a7538b4290ed02d8a840ec6f79e2d03\n",
      "\n",
      "The current folder is /home/lakshmi/AutomateBoringStuffWithPython/.git/objects/ff\n",
      "FILE INSIDE /home/lakshmi/AutomateBoringStuffWithPython/.git/objects/ff: 7e85147bfbfbf14df12f008722e24b6e52783f\n",
      "\n",
      "The current folder is /home/lakshmi/AutomateBoringStuffWithPython/.git/objects/a9\n",
      "FILE INSIDE /home/lakshmi/AutomateBoringStuffWithPython/.git/objects/a9: 4ede0a5a5fff3a86f0fa03960d9b1c717b01ac\n",
      "\n",
      "The current folder is /home/lakshmi/AutomateBoringStuffWithPython/.git/objects/49\n",
      "FILE INSIDE /home/lakshmi/AutomateBoringStuffWithPython/.git/objects/49: f7471c71497292e7f135bd94c2920f748897cf\n",
      "\n",
      "The current folder is /home/lakshmi/AutomateBoringStuffWithPython/.git/objects/3a\n",
      "FILE INSIDE /home/lakshmi/AutomateBoringStuffWithPython/.git/objects/3a: bd385c74af09affb14512ce9bd33f9cedb2e0f\n",
      "\n",
      "The current folder is /home/lakshmi/AutomateBoringStuffWithPython/.git/objects/dd\n",
      "FILE INSIDE /home/lakshmi/AutomateBoringStuffWithPython/.git/objects/dd: 1e44ac3cfab5338bd561fadd9ee822d2680af7\n",
      "\n",
      "The current folder is /home/lakshmi/AutomateBoringStuffWithPython/.git/objects/8e\n",
      "FILE INSIDE /home/lakshmi/AutomateBoringStuffWithPython/.git/objects/8e: 089b4e099bee3ae49c1e1572719ed1a5d19a86\n",
      "\n",
      "The current folder is /home/lakshmi/AutomateBoringStuffWithPython/.git/objects/c9\n",
      "FILE INSIDE /home/lakshmi/AutomateBoringStuffWithPython/.git/objects/c9: 8560c248db1bca86381798c4a010d7f3ca25a7\n",
      "\n",
      "The current folder is /home/lakshmi/AutomateBoringStuffWithPython/.git/objects/53\n",
      "FILE INSIDE /home/lakshmi/AutomateBoringStuffWithPython/.git/objects/53: 5ea0c7f94e84293dad4bda8204450a9cfc788d\n",
      "\n",
      "The current folder is /home/lakshmi/AutomateBoringStuffWithPython/.git/objects/f8\n",
      "FILE INSIDE /home/lakshmi/AutomateBoringStuffWithPython/.git/objects/f8: 8fe409bdd642b74b083b0d3994d3936669eb97\n",
      "\n",
      "The current folder is /home/lakshmi/AutomateBoringStuffWithPython/.git/objects/fe\n",
      "FILE INSIDE /home/lakshmi/AutomateBoringStuffWithPython/.git/objects/fe: fdcce177379b828c24540e35a1b9d6be9904a9\n",
      "\n",
      "The current folder is /home/lakshmi/AutomateBoringStuffWithPython/.git/objects/e5\n",
      "FILE INSIDE /home/lakshmi/AutomateBoringStuffWithPython/.git/objects/e5: 6ea2cbbbba19d19398472ee2fd6a11de0742ab\n",
      "\n",
      "The current folder is /home/lakshmi/AutomateBoringStuffWithPython/.git/objects/ba\n",
      "FILE INSIDE /home/lakshmi/AutomateBoringStuffWithPython/.git/objects/ba: b597d304484ac01e77a27f23698edb070ff811\n",
      "\n",
      "The current folder is /home/lakshmi/AutomateBoringStuffWithPython/.git/objects/1a\n",
      "FILE INSIDE /home/lakshmi/AutomateBoringStuffWithPython/.git/objects/1a: 73c151997fcded0bd6853862e1c61567b884a7\n",
      "\n",
      "The current folder is /home/lakshmi/AutomateBoringStuffWithPython/.git/objects/83\n",
      "FILE INSIDE /home/lakshmi/AutomateBoringStuffWithPython/.git/objects/83: c831f0b085c70509b1fbb0a0131a9a32e691ac\n",
      "\n",
      "The current folder is /home/lakshmi/AutomateBoringStuffWithPython/.git/objects/d3\n",
      "FILE INSIDE /home/lakshmi/AutomateBoringStuffWithPython/.git/objects/d3: c9180455a4bc051f4475b1f3494c3d1b26837c\n",
      "\n",
      "The current folder is /home/lakshmi/AutomateBoringStuffWithPython/.git/objects/c2\n",
      "FILE INSIDE /home/lakshmi/AutomateBoringStuffWithPython/.git/objects/c2: 1f80d209a18ca3d8e691b43a4742cd860a0d51\n",
      "\n",
      "The current folder is /home/lakshmi/AutomateBoringStuffWithPython/.git/objects/79\n",
      "FILE INSIDE /home/lakshmi/AutomateBoringStuffWithPython/.git/objects/79: 807bab246b9d5e781e77516ba43c863d91a0f2\n",
      "\n",
      "The current folder is /home/lakshmi/AutomateBoringStuffWithPython/.git/objects/a4\n",
      "FILE INSIDE /home/lakshmi/AutomateBoringStuffWithPython/.git/objects/a4: 19418b78ee0c25e3d9e2d84b096e19fe1a494b\n",
      "\n",
      "The current folder is /home/lakshmi/AutomateBoringStuffWithPython/.git/objects/04\n",
      "FILE INSIDE /home/lakshmi/AutomateBoringStuffWithPython/.git/objects/04: 2b1394273e4457bba8d3d891b3fcb9f12042af\n",
      "\n",
      "The current folder is /home/lakshmi/AutomateBoringStuffWithPython/.git/objects/d4\n",
      "FILE INSIDE /home/lakshmi/AutomateBoringStuffWithPython/.git/objects/d4: 2af6baa0a9049c94b8f028eafc2edad7d62a58\n",
      "\n",
      "The current folder is /home/lakshmi/AutomateBoringStuffWithPython/.git/objects/4d\n",
      "FILE INSIDE /home/lakshmi/AutomateBoringStuffWithPython/.git/objects/4d: 41d568d5599e29e239528268483d9d6f23cf2c\n",
      "\n",
      "The current folder is /home/lakshmi/AutomateBoringStuffWithPython/.git/objects/df\n",
      "FILE INSIDE /home/lakshmi/AutomateBoringStuffWithPython/.git/objects/df: f2590218443fcb9722aaf8084733e4e2d7548a\n",
      "\n",
      "The current folder is /home/lakshmi/AutomateBoringStuffWithPython/.git/objects/65\n",
      "FILE INSIDE /home/lakshmi/AutomateBoringStuffWithPython/.git/objects/65: 32ac9b8f667534d857703dfa37b52c5631e053\n",
      "\n",
      "The current folder is /home/lakshmi/AutomateBoringStuffWithPython/.git/objects/17\n",
      "FILE INSIDE /home/lakshmi/AutomateBoringStuffWithPython/.git/objects/17: 66465fb66bfb1183309823a00f5abdbd53eabb\n",
      "FILE INSIDE /home/lakshmi/AutomateBoringStuffWithPython/.git/objects/17: cf6ed457b314e9d2a0ceef0300f8c1ef4d9f06\n",
      "\n",
      "The current folder is /home/lakshmi/AutomateBoringStuffWithPython/.git/objects/9a\n",
      "FILE INSIDE /home/lakshmi/AutomateBoringStuffWithPython/.git/objects/9a: 509aa9607d11dd4c2138669994b4a2b2136cfb\n",
      "\n",
      "The current folder is /home/lakshmi/AutomateBoringStuffWithPython/.git/objects/92\n",
      "FILE INSIDE /home/lakshmi/AutomateBoringStuffWithPython/.git/objects/92: 960b53b8573cfaabf2e3b2cbba72431305d872\n",
      "\n",
      "The current folder is /home/lakshmi/AutomateBoringStuffWithPython/.git/objects/16\n",
      "FILE INSIDE /home/lakshmi/AutomateBoringStuffWithPython/.git/objects/16: 6f5b17ab00ac0fe3db137a9cffc6c0965cb4f2\n",
      "\n",
      "The current folder is /home/lakshmi/AutomateBoringStuffWithPython/.git/objects/ed\n",
      "FILE INSIDE /home/lakshmi/AutomateBoringStuffWithPython/.git/objects/ed: deef66b12e495fa8f75d4cae35b4ed10e27116\n",
      "\n",
      "The current folder is /home/lakshmi/AutomateBoringStuffWithPython/.git/objects/a5\n",
      "FILE INSIDE /home/lakshmi/AutomateBoringStuffWithPython/.git/objects/a5: 2d036a2aff4d84d500fa8ec0e77be79be366bb\n",
      "\n",
      "The current folder is /home/lakshmi/AutomateBoringStuffWithPython/.git/objects/bc\n",
      "FILE INSIDE /home/lakshmi/AutomateBoringStuffWithPython/.git/objects/bc: 739c97cafa36dfd40cec05a53d7b24843b8c4e\n",
      "\n",
      "The current folder is /home/lakshmi/AutomateBoringStuffWithPython/.git/objects/f7\n",
      "FILE INSIDE /home/lakshmi/AutomateBoringStuffWithPython/.git/objects/f7: f6a9b1a6ff6ff9d9ad4ac1050aa4c8330a954e\n",
      "\n",
      "The current folder is /home/lakshmi/AutomateBoringStuffWithPython/.git/objects/32\n",
      "FILE INSIDE /home/lakshmi/AutomateBoringStuffWithPython/.git/objects/32: 2de8fc3087350d55746336846f34d075e65ce9\n",
      "FILE INSIDE /home/lakshmi/AutomateBoringStuffWithPython/.git/objects/32: 762c0925b9b80e59df2c671e2cf24555ac9701\n",
      "\n",
      "The current folder is /home/lakshmi/AutomateBoringStuffWithPython/.git/objects/3b\n",
      "FILE INSIDE /home/lakshmi/AutomateBoringStuffWithPython/.git/objects/3b: d84332ef7200e05e2ea993a68c41166cb6e18a\n",
      "\n",
      "The current folder is /home/lakshmi/AutomateBoringStuffWithPython/.git/objects/54\n",
      "FILE INSIDE /home/lakshmi/AutomateBoringStuffWithPython/.git/objects/54: 00f900151a54d3fb6968ae58e3b0be1c05a8cd\n",
      "\n",
      "The current folder is /home/lakshmi/AutomateBoringStuffWithPython/.git/objects/cf\n",
      "FILE INSIDE /home/lakshmi/AutomateBoringStuffWithPython/.git/objects/cf: 2b2ec0a4b20208193730b327be2dfe4b5e810d\n",
      "\n",
      "The current folder is /home/lakshmi/AutomateBoringStuffWithPython/.git/hooks\n",
      "FILE INSIDE /home/lakshmi/AutomateBoringStuffWithPython/.git/hooks: applypatch-msg.sample\n",
      "FILE INSIDE /home/lakshmi/AutomateBoringStuffWithPython/.git/hooks: pre-merge-commit.sample\n",
      "FILE INSIDE /home/lakshmi/AutomateBoringStuffWithPython/.git/hooks: pre-receive.sample\n",
      "FILE INSIDE /home/lakshmi/AutomateBoringStuffWithPython/.git/hooks: pre-rebase.sample\n",
      "FILE INSIDE /home/lakshmi/AutomateBoringStuffWithPython/.git/hooks: update.sample\n",
      "FILE INSIDE /home/lakshmi/AutomateBoringStuffWithPython/.git/hooks: pre-push.sample\n",
      "FILE INSIDE /home/lakshmi/AutomateBoringStuffWithPython/.git/hooks: pre-applypatch.sample\n",
      "FILE INSIDE /home/lakshmi/AutomateBoringStuffWithPython/.git/hooks: commit-msg.sample\n",
      "FILE INSIDE /home/lakshmi/AutomateBoringStuffWithPython/.git/hooks: pre-commit.sample\n",
      "FILE INSIDE /home/lakshmi/AutomateBoringStuffWithPython/.git/hooks: fsmonitor-watchman.sample\n",
      "FILE INSIDE /home/lakshmi/AutomateBoringStuffWithPython/.git/hooks: post-update.sample\n",
      "FILE INSIDE /home/lakshmi/AutomateBoringStuffWithPython/.git/hooks: prepare-commit-msg.sample\n",
      "\n",
      "The current folder is /home/lakshmi/AutomateBoringStuffWithPython/.git/branches\n",
      "\n",
      "The current folder is /home/lakshmi/AutomateBoringStuffWithPython/.git/logs\n",
      "SUBFOLDER OF /home/lakshmi/AutomateBoringStuffWithPython/.git/logs: refs\n",
      "FILE INSIDE /home/lakshmi/AutomateBoringStuffWithPython/.git/logs: HEAD\n",
      "\n",
      "The current folder is /home/lakshmi/AutomateBoringStuffWithPython/.git/logs/refs\n",
      "SUBFOLDER OF /home/lakshmi/AutomateBoringStuffWithPython/.git/logs/refs: heads\n",
      "SUBFOLDER OF /home/lakshmi/AutomateBoringStuffWithPython/.git/logs/refs: remotes\n",
      "\n",
      "The current folder is /home/lakshmi/AutomateBoringStuffWithPython/.git/logs/refs/heads\n",
      "FILE INSIDE /home/lakshmi/AutomateBoringStuffWithPython/.git/logs/refs/heads: main\n",
      "\n",
      "The current folder is /home/lakshmi/AutomateBoringStuffWithPython/.git/logs/refs/remotes\n",
      "SUBFOLDER OF /home/lakshmi/AutomateBoringStuffWithPython/.git/logs/refs/remotes: origin\n",
      "\n",
      "The current folder is /home/lakshmi/AutomateBoringStuffWithPython/.git/logs/refs/remotes/origin\n",
      "FILE INSIDE /home/lakshmi/AutomateBoringStuffWithPython/.git/logs/refs/remotes/origin: main\n",
      "\n",
      "The current folder is /home/lakshmi/AutomateBoringStuffWithPython/spam\n",
      "FILE INSIDE /home/lakshmi/AutomateBoringStuffWithPython/spam: spam1.txt\n",
      "FILE INSIDE /home/lakshmi/AutomateBoringStuffWithPython/spam: madlibs_ans\n",
      "FILE INSIDE /home/lakshmi/AutomateBoringStuffWithPython/spam: spam3.txt\n",
      "FILE INSIDE /home/lakshmi/AutomateBoringStuffWithPython/spam: madlibs\n",
      "FILE INSIDE /home/lakshmi/AutomateBoringStuffWithPython/spam: spam2.txt\n",
      "\n",
      "The current folder is /home/lakshmi/AutomateBoringStuffWithPython/.ipynb_checkpoints\n",
      "FILE INSIDE /home/lakshmi/AutomateBoringStuffWithPython/.ipynb_checkpoints: 10-checkpoint.ipynb\n",
      "FILE INSIDE /home/lakshmi/AutomateBoringStuffWithPython/.ipynb_checkpoints: 07-checkpoint.ipynb\n",
      "FILE INSIDE /home/lakshmi/AutomateBoringStuffWithPython/.ipynb_checkpoints: 09-checkpoint.ipynb\n",
      "FILE INSIDE /home/lakshmi/AutomateBoringStuffWithPython/.ipynb_checkpoints: 08-checkpoint.ipynb\n",
      "\n"
     ]
    }
   ],
   "source": [
    "import os\n",
    "\n",
    "for folderName, subfolders, filenames in os.walk(Path.cwd()):\n",
    "    print('The current folder is ' + folderName)\n",
    "\n",
    "    for subfolder in subfolders:\n",
    "        print('SUBFOLDER OF ' + folderName + ': ' + subfolder)\n",
    "\n",
    "    for filename in filenames:\n",
    "        print('FILE INSIDE ' + folderName + ': '+ filename)\n",
    "\n",
    "    print('')"
   ]
  },
  {
   "cell_type": "code",
   "execution_count": null,
   "metadata": {},
   "outputs": [],
   "source": []
  }
 ],
 "metadata": {
  "kernelspec": {
   "display_name": "Python 3",
   "language": "python",
   "name": "python3"
  },
  "language_info": {
   "codemirror_mode": {
    "name": "ipython",
    "version": 3
   },
   "file_extension": ".py",
   "mimetype": "text/x-python",
   "name": "python",
   "nbconvert_exporter": "python",
   "pygments_lexer": "ipython3",
   "version": "3.8.5"
  }
 },
 "nbformat": 4,
 "nbformat_minor": 4
}
