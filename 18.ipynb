{
 "cells": [
  {
   "cell_type": "markdown",
   "metadata": {},
   "source": [
    "### 1. What is the protocol for sending email? For checking and receiving email?\n",
    "SMTP(Simple Mail Transfer Protocol) and IMAP(Internet Message Access Protocol) espectively"
   ]
  },
  {
   "cell_type": "markdown",
   "metadata": {},
   "source": [
    "### 2. What four smtplib functions/methods must you call to log in to an SMTP server?\n",
    "> `smtplib.SMTP(), smtpObj.ehlo(), smptObj.starttls(), and smtpObj.login(email, password)`"
   ]
  },
  {
   "cell_type": "markdown",
   "metadata": {},
   "source": [
    "### 3. What two imapclient functions/methods must you call to log in to an IMAP server?\n",
    "> `imapclient.IMAPClient()` and `imapObj.login()`"
   ]
  },
  {
   "cell_type": "markdown",
   "metadata": {},
   "source": [
    "### 4. What kind of argument do you pass to imapObj.search()?\n",
    "> A list with certain keywords"
   ]
  },
  {
   "cell_type": "markdown",
   "metadata": {},
   "source": [
    "### 5. What do you do if your code gets an error message that says got more than 10000 bytes?\n",
    "> `imaplib._MAXLINE` should be made a large number"
   ]
  },
  {
   "cell_type": "markdown",
   "metadata": {},
   "source": [
    "### 6. The imapclient module handles connecting to an IMAP server and finding emails. What is one module that handles reading the emails that imapclient collects?\n",
    "> pyzmail"
   ]
  },
  {
   "cell_type": "markdown",
   "metadata": {},
   "source": [
    "### 7. When using the Gmail API, what are the credentials.json and token.json files?\n",
    "> the json files have the data required to use a particular Google account"
   ]
  },
  {
   "cell_type": "markdown",
   "metadata": {},
   "source": [
    "### 8. In the Gmail API, what’s the difference between “thread” and “message” objects?\n",
    "> a message is a single email while a thread is a conversation, it has many emails"
   ]
  },
  {
   "cell_type": "markdown",
   "metadata": {},
   "source": [
    "### 9. Using ezgmail.search(), how can you find emails that have file attachments?\n",
    "> `ezgmail.search('has:attachment')`"
   ]
  },
  {
   "cell_type": "markdown",
   "metadata": {},
   "source": [
    "### 10. What three pieces of information do you need from Twilio before you can send text messages?\n",
    "> SID number, authemntication token number, Twilio phone number"
   ]
  },
  {
   "cell_type": "markdown",
   "metadata": {},
   "source": [
    "### RANDOM CHORE ASSIGNMENT EMAILER"
   ]
  },
  {
   "cell_type": "code",
   "execution_count": null,
   "metadata": {},
   "outputs": [],
   "source": [
    "#emailChore.py\n",
    "\n",
    "import smtplib, random, time\n",
    "\n",
    "\n",
    "user_email = 'EMAIL_ID'\n",
    "user_pass = input(\"Password: \")\n",
    "print(\"Press Ctrl+C to stop the process\")\n",
    "\n",
    "emails = ['email1', 'email2',...]\n",
    "\n",
    "\n",
    "# chore dictionary\n",
    "email_dict = {}\n",
    "\n",
    "smtp_obj = smtplib.SMTP('smtp.gmail.com', 587)\n",
    "smtp_obj.ehlo()\n",
    "smtp_obj.starttls()\n",
    "smtp_obj.login(user_email, user_pass)\n",
    "\n",
    "while True:\n",
    "    chores = ['dishes', 'bathroom', 'vacuum', 'walk dog']\n",
    "    for email in emails:\n",
    "        random_chore = random.choice(chores)\n",
    "        email_dict[email] = random_chore\n",
    "        chores.remove(random_chore)\n",
    "    \n",
    "    for email in email_dict:\n",
    "        message = str('Subject: Chore of the week\\n' + email_dict[email])\n",
    "        print(email + ' : ' + email_dict[email])\n",
    "        smtp_obj.sendmail(user_email, email, message)\n",
    "    \n",
    "    try:\n",
    "        time.sleep(86400*7) #weekly once\n",
    "    except KeyboardInterrupt:\n",
    "        print(\"Done\")\n",
    "        break\n",
    "\n",
    "smtp_obj.quit()"
   ]
  }
 ],
 "metadata": {
  "kernelspec": {
   "display_name": "Python 3",
   "language": "python",
   "name": "python3"
  },
  "language_info": {
   "codemirror_mode": {
    "name": "ipython",
    "version": 3
   },
   "file_extension": ".py",
   "mimetype": "text/x-python",
   "name": "python",
   "nbconvert_exporter": "python",
   "pygments_lexer": "ipython3",
   "version": "3.8.5"
  }
 },
 "nbformat": 4,
 "nbformat_minor": 4
}
