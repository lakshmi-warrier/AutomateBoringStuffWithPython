{
 "cells": [
  {
   "cell_type": "code",
   "execution_count": 1,
   "metadata": {},
   "outputs": [],
   "source": [
    "import pyautogui"
   ]
  },
  {
   "cell_type": "markdown",
   "metadata": {},
   "source": [
    "### 1. How can you trigger PyAutoGUI’s fail-safe to stop a program?\n",
    "> Move the mouse cursor forcefully to any of the 4 corners of the screen"
   ]
  },
  {
   "cell_type": "markdown",
   "metadata": {},
   "source": [
    "### 2. What function returns the current resolution()?"
   ]
  },
  {
   "cell_type": "code",
   "execution_count": 2,
   "metadata": {},
   "outputs": [
    {
     "data": {
      "text/plain": [
       "Size(width=1920, height=1080)"
      ]
     },
     "execution_count": 2,
     "metadata": {},
     "output_type": "execute_result"
    }
   ],
   "source": [
    "pyautogui.size()"
   ]
  },
  {
   "cell_type": "markdown",
   "metadata": {},
   "source": [
    "### 3. What function returns the coordinates for the mouse cursor’s current position?"
   ]
  },
  {
   "cell_type": "code",
   "execution_count": 31,
   "metadata": {},
   "outputs": [
    {
     "data": {
      "text/plain": [
       "Point(x=602, y=734)"
      ]
     },
     "execution_count": 31,
     "metadata": {},
     "output_type": "execute_result"
    }
   ],
   "source": [
    "pyautogui.position()"
   ]
  },
  {
   "cell_type": "markdown",
   "metadata": {},
   "source": [
    "### 4. What is the difference between `pyautogui.moveTo()` and `pyautogui.move()`?\n",
    "`moveTo()` deals with movement to an absolute position while `move()` deals with mouse movement relative to the particular point where the cursor is"
   ]
  },
  {
   "cell_type": "markdown",
   "metadata": {},
   "source": [
    "### 5. What functions can be used to drag the mouse?\n",
    "`pyautogui.dragTo()` and `pyautogui.drag()`"
   ]
  },
  {
   "cell_type": "markdown",
   "metadata": {},
   "source": [
    "### 6. What function call will type out the characters of \"Hello, world!\"?\n",
    "> `pyautogui.write(word, delay)`"
   ]
  },
  {
   "cell_type": "markdown",
   "metadata": {},
   "source": [
    "### 7. How can you do keypresses for special keys such as the keyboard’s left arrow key?\n",
    "> `pyautogui.write('left')`"
   ]
  },
  {
   "cell_type": "markdown",
   "metadata": {},
   "source": [
    "### 8. How can you save the current contents of the screen to an image file named screenshot.png?\n",
    "> `pyautogui.screenshot('screenshot.png')`"
   ]
  },
  {
   "cell_type": "markdown",
   "metadata": {},
   "source": [
    "### 9. What code would set a two-second pause after every PyAutoGUI function call?\n",
    "> `pyautogui.PAUSE = 2`"
   ]
  },
  {
   "cell_type": "markdown",
   "metadata": {},
   "source": [
    "### 10. If you want to automate clicks and keystrokes inside a web browser, should you use PyAutoGUI or Selenium?\n",
    "> Both works. Selenium would be better as it doesn't click on elements blindly"
   ]
  },
  {
   "cell_type": "markdown",
   "metadata": {},
   "source": [
    "### 11. What makes PyAutoGUI error-prone?\n",
    "> Unlike Selenium, it clicks and types onto windows blindly and we cannot easily find if it is doing stuffs right. Also, unexpected pop-ups and alerts can mess up the program "
   ]
  },
  {
   "cell_type": "markdown",
   "metadata": {},
   "source": [
    "### 12. How can you find the size of every window on the screen that includes the text Notepad in its title?\n",
    "> `pyautogui.getWindowsWithTitle('Notepad')`"
   ]
  },
  {
   "cell_type": "code",
   "execution_count": 10,
   "metadata": {},
   "outputs": [
    {
     "ename": "AttributeError",
     "evalue": "module 'pyautogui' has no attribute 'getWindowsWithTitle'",
     "output_type": "error",
     "traceback": [
      "\u001b[0;31m---------------------------------------------------------------------------\u001b[0m",
      "\u001b[0;31mAttributeError\u001b[0m                            Traceback (most recent call last)",
      "\u001b[0;32m<ipython-input-10-09ba6e95c178>\u001b[0m in \u001b[0;36m<module>\u001b[0;34m\u001b[0m\n\u001b[0;32m----> 1\u001b[0;31m \u001b[0mpyautogui\u001b[0m\u001b[0;34m.\u001b[0m\u001b[0mgetWindowsWithTitle\u001b[0m\u001b[0;34m(\u001b[0m\u001b[0;34m'Text Editor'\u001b[0m\u001b[0;34m)\u001b[0m\u001b[0;34m\u001b[0m\u001b[0;34m\u001b[0m\u001b[0m\n\u001b[0m",
      "\u001b[0;31mAttributeError\u001b[0m: module 'pyautogui' has no attribute 'getWindowsWithTitle'"
     ]
    }
   ],
   "source": [
    "pyautogui.getWindowsWithTitle('Text Editor')"
   ]
  },
  {
   "cell_type": "markdown",
   "metadata": {},
   "source": [
    "### 13. How can you make, say, the Firefox browser active and in front of every other window on the screen?\n",
    "```Python\n",
    "w = pyatuogui.getWindowsWithTitle('Firefox')`\n",
    "w.activate()\n",
    "```"
   ]
  },
  {
   "cell_type": "markdown",
   "metadata": {},
   "source": [
    "### LOOKING BUSY"
   ]
  },
  {
   "cell_type": "code",
   "execution_count": 13,
   "metadata": {},
   "outputs": [
    {
     "name": "stdout",
     "output_type": "stream",
     "text": [
      "Done\n"
     ]
    }
   ],
   "source": [
    "try:\n",
    "    while True:\n",
    "        pyautogui.moveRel(5, 0, 0.5)\n",
    "        pyautogui.moveRel(-5, 0, 0.5)\n",
    "        time.sleep(10)\n",
    "except:\n",
    "    print(\"Done\")\n",
    "    # stops when either the mouse is taken to corner or ctrl-c is pressed"
   ]
  },
  {
   "cell_type": "markdown",
   "metadata": {},
   "source": [
    "###"
   ]
  },
  {
   "cell_type": "markdown",
   "metadata": {},
   "source": [
    "## PLAYGROUND"
   ]
  },
  {
   "cell_type": "code",
   "execution_count": 8,
   "metadata": {},
   "outputs": [
    {
     "name": "stdout",
     "output_type": "stream",
     "text": [
      "Bye\n"
     ]
    }
   ],
   "source": [
    " try:\n",
    "    for i in range(5): # Move mouse in a square.\n",
    "        pyautogui.moveTo(100, 100, duration=0.25)\n",
    "        pyautogui.moveTo(200, 100, duration=0.25)\n",
    "        pyautogui.moveTo(200, 200, duration=0.25)\n",
    "        pyautogui.moveTo(100, 200, duration=0.25)\n",
    "except:\n",
    "    print(\"Bye\")\n",
    "    #handling FailSafeException"
   ]
  },
  {
   "cell_type": "code",
   "execution_count": 15,
   "metadata": {},
   "outputs": [],
   "source": [
    "pyautogui.click(100, 700, button='right')"
   ]
  },
  {
   "cell_type": "code",
   "execution_count": 10,
   "metadata": {},
   "outputs": [
    {
     "data": {
      "text/plain": [
       "Point(x=721, y=747)"
      ]
     },
     "execution_count": 10,
     "metadata": {},
     "output_type": "execute_result"
    }
   ],
   "source": [
    "pyautogui.position()"
   ]
  },
  {
   "cell_type": "code",
   "execution_count": null,
   "metadata": {},
   "outputs": [],
   "source": [
    "pyautogui.click(100, 700, button='right')"
   ]
  },
  {
   "cell_type": "code",
   "execution_count": 23,
   "metadata": {},
   "outputs": [],
   "source": [
    "\n",
    "import pyautogui, time\n",
    "time.sleep(5)\n",
    "pyautogui.click()    # Click to make the window active.\n",
    "distance = 300\n",
    "change = 20\n",
    "while distance > 0:\n",
    "    pyautogui.drag(distance, 0, duration=0.2)   # Move right.\n",
    "    distance = distance - change\n",
    "    pyautogui.drag(0, distance, duration=0.2)   # Move down.\n",
    "    pyautogui.drag(-distance, 0, duration=0.2)  # Move left.\n",
    "    distance = distance - change\n",
    "    pyautogui.drag(0, -distance, duration=0.2)  # Move up.\n"
   ]
  },
  {
   "cell_type": "code",
   "execution_count": 32,
   "metadata": {},
   "outputs": [],
   "source": [
    "time.sleep(5)\n",
    "pyautogui.click(100, 200); pyautogui.typewrite('Hello, world!',0.25)\n",
    "pyautogui.write(['a', 'b', 'left', 'left', 'X', 'Y'])\n",
    "pyautogui.keyDown('shift'); pyautogui.press('4'); pyautogui.press('0')"
   ]
  },
  {
   "cell_type": "code",
   "execution_count": 5,
   "metadata": {},
   "outputs": [],
   "source": [
    "import pyautogui, time\n",
    "time.sleep(5)\n",
    "pyautogui.click(100, 200); pyautogui.typewrite('Hello, world!', 0.15)"
   ]
  }
 ],
 "metadata": {
  "kernelspec": {
   "display_name": "Python 3",
   "language": "python",
   "name": "python3"
  },
  "language_info": {
   "codemirror_mode": {
    "name": "ipython",
    "version": 3
   },
   "file_extension": ".py",
   "mimetype": "text/x-python",
   "name": "python",
   "nbconvert_exporter": "python",
   "pygments_lexer": "ipython3",
   "version": "3.8.5"
  }
 },
 "nbformat": 4,
 "nbformat_minor": 4
}
