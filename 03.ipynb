{
  "nbformat": 4,
  "nbformat_minor": 0,
  "metadata": {
    "colab": {
      "name": "03.ipynb",
      "provenance": [],
      "collapsed_sections": []
    },
    "kernelspec": {
      "name": "python3",
      "display_name": "Python 3"
    }
  },
  "cells": [
    {
      "cell_type": "markdown",
      "metadata": {
        "id": "tAcaUhtKJ76V"
      },
      "source": [
        "#### 1. Why are functions advantageous to have in your programs?"
      ]
    },
    {
      "cell_type": "markdown",
      "metadata": {
        "id": "uumsivyTKBED"
      },
      "source": [
        "- Functions organize code into chunks of easily readable code\r\n",
        "- It helps to debug\r\n",
        "- It saves a lot of copy-pasting\r\n",
        "- Reduces the number of lines in a code\r\n",
        "- It makes it easier to keep track of all the variables defined"
      ]
    },
    {
      "cell_type": "markdown",
      "metadata": {
        "id": "ExjCHbGEroYp"
      },
      "source": [
        "#### 2. When does the code in a function execute: when the function is defined or when the function is called?"
      ]
    },
    {
      "cell_type": "markdown",
      "metadata": {
        "id": "X_4AQYoWrtIi"
      },
      "source": [
        "> when it is called"
      ]
    },
    {
      "cell_type": "markdown",
      "metadata": {
        "id": "Puspf9lQslDW"
      },
      "source": [
        "#### 3. What statement creates a function?"
      ]
    },
    {
      "cell_type": "markdown",
      "metadata": {
        "id": "6YWgcWS5sqla"
      },
      "source": [
        "> def"
      ]
    },
    {
      "cell_type": "markdown",
      "metadata": {
        "id": "2pggZ9l5sn8f"
      },
      "source": [
        "#### 4. What is the difference between a function and a function call?"
      ]
    },
    {
      "cell_type": "markdown",
      "metadata": {
        "id": "_wHkJtles_CK"
      },
      "source": [
        "> A function is a set of instructions/statements while function call is a statement that calles the function from anywhere in the program"
      ]
    },
    {
      "cell_type": "markdown",
      "metadata": {
        "id": "MD0xI-RmsnFn"
      },
      "source": [
        "#### 5. How many global scopes are there in a Python program? How many local scopes?"
      ]
    },
    {
      "cell_type": "markdown",
      "metadata": {
        "id": "2X6ldZvetRjK"
      },
      "source": [
        "> There is only one global scope but there can be multiple local scopes in Python program"
      ]
    },
    {
      "cell_type": "markdown",
      "metadata": {
        "id": "TvDbRAS0slKF"
      },
      "source": [
        "#### 6. What happens to variables in a local scope when the function call returns?"
      ]
    },
    {
      "cell_type": "markdown",
      "metadata": {
        "id": "QLNjc2FSuIjS"
      },
      "source": [
        "> It is destroyed\r\n"
      ]
    },
    {
      "cell_type": "markdown",
      "metadata": {
        "id": "9bCmOm6oslQE"
      },
      "source": [
        "#### 7. What is a return value? Can a return value be part of an expression?"
      ]
    },
    {
      "cell_type": "markdown",
      "metadata": {
        "id": "iYGr17PNvEQZ"
      },
      "source": [
        "> Return value is a value that a function evaluates to. Return value can be a part of an expression"
      ]
    },
    {
      "cell_type": "markdown",
      "metadata": {
        "id": "1s__yE1WslTc"
      },
      "source": [
        "#### 8. If a function does not have a return statement, what is the return value of a call to that function?"
      ]
    },
    {
      "cell_type": "markdown",
      "metadata": {
        "id": "pk9TJPitwc_A"
      },
      "source": [
        "``` None ```"
      ]
    },
    {
      "cell_type": "markdown",
      "metadata": {
        "id": "guC2IjF9slWG"
      },
      "source": [
        "#### 9. How can you force a variable in a function to refer to the global variable?"
      ]
    },
    {
      "cell_type": "markdown",
      "metadata": {
        "id": "_ncrxwBZxM1R"
      },
      "source": [
        "> By using a ```global``` statement on the variable"
      ]
    },
    {
      "cell_type": "markdown",
      "metadata": {
        "id": "vwtUTMQsxfCZ"
      },
      "source": [
        "#### 10. What is the data type of None?"
      ]
    },
    {
      "cell_type": "markdown",
      "metadata": {
        "id": "fI0qUObMxmgp"
      },
      "source": [
        "> ``` NoneType```"
      ]
    },
    {
      "cell_type": "markdown",
      "metadata": {
        "id": "wc_SkFd4xg-j"
      },
      "source": [
        "#### 11. What does the ```import areallyourpetsnamederic``` statement do?"
      ]
    },
    {
      "cell_type": "markdown",
      "metadata": {
        "id": "Dg6UGUojxhp3"
      },
      "source": [
        "#### 12. If you had a function named bacon() in a module named spam, how would you call it after importing spam?"
      ]
    },
    {
      "cell_type": "markdown",
      "metadata": {
        "id": "7POVmB_2yXRA"
      },
      "source": [
        "> ```spam.beacon()```"
      ]
    },
    {
      "cell_type": "markdown",
      "metadata": {
        "id": "mv94ZeBPxhvA"
      },
      "source": [
        "#### 13. How can you prevent a program from crashing when it gets an error?"
      ]
    },
    {
      "cell_type": "markdown",
      "metadata": {
        "id": "vueshX4ryd5j"
      },
      "source": [
        "> By using a try-except block"
      ]
    },
    {
      "cell_type": "markdown",
      "metadata": {
        "id": "Ixt0LVvkxhxn"
      },
      "source": [
        "#### 14. What goes in the try clause? What goes in the except clause?"
      ]
    },
    {
      "cell_type": "markdown",
      "metadata": {
        "id": "sy9JlG6py8Aw"
      },
      "source": [
        "> The code that could potentially have an error is put in a try clause. The program execution moves to the start of a following except clause if an error happens."
      ]
    },
    {
      "cell_type": "markdown",
      "metadata": {
        "id": "cuP-szyrxh0l"
      },
      "source": [
        "#### COLLATZ SEQUENCE"
      ]
    },
    {
      "cell_type": "code",
      "metadata": {
        "colab": {
          "base_uri": "https://localhost:8080/"
        },
        "id": "tVfy_NVBrsoK",
        "outputId": "ebe62d89-64f9-4332-c81d-a9aaa9413df5"
      },
      "source": [
        "def collatz(number):\r\n",
        "  if number%2==0:\r\n",
        "    return number//2\r\n",
        "  else:\r\n",
        "    return 3*number+1\r\n",
        "\r\n",
        "try:\r\n",
        "  number = int(input(\"Enter Number \"))\r\n",
        "except ValueError:\r\n",
        "  number = int(input(\"Try Again, enter an integer \"))\r\n",
        "while(number!=1):\r\n",
        "  number = collatz(number)\r\n",
        "  print(number)\r\n"
      ],
      "execution_count": null,
      "outputs": [
        {
          "output_type": "stream",
          "text": [
            "Enter Number we\n",
            "Try Again, enter an integer 123\n",
            "370\n",
            "185\n",
            "556\n",
            "278\n",
            "139\n",
            "418\n",
            "209\n",
            "628\n",
            "314\n",
            "157\n",
            "472\n",
            "236\n",
            "118\n",
            "59\n",
            "178\n",
            "89\n",
            "268\n",
            "134\n",
            "67\n",
            "202\n",
            "101\n",
            "304\n",
            "152\n",
            "76\n",
            "38\n",
            "19\n",
            "58\n",
            "29\n",
            "88\n",
            "44\n",
            "22\n",
            "11\n",
            "34\n",
            "17\n",
            "52\n",
            "26\n",
            "13\n",
            "40\n",
            "20\n",
            "10\n",
            "5\n",
            "16\n",
            "8\n",
            "4\n",
            "2\n",
            "1\n"
          ],
          "name": "stdout"
        }
      ]
    },
    {
      "cell_type": "code",
      "metadata": {
        "id": "G05v47DozY2c"
      },
      "source": [
        ""
      ],
      "execution_count": null,
      "outputs": []
    },
    {
      "cell_type": "code",
      "metadata": {
        "id": "cLGKKm0tJzjG"
      },
      "source": [
        ""
      ],
      "execution_count": null,
      "outputs": []
    }
  ]
}