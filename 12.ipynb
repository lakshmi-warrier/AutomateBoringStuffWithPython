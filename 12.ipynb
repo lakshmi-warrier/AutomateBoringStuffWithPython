{
 "cells": [
  {
   "cell_type": "code",
   "execution_count": null,
   "metadata": {},
   "outputs": [],
   "source": [
    "import webbrowser, requests, bs4\n",
    "#webbrowser.open('https://inventwithpython.com/')"
   ]
  },
  {
   "cell_type": "markdown",
   "metadata": {},
   "source": [
    "## NOTES:\n",
    "- `soup.select('css_selector')` - to retrieve the web page element\n",
    "- `soup.select('div')`  All elements named `<div>`\n",
    "- `soup.select('#author')`  The element with an id attribute of author\n",
    "- `soup.select('.notice')`   All elements that use a CSS class attribute named notice\n",
    "- `soup.select('div span')`  All elements named `<span>` that are within an element named `<div>`\n",
    "- `soup.select('div > span')`  All elements named `<span>` that are directly within an element named `<div>`, with no other element in between\n",
    "- `soup.select('input[name]')`  All elements named `<input>` that have a name attribute with any value\n",
    "- `soup.select('input[type=\"button\"]')`  All elements named `<input>` that have an attribute named type with value button\n",
    "\n",
    "- ```Python\n",
    "elems = soup.select('#author')\n",
    "elems[0].attrs\n",
    "```\n",
    "will return `{id: author, class_name: author}` and so on\n",
    "- ```Python \n",
    " str(elems[0])\n",
    " ``` \n",
    " will return the element with its opening and closing tags"
   ]
  },
  {
   "cell_type": "markdown",
   "metadata": {},
   "source": [
    "### 1. Briefly describe the differences between the webbrowser, requests, bs4, and selenium modules.\n",
    "- webbrowser can open urls\n",
    "- requests can download web pages\n",
    "- bs4 is used toparse through the html pages\n",
    "- selenium can directly control the web browser"
   ]
  },
  {
   "cell_type": "markdown",
   "metadata": {},
   "source": [
    "### 2. What type of object is returned by requests.get()? How can you access the downloaded content as a string value?\n",
    "> `Response`\n"
   ]
  },
  {
   "cell_type": "markdown",
   "metadata": {},
   "source": [
    "### 3. What requests method checks that the download worked?\n",
    "\n",
    ">`res.raise_for_status()`"
   ]
  },
  {
   "cell_type": "markdown",
   "metadata": {},
   "source": [
    "### 4. How can you get the HTTP status code of a requests response?\n",
    "> `result.status_code()`"
   ]
  },
  {
   "cell_type": "markdown",
   "metadata": {},
   "source": [
    "### 5. How do you save a requests response to a file?\n",
    "> as `chunks`: \n",
    "```Python\n",
    "file = open(url, 'wb')\n",
    "for chunk in res.iter_content(100000):\n",
    "    file.write(chunk)\n",
    "```"
   ]
  },
  {
   "cell_type": "markdown",
   "metadata": {},
   "source": [
    "### 6. What is the keyboard shortcut for opening a browser’s developer tools?\n",
    "<kbd> Ctrl </kbd> + <kbd>Shift</kbd> + <kbd> C </kbd>"
   ]
  },
  {
   "cell_type": "markdown",
   "metadata": {},
   "source": [
    "### 7. How can you view (in the developer tools) the HTML of a specific element on a web page?\n",
    "> right-click on the element and <kbd>Ctrl</kbd> + <kbd>I</kbd>"
   ]
  },
  {
   "cell_type": "markdown",
   "metadata": {},
   "source": [
    "### 8. What is the CSS selector string that would find the element with an id attribute of main?\n",
    ">`#main`"
   ]
  },
  {
   "cell_type": "markdown",
   "metadata": {},
   "source": [
    "### 9. What is the CSS selector string that would find the elements with a CSS class of highlight?\n",
    "> `.highlight`"
   ]
  },
  {
   "cell_type": "markdown",
   "metadata": {},
   "source": [
    "### 10. What is the CSS selector string that would find all the `<div>` elements inside another `<div>` element?\n"
   ]
  },
  {
   "cell_type": "markdown",
   "metadata": {},
   "source": [
    "> `div div `"
   ]
  },
  {
   "cell_type": "markdown",
   "metadata": {},
   "source": [
    "### 11. What is the CSS selector string that would find the `<button>` element with a value attribute set to favorite?\n",
    "> `'button[value=\"favorite\"]'`"
   ]
  },
  {
   "cell_type": "markdown",
   "metadata": {},
   "source": [
    "### 12. Say you have a Beautiful Soup Tag object stored in the variable spam for the element `<div>` Hello, world!`</div>`. How could you get a string 'Hello, world!' from the Tag object?\n",
    "> `spam.getText()`"
   ]
  },
  {
   "cell_type": "markdown",
   "metadata": {},
   "source": [
    "### 13. How would you store all the attributes of a Beautiful Soup Tag object in a variable named linkElem?\n",
    "> `linkElem.attrs`"
   ]
  },
  {
   "cell_type": "markdown",
   "metadata": {},
   "source": [
    "### 14. Running import selenium doesn’t work. How do you properly import the selenium module?\n",
    "> `from selenium import webdriver`"
   ]
  },
  {
   "cell_type": "markdown",
   "metadata": {},
   "source": [
    "### 15. What’s the difference between the find_element_* and find_elements_* methods?\n",
    "- `find_element` returns first matching element\n",
    "- `find_elements` returns a list of all matching elements"
   ]
  },
  {
   "cell_type": "markdown",
   "metadata": {},
   "source": [
    "### 16. What methods do Selenium’s WebElement objects have for simulating mouse clicks and keyboard keys?\n",
    "> `click()` to simulate mouse-click and `send_keys()` to simulate keyboard keys"
   ]
  },
  {
   "cell_type": "markdown",
   "metadata": {},
   "source": [
    "### 17. You could call send_keys(Keys.ENTER) on the Submit button’s WebElement object, but what is an easier way to submit a form with selenium?\n",
    "> `submit()` method"
   ]
  },
  {
   "cell_type": "markdown",
   "metadata": {},
   "source": [
    "### 18. How can you simulate clicking a browser’s Forward, Back, and Refresh buttons with selenium?\n",
    "`forward()`, `back()` and `refresh()` simulates forward, backward and refresh buttons"
   ]
  },
  {
   "cell_type": "markdown",
   "metadata": {},
   "source": [
    "## 2048"
   ]
  },
  {
   "cell_type": "code",
   "execution_count": 2,
   "metadata": {},
   "outputs": [],
   "source": [
    "from selenium import webdriver\n",
    "from selenium.webdriver.common.keys import Keys\n",
    "\n",
    "driver = webdriver.Chrome()\n",
    "driver.get('https://gabrielecirulli.github.io/2048/')\n",
    "html_elem = driver.find_element_by_tag_name('html')\n",
    "\n",
    "while True:\n",
    "    html_elem.send_keys(Keys.UP)\n",
    "    html_elem.send_keys(Keys.RIGHT)\n",
    "    html_elem.send_keys(Keys.DOWN)\n",
    "    html_elem.send_keys(Keys.LEFT)"
   ]
  },
  {
   "cell_type": "markdown",
   "metadata": {},
   "source": [
    "## LINK VERIFICATION"
   ]
  },
  {
   "cell_type": "code",
   "execution_count": null,
   "metadata": {},
   "outputs": [],
   "source": [
    "import requests\n",
    "import bs4\n",
    "\n",
    "url = input('Enter the URL to verify the links: ')\n",
    "ok = True\n",
    "try:\n",
    "\n",
    "    res = requests.get(url)\n",
    "    res.raise_for_status()\n",
    "except Exception as e:\n",
    "    print(e)\n",
    "\n",
    "if ok:\n",
    "    soup = bs4.BeautifulSoup(res.text, 'html.parser')\n",
    "    links = soup.select('a')\n",
    "\n",
    "    for link in links:\n",
    "        try:\n",
    "            unmade_url = link['href']\n",
    "            if unmade_url.startswith('http'):\n",
    "                to_check = unmade_url\n",
    "\n",
    "            elif unmade_url.startswith('//'):\n",
    "                to_check = 'https:' + unmade_url\n",
    "\n",
    "            elif unmade_url.startswith('#'):\n",
    "                to_check = url + unmade_url\n",
    "\n",
    "            result = requests.get(to_check)\n",
    "\n",
    "            if result.status_code == 404:\n",
    "                print(f\"Broken Link: {link}\")\n",
    "        except:\n",
    "            pass\n",
    "\n",
    "print('Links processed')"
   ]
  },
  {
   "cell_type": "markdown",
   "metadata": {},
   "source": [
    "## COMMAND LINE EMAILER"
   ]
  },
  {
   "cell_type": "code",
   "execution_count": null,
   "metadata": {},
   "outputs": [],
   "source": [
    "import selenium\n",
    "from selenium import webdriver\n",
    "\n",
    "path = 'PATH_OF_CHROMEDRIVER'\n",
    "driver = webdriver.Chrome(path)\n",
    "driver.get('https://accounts.google.com/signin/v2/identifier?service=mail&passive=true&rm=false&continue=https%3A%2F%2Fmail.google.com%2Fmail%2F&ss=1&scc=1&ltmpl=default&ltmplcache=2&emr=1&osid=1&flowName=GlifWebSignIn&flowEntry=ServiceLogin')\n",
    "toID = 'to_ID'\n",
    "msg='Message'\n",
    "driver.find_element_by_id('identifierId').send_keys('MAIL_ID')\n",
    "driver.find_element_by_class_name('VfPpkd-RLmnJb').click()\n",
    "driver.find_element_by_xpath('//*[@id =\"password\"]/div[1]/div / div[1]/input') .send_keys('Password')\n",
    "driver.find_element_by_xpath('//*[@id=\":3c\"]/div/div').click()\n",
    "driver.find_element_by_css_selector('#\\:8m > div').send_keys(toID)\n",
    "driver.find_element_by_xpath('//*[@id=\":9m\"]').send_keys(msg)\n",
    "driver.find_element_by_css_selector('#\\:87').click()"
   ]
  }
 ],
 "metadata": {
  "kernelspec": {
   "display_name": "Python 3",
   "language": "python",
   "name": "python3"
  },
  "language_info": {
   "codemirror_mode": {
    "name": "ipython",
    "version": 3
   },
   "file_extension": ".py",
   "mimetype": "text/x-python",
   "name": "python",
   "nbconvert_exporter": "python",
   "pygments_lexer": "ipython3",
   "version": "3.8.5"
  }
 },
 "nbformat": 4,
 "nbformat_minor": 4
}
