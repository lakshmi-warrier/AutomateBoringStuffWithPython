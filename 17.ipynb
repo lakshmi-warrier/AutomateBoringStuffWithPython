{
 "cells": [
  {
   "cell_type": "markdown",
   "metadata": {},
   "source": [
    "### 1. What is the Unix epoch?\n",
    "> It's a time that serves as reference for any time-related things. It is January 1, 1970, UTC."
   ]
  },
  {
   "cell_type": "markdown",
   "metadata": {},
   "source": [
    "### 2. What function returns the number of seconds since the Unix epoch?\n",
    "> `time.time()`"
   ]
  },
  {
   "cell_type": "markdown",
   "metadata": {},
   "source": [
    "### 3. How can you pause your program for exactly 5 seconds?\n",
    "> `time.sleep(5)`"
   ]
  },
  {
   "cell_type": "markdown",
   "metadata": {},
   "source": [
    "### 4. What does the round() function return?\n",
    "- returns closest integer to the argument, if only one agrument -an integer, is passed\n",
    "-  returns a time with `n` number of digits after decimal point if the second argument is n and the first argument is a time."
   ]
  },
  {
   "cell_type": "markdown",
   "metadata": {},
   "source": [
    "### 5. What is the difference between a datetime object and a timedelta object?\n",
    "- a `datetime` object is a specific time \n",
    "- `timedelta` object is difference between two times, it's a duration."
   ]
  },
  {
   "cell_type": "markdown",
   "metadata": {},
   "source": [
    "### 6. Using the datetime module, what day of the week was January 7, 2019?\n"
   ]
  },
  {
   "cell_type": "code",
   "execution_count": 3,
   "metadata": {},
   "outputs": [
    {
     "data": {
      "text/plain": [
       "0"
      ]
     },
     "execution_count": 3,
     "metadata": {},
     "output_type": "execute_result"
    }
   ],
   "source": [
    "import datetime\n",
    "datetime.datetime(2019, 1, 7).weekday()"
   ]
  },
  {
   "cell_type": "markdown",
   "metadata": {},
   "source": [
    "the output is 0, which means January 7, 2019 was a Monday."
   ]
  },
  {
   "cell_type": "markdown",
   "metadata": {},
   "source": [
    "### 7. Say you have a function named spam(). How can you call this function and run the code inside it in a separate thread?\n",
    "> `threadObj = threading.Thread(target=spam) threadObj.start()`"
   ]
  },
  {
   "cell_type": "markdown",
   "metadata": {},
   "source": [
    "### 8. What should you do to avoid concurrency issues with multiple threads?\n",
    "> Don't try to access same variable from different threads"
   ]
  },
  {
   "cell_type": "code",
   "execution_count": 7,
   "metadata": {},
   "outputs": [
    {
     "name": "stdout",
     "output_type": "stream",
     "text": [
      "Press ENTER to begin. Afterwards, press ENTER to \"click\" the stopwatch. Press Ctrl-C to quit.\n",
      "\n",
      "Started.\n",
      "\n",
      "Lap # 1:   1.34    1.34\n",
      "Lap # 2:   2.75    1.41\n",
      "Lap # 3:   4.2     1.45\n",
      "Lap # 4:   5.8      1.6\n",
      "Lap # 5:   7.1      1.3\n",
      "Done and results are copied\n"
     ]
    }
   ],
   "source": [
    "import pyperclip, time\n",
    "print('Press ENTER to begin. Afterwards, press ENTER to \"click\" the stopwatch. Press Ctrl-C to quit.')\n",
    "\n",
    "input()                    # press Enter to begin\n",
    "print('Started.')\n",
    "clip = ''\n",
    "startTime = time.time()    # get the first lap's start time\n",
    "lastTime = startTime\n",
    "lapNum = 1\n",
    "\n",
    "# Start tracking the lap times.\n",
    "try:\n",
    "    while True:\n",
    "        input()\n",
    "        lapTime = round(time.time() - lastTime, 2)\n",
    "        totalTime = round(time.time() - startTime, 2)\n",
    "        info = f'Lap #{str(lapNum).rjust(2)}: {str(totalTime).center(7)} {str(lapTime).rjust(6)}'\n",
    "        clip += info + '\\n'\n",
    "        print(info, end='')\n",
    "        lapNum += 1\n",
    "        lastTime = time.time() # reset the last lap time\n",
    "except KeyboardInterrupt:\n",
    "    pyperclip.copy(clip)\n",
    "    print('\\nDone and results are copied')"
   ]
  }
 ],
 "metadata": {
  "kernelspec": {
   "display_name": "Python 3",
   "language": "python",
   "name": "python3"
  },
  "language_info": {
   "codemirror_mode": {
    "name": "ipython",
    "version": 3
   },
   "file_extension": ".py",
   "mimetype": "text/x-python",
   "name": "python",
   "nbconvert_exporter": "python",
   "pygments_lexer": "ipython3",
   "version": "3.8.5"
  }
 },
 "nbformat": 4,
 "nbformat_minor": 4
}
