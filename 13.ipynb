{
 "cells": [
  {
   "cell_type": "markdown",
   "metadata": {},
   "source": [
    "### SHEET INVERTER"
   ]
  },
  {
   "cell_type": "code",
   "execution_count": null,
   "metadata": {},
   "outputs": [],
   "source": [
    "import openpyxl\n",
    "from openpyxl import Workbook\n",
    "\n",
    "wb = Workbook()\n",
    "ws = wb.active\n",
    "\n",
    "wb_vegList = openpyxl.load_workbook('VegList.xlsx')\n",
    "ws_veg = wb_vegList.active\n",
    "for row in range(1, ws_veg.max_row+1):\n",
    "    for col in range(1, ws_veg.max_column+1):\n",
    "        ws.cell(row=col, column=row).value = ws_veg.cell(row=row, column=col).value\n",
    "\n",
    "wb.save('VegListTranspose.xlsx')\n"
   ]
  },
  {
   "cell_type": "markdown",
   "metadata": {},
   "source": [
    "### BLANK ROW INSERTER"
   ]
  },
  {
   "cell_type": "code",
   "execution_count": null,
   "metadata": {},
   "outputs": [],
   "source": [
    "import openpyxl, sys\n",
    "from openpyxl import Workbook\n",
    "\n",
    "wb = Workbook()\n",
    "ws = wb.active\n",
    "\n",
    "print(len(sys.argv))\n",
    "if len(sys.argv) == 4:\n",
    "    start = int(sys.argv[1])\n",
    "    stop = int(sys.argv[2])\n",
    "    file = sys.argv[3]\n",
    "    print(start, stop,file)\n",
    "    wb_vegList = openpyxl.load_workbook(file)\n",
    "    ws_veg = wb_vegList.active\n",
    "\n",
    "    for row in range(1, ws_veg.max_row +1 ):\n",
    "        for col in range(1, ws_veg.max_column + 1):\n",
    "            n = stop\n",
    "            if row<start:\n",
    "                n = 0\n",
    "            ws.cell(row=row+n, column=col).value = ws_veg.cell(row=row, column=col).value\n",
    "            print(ws_veg.cell(row=row, column=col).value)\n",
    "\n",
    "wb.save('VegListWithBlanks.xlsx')\n"
   ]
  },
  {
   "cell_type": "markdown",
   "metadata": {},
   "source": [
    "### SPREADSHEET TO TEXT FILE"
   ]
  },
  {
   "cell_type": "code",
   "execution_count": null,
   "metadata": {},
   "outputs": [],
   "source": [
    "import openpyxl, os\n",
    "from openpyxl import Workbook\n",
    "from openpyxl.utils.cell import get_column_letter\n",
    "\n",
    "wb = openpyxl.load_workbook('Txt2SS.xlsx')\n",
    "ws = wb.active\n",
    "\n",
    "for col in range(1, ws.max_column+1):\n",
    "    file = open(f'col_{col}.txt','a')\n",
    "    for row in range(1, ws.max_row+1):\n",
    "        file.write(ws.cell(row=row, column=col).value + '\\n')\n",
    "\n",
    "    file.close()"
   ]
  },
  {
   "cell_type": "markdown",
   "metadata": {},
   "source": [
    "### TEXT TO SPREADSHEET"
   ]
  },
  {
   "cell_type": "code",
   "execution_count": null,
   "metadata": {},
   "outputs": [],
   "source": [
    "import os, openpyxl as xl\n",
    "from openpyxl import Workbook\n",
    "\n",
    "wb = Workbook()\n",
    "ws = wb.active\n",
    "\n",
    "colNum = 0\n",
    "rowNum = 0\n",
    "\n",
    "for folderName, subfolders, filenames in os.walk(os.getcwd()):\n",
    "    for filename in filenames:\n",
    "        if filename.endswith('.txt'):\n",
    "            colNum =+ 1\n",
    "            \n",
    "            txtfile = open(filename)\n",
    "            text = txtfile.readlines()\n",
    "            for line in text:\n",
    "                rowNum += 1\n",
    "                ws.cell(row=rowNum, column = colNum).value = line\n",
    "\n",
    "wb.save('Txt2SS.xlsx')\n"
   ]
  },
  {
   "cell_type": "markdown",
   "metadata": {},
   "source": [
    "### MULTIPLICATION TABLE"
   ]
  },
  {
   "cell_type": "code",
   "execution_count": 2,
   "metadata": {},
   "outputs": [
    {
     "name": "stdout",
     "output_type": "stream",
     "text": [
      "Argument should be a number\n"
     ]
    }
   ],
   "source": [
    "import openpyxl, sys\n",
    "from openpyxl.styles import Font\n",
    "\n",
    "if len(sys.argv) == 2 and sys.argv[1].isnumeric():\n",
    "    num = int(sys.argv[1])\n",
    "    wb = openpyxl.Workbook()\n",
    "    sheet = wb.active\n",
    "    for y in range(num + 1):\n",
    "        for x in range(num + 1):\n",
    "            cell = sheet.cell(row = y + 1, column = x + 1)\n",
    "            # Check if in header row or column.\n",
    "            isHeader = False\n",
    "\n",
    "            if x == 0 and y == 0:\n",
    "                isHeader = True\n",
    "                product = ''\n",
    "            elif x == 0:\n",
    "                isHeader = True\n",
    "                product = y\n",
    "\n",
    "            elif y == 0:\n",
    "                isHeader = True\n",
    "                product = x\n",
    "\n",
    "            else:\n",
    "                product = x * y\n",
    "            if isHeader:\n",
    "                cell.font = Font(bold = True)\n",
    "            \n",
    "            cell.value = product\n",
    "        wb.save(f\"multiplication_table_{num}.xlsx\")\t\n",
    "    print(f'Saved as multiplication_table_{num}.xlsx')\n",
    "\n",
    "else:\n",
    "    print('Argument should be a number')\n"
   ]
  }
 ],
 "metadata": {
  "kernelspec": {
   "display_name": "Python 3",
   "language": "python",
   "name": "python3"
  },
  "language_info": {
   "codemirror_mode": {
    "name": "ipython",
    "version": 3
   },
   "file_extension": ".py",
   "mimetype": "text/x-python",
   "name": "python",
   "nbconvert_exporter": "python",
   "pygments_lexer": "ipython3",
   "version": "3.8.5"
  }
 },
 "nbformat": 4,
 "nbformat_minor": 4
}
